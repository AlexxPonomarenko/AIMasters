{
  "cells": [
    {
      "cell_type": "markdown",
      "metadata": {
        "id": "IQwlunyE86kE"
      },
      "source": [
        "# Практическое задание 1. Обучение полносвязной нейронной сети."
      ]
    },
    {
      "cell_type": "code",
      "execution_count": 134,
      "metadata": {
        "id": "UyCGfNgA86kF"
      },
      "outputs": [],
      "source": [
        "import numpy as np\n",
        "import torch\n",
        "import cv2\n",
        "\n",
        "from glob import glob\n",
        "from collections import OrderedDict\n",
        "from matplotlib import pyplot as plt\n",
        "\n",
        "from torch import nn\n",
        "from torch.autograd import Function\n",
        "from torch.autograd import gradcheck\n",
        "from torch.optim import Optimizer, Adam\n",
        "from torch.utils.data import Dataset, DataLoader\n",
        "from torchvision import datasets\n",
        "from torchvision import transforms"
      ]
    },
    {
      "cell_type": "markdown",
      "metadata": {
        "id": "uFaWrLT4GkfY"
      },
      "source": [
        "## 1. Загрузка данных (0 баллов)"
      ]
    },
    {
      "cell_type": "markdown",
      "metadata": {
        "id": "R930jTYMG6nB"
      },
      "source": [
        "Если вам требуется работать с каким-нибудь набором данных (dataset), то, прежде всего, проверьте, нет ли его среди встроенных наборов данных https://pytorch.org/vision/stable/datasets.html.\n",
        "\n",
        "В текущем домашнем задании мы будем работать с набором данных FashionMNIST. Он присутствует в списке встроенных наборов данных, однако мы воспользуемся реализацией только для удобного и быстрого способа скачать наборы данных. Ниже предлагается реализовать собственный класс для считывания, обработки и упаковки данных."
      ]
    },
    {
      "cell_type": "code",
      "execution_count": 135,
      "metadata": {
        "id": "LauGpMvGF5qr"
      },
      "outputs": [],
      "source": [
        "training_data = datasets.FashionMNIST(\n",
        "    root=\"data\",\n",
        "    train=True,\n",
        "    download=True\n",
        ")\n",
        "\n",
        "test_data = datasets.FashionMNIST(\n",
        "    root=\"data\",\n",
        "    train=False,\n",
        "    download=True\n",
        ")"
      ]
    },
    {
      "cell_type": "markdown",
      "metadata": {
        "id": "RIT32OCMaLLP"
      },
      "source": [
        "Воспользуемся функцией загрузки данных из репозитория наборов данных."
      ]
    },
    {
      "cell_type": "code",
      "execution_count": 136,
      "metadata": {
        "id": "Fm_cf_hEIapm",
        "colab": {
          "base_uri": "https://localhost:8080/"
        },
        "outputId": "6bf043ec-f373-40a4-d4f5-e462a51821dd"
      },
      "outputs": [
        {
          "output_type": "stream",
          "name": "stdout",
          "text": [
            "t10k-images-idx3-ubyte\t   t10k-labels-idx1-ubyte.gz   train-labels-idx1-ubyte\n",
            "t10k-images-idx3-ubyte.gz  train-images-idx3-ubyte     train-labels-idx1-ubyte.gz\n",
            "t10k-labels-idx1-ubyte\t   train-images-idx3-ubyte.gz\n"
          ]
        }
      ],
      "source": [
        "! ls data/FashionMNIST/raw"
      ]
    },
    {
      "cell_type": "code",
      "execution_count": 137,
      "metadata": {
        "id": "-xnY5xk1KBg2"
      },
      "outputs": [],
      "source": [
        "#https://github.com/zalandoresearch/fashion-mnist/blob/master/utils/mnist_reader.py\n",
        "\n",
        "def load_mnist(path, kind='train'):\n",
        "    import os\n",
        "    import gzip\n",
        "    import numpy as np\n",
        "\n",
        "    \"\"\"Load MNIST data from `path`\"\"\"\n",
        "    labels_path = os.path.join(path,\n",
        "                               '%s-labels-idx1-ubyte.gz'\n",
        "                               % kind)\n",
        "    images_path = os.path.join(path,\n",
        "                               '%s-images-idx3-ubyte.gz'\n",
        "                               % kind)\n",
        "\n",
        "    with gzip.open(labels_path, 'rb') as lbpath:\n",
        "        labels = np.frombuffer(lbpath.read(), dtype=np.uint8,\n",
        "                               offset=8)\n",
        "\n",
        "    with gzip.open(images_path, 'rb') as imgpath:\n",
        "        images = np.frombuffer(imgpath.read(), dtype=np.uint8,\n",
        "                               offset=16).reshape(len(labels), 784)\n",
        "\n",
        "    return images, labels"
      ]
    },
    {
      "cell_type": "markdown",
      "metadata": {
        "id": "qHIlWRV0aZnA"
      },
      "source": [
        "Для удобства PyTorch предоставляет ряд базовых классов `Dataset, DataLoader`, от которых предлагается отнаследоваться при разработке пользовательских классов. Базовый класс `Dataset` используется для загрузки и обработки данных, класс `DataLoader` используется для управления процессом загрузки данных, позволяет в многопоточном режиме загружать данные и упаковывать их.\n",
        "Эти вспомогательные классы находятся в модуле `torch.utils.data`.\n",
        "\n",
        "При наследовании от класса `torch.utils.data.Dataset` требуется переопределить метод `__len__`, который возвращает количество примеров в наборе данных, а также метод `__getitem__`, который позволяет получить доступ к примеру из набора данных по индексу."
      ]
    },
    {
      "cell_type": "markdown",
      "metadata": {
        "id": "3jf2e5cPbJV2"
      },
      "source": [
        "Реализуем класс для FasionMnist.\n",
        "\n",
        "Элементами датасета должны являться пары '(np.array, int)', массив имеет размерность `(28, 28)`, тип элемента `np.float32`."
      ]
    },
    {
      "cell_type": "code",
      "execution_count": 138,
      "metadata": {
        "id": "snTBHRTQI1bc"
      },
      "outputs": [],
      "source": [
        "import os\n",
        "\n",
        "class FashionMnist(Dataset):\n",
        "    def __init__(self, path, train=True, image_transform=None,\n",
        "                 label_transform=None):\n",
        "        if train:\n",
        "            images, labels = load_mnist(os.path.join(path,\"raw\"))\n",
        "        else:\n",
        "            images, labels = load_mnist(os.path.join(path,\"raw\"), kind=\"t10k\")\n",
        "\n",
        "        ###########################################################\n",
        "        ############# YOUR CODE HERE ##############################\n",
        "        ###########################################################\n",
        "\n",
        "        self.images = images.astype(np.float32).reshape(-1, 28, 28)  # (num_samples, 28, 28)\n",
        "        self.labels = labels.astype(np.int64)  # Преобразование меток в целые числа\n",
        "\n",
        "        self.image_transform = image_transform\n",
        "        self.label_transform = label_transform\n",
        "\n",
        "        self.classes = [\n",
        "            \"T-shirt/top\", \"Trouser\", \"Pullover\", \"Dress\", \"Coat\",\n",
        "            \"Sandal\", \"Shirt\", \"Sneaker\", \"Bag\", \"Ankle boot\"\n",
        "        ]\n",
        "\n",
        "    def __len__(self,):\n",
        "        ###########################################################\n",
        "        ############# YOUR CODE HERE ##############################\n",
        "        ###########################################################\n",
        "        return len(self.labels)\n",
        "\n",
        "    def __getitem__(self, idx):\n",
        "        ###########################################################\n",
        "        ############# YOUR CODE HERE ##############################\n",
        "        ###########################################################\n",
        "        img = self.images[idx]\n",
        "        label = self.labels[idx]\n",
        "        if self.image_transform:\n",
        "            img = self.image_transform(img)\n",
        "        if self.label_transform:\n",
        "            label = self.label_transform(np.array(label))\n",
        "        return img, label\n"
      ]
    },
    {
      "cell_type": "code",
      "execution_count": 139,
      "metadata": {
        "id": "XVGv_2zBNfpz"
      },
      "outputs": [],
      "source": [
        "test_dataset = FashionMnist(\"data/FashionMNIST\", train=False)\n",
        "train_dataset = FashionMnist(\"data/FashionMNIST\")"
      ]
    },
    {
      "cell_type": "code",
      "source": [
        "train_dataset.classes"
      ],
      "metadata": {
        "colab": {
          "base_uri": "https://localhost:8080/"
        },
        "id": "ejU40JOfBA9a",
        "outputId": "930ca2b0-0998-47fc-c9ce-7e555956e502"
      },
      "execution_count": 140,
      "outputs": [
        {
          "output_type": "execute_result",
          "data": {
            "text/plain": [
              "['T-shirt/top',\n",
              " 'Trouser',\n",
              " 'Pullover',\n",
              " 'Dress',\n",
              " 'Coat',\n",
              " 'Sandal',\n",
              " 'Shirt',\n",
              " 'Sneaker',\n",
              " 'Bag',\n",
              " 'Ankle boot']"
            ]
          },
          "metadata": {},
          "execution_count": 140
        }
      ]
    },
    {
      "cell_type": "markdown",
      "metadata": {
        "id": "JciETIfndiGR"
      },
      "source": [
        "Визуализируйте случайные элементы набора данных."
      ]
    },
    {
      "cell_type": "code",
      "execution_count": 141,
      "metadata": {
        "id": "wBky4UtmOS71",
        "colab": {
          "base_uri": "https://localhost:8080/",
          "height": 586
        },
        "outputId": "98cbc918-9753-46e9-cc25-370374b83e6f"
      },
      "outputs": [
        {
          "output_type": "display_data",
          "data": {
            "text/plain": [
              "<Figure size 1300x600 with 10 Axes>"
            ],
            "image/png": "[encoded data removed]"
          },
          "metadata": {}
        }
      ],
      "source": [
        "###########################################################\n",
        "############# YOUR CODE HERE ##############################\n",
        "###########################################################\n",
        "fig, axes = plt.subplots(2, 5, figsize=(13, 6))\n",
        "\n",
        "for idx, ds in enumerate((train_dataset, test_dataset)):\n",
        "    for jdx, kdx in enumerate(np.random.randint(0, len(ds), size=5)):\n",
        "        image, label = ds[kdx]\n",
        "        axes[idx, jdx].imshow(image / 255.0, cmap='gray')\n",
        "        axes[idx, jdx].set_title(f'Метка: {label} -> {ds.classes[label]}')\n",
        "\n",
        "axes[0, 0].set_ylabel('Обучающая выборка')\n",
        "axes[1, 0].set_ylabel('Тестовая выборка')\n",
        "\n",
        "fig.tight_layout()\n",
        "plt.show()"
      ]
    },
    {
      "cell_type": "markdown",
      "metadata": {
        "id": "320RvzL7PZrI"
      },
      "source": [
        "В конструктор `Dataset` можно передать объект `torchvision.transforms`, который позволяет преобразовать исходные данные. Преобразование `torchvision.transforms.ToTensor` позволяет преобразоать данные из типа `PIL Image` и `numpy.float32` в тип `torch.float32`\n",
        "\n",
        "Реализуйте собственную поддержку преобразований в `FashionMnist`. Проверьте, что приведение типов работает корректно."
      ]
    },
    {
      "cell_type": "code",
      "execution_count": 142,
      "metadata": {
        "id": "pQsGbfXUTxcx"
      },
      "outputs": [],
      "source": [
        "class ToTensor:\n",
        "    \"\"\"Convert ndarrays in sample to Tensors.\"\"\"\n",
        "\n",
        "    def __call__(self, sample):\n",
        "        return torch.from_numpy(sample)"
      ]
    },
    {
      "cell_type": "code",
      "execution_count": 143,
      "metadata": {
        "id": "7BpFQ_Y2PoeI"
      },
      "outputs": [],
      "source": [
        "transform = ToTensor()\n",
        "\n",
        "test_dataset = FashionMnist(\"data/FashionMNIST\",\n",
        "                            train=False,\n",
        "                            image_transform=transform,\n",
        "                            label_transform=transform\n",
        "                            )\n",
        "train_dataset = FashionMnist(\"data/FashionMNIST\",\n",
        "                             image_transform=transform,\n",
        "                             label_transform=transform\n",
        "                             )"
      ]
    },
    {
      "cell_type": "code",
      "execution_count": 144,
      "metadata": {
        "id": "ukLn9rY7SCsS",
        "colab": {
          "base_uri": "https://localhost:8080/"
        },
        "outputId": "c5fc15c2-5455-4efd-8b9e-417af518bcd8"
      },
      "outputs": [
        {
          "output_type": "stream",
          "name": "stdout",
          "text": [
            "The type of the data is <class 'torch.Tensor'>\n"
          ]
        }
      ],
      "source": [
        "print(f\"The type of the data is {type(test_dataset[0][0])}\")"
      ]
    },
    {
      "cell_type": "markdown",
      "metadata": {
        "id": "5Ltavx0QUMnm"
      },
      "source": [
        "Элементы набора данных могут быть объединены в пакеты (batch) явно и неявно. Если данные могут быть сконкатенированы или обЪединены каким-нибудь тривиальным способом, то можно не передавать никаких дополнительных парамертов в `torch.utils.data.Dataloader`."
      ]
    },
    {
      "cell_type": "code",
      "execution_count": 145,
      "metadata": {
        "id": "Cizxx6m0VAI7"
      },
      "outputs": [],
      "source": [
        "test_dataloader = DataLoader(test_dataset, batch_size=15, num_workers=2, shuffle=True)\n",
        "batch = next(iter(test_dataloader))"
      ]
    },
    {
      "cell_type": "code",
      "execution_count": 146,
      "metadata": {
        "id": "SIZiPrBgVwGA",
        "colab": {
          "base_uri": "https://localhost:8080/"
        },
        "outputId": "f91507fe-b777-499a-8910-49ef1a4993f0"
      },
      "outputs": [
        {
          "output_type": "stream",
          "name": "stdout",
          "text": [
            "The length of the batch is 2\n",
            "The shape of the batch[0] is torch.Size([15, 28, 28])\n"
          ]
        }
      ],
      "source": [
        "print(f\"The length of the batch is {len(batch)}\")\n",
        "print(f\"The shape of the batch[0] is {batch[0].shape}\")"
      ]
    },
    {
      "cell_type": "markdown",
      "metadata": {
        "id": "BCggRyOQWVIx"
      },
      "source": [
        "Однако, если наша структура данных не позволяет нам использовать объединение по умолчанию, то можно написать собственную функцию, которая будет пакетировать данные.\n",
        "\n",
        "Реализуйте функцию, преобразующую последовательность элементов массива в пакет (batch)."
      ]
    },
    {
      "cell_type": "code",
      "execution_count": 147,
      "metadata": {
        "id": "nQVh93fmWSjA"
      },
      "outputs": [],
      "source": [
        "def collate(batch):\n",
        "    ###########################################################\n",
        "    ############# YOUR CODE HERE ##############################\n",
        "    ###########################################################\n",
        "    imgs = [item[0] for item in batch]\n",
        "    labels = [item[1] for item in batch]\n",
        "\n",
        "    imgs = torch.stack(imgs)\n",
        "    labels = torch.tensor(labels)\n",
        "    return imgs, labels"
      ]
    },
    {
      "cell_type": "markdown",
      "metadata": {
        "id": "Wij6F-vpe7KS"
      },
      "source": [
        "Убедитесть, что все работает корректно."
      ]
    },
    {
      "cell_type": "code",
      "execution_count": 148,
      "metadata": {
        "id": "4dDtlvlCXNbW"
      },
      "outputs": [],
      "source": [
        "test_dataloader = DataLoader(test_dataset, batch_size=15, num_workers=2,\n",
        "                             shuffle=True, collate_fn=collate)\n",
        "train_dataloader = DataLoader(train_dataset, batch_size=15, num_workers=2,\n",
        "                              shuffle=True, collate_fn=collate)\n",
        "batch = next(iter(test_dataloader))"
      ]
    },
    {
      "cell_type": "code",
      "execution_count": 149,
      "metadata": {
        "id": "PFN00IyZXYaF",
        "colab": {
          "base_uri": "https://localhost:8080/"
        },
        "outputId": "beb49e29-93db-4407-e4d1-7dc65119abaa"
      },
      "outputs": [
        {
          "output_type": "stream",
          "name": "stdout",
          "text": [
            "The length of the batch is 2\n",
            "The shape of the batch[0] is torch.Size([15, 28, 28])\n"
          ]
        }
      ],
      "source": [
        "print(f\"The length of the batch is {len(batch)}\")\n",
        "print(f\"The shape of the batch[0] is {batch[0].shape}\")"
      ]
    },
    {
      "cell_type": "markdown",
      "metadata": {
        "id": "VHcumwuF86kL"
      },
      "source": [
        "## 2. Реализация модулей нейронной сети (15 баллов)\n",
        "\n",
        "В этом разделе мы полностью реализуем модули для полносвязанной сети.\n",
        "\n",
        "Для начала нам понадобится реализовать прямой и обратный проход через слои.\n",
        "\n",
        "Наши слои будут соответствовать следующему интерфейсу (на примере \"тождественного\" слоя):"
      ]
    },
    {
      "cell_type": "markdown",
      "metadata": {
        "id": "zzhCW5HcfmKd"
      },
      "source": [
        "Сначала, мы реализуем функцию и её градиент."
      ]
    },
    {
      "cell_type": "code",
      "execution_count": 150,
      "metadata": {
        "id": "rcqeFXxsFGQO"
      },
      "outputs": [],
      "source": [
        "class IdentityFunction(Function):\n",
        "    \"\"\"\n",
        "    We can implement our own custom autograd Functions by subclassing\n",
        "    torch.autograd.Function and implementing the forward and backward passes\n",
        "    which operate on Tensors.\n",
        "    \"\"\"\n",
        "    @staticmethod\n",
        "    def forward(ctx, input):\n",
        "        \"\"\"\n",
        "        In the forward pass we receive a Tensor containing the input and return\n",
        "        a Tensor containing the output. ctx is a context object that can be used\n",
        "        to stash information for backward computation. You can cache arbitrary\n",
        "        objects for use in the backward pass using the ctx.save_for_backward method.\n",
        "        \"\"\"\n",
        "        return input\n",
        "\n",
        "    @staticmethod\n",
        "    def backward(ctx, grad_output):\n",
        "        \"\"\"\n",
        "        In the backward pass we receive a Tensor containing the gradient of the loss\n",
        "        with respect to the output, and we need to compute the gradient of the loss\n",
        "        with respect to the input.\n",
        "        \"\"\"\n",
        "        return grad_output"
      ]
    },
    {
      "cell_type": "markdown",
      "metadata": {
        "id": "jc6Rtczffxv4"
      },
      "source": [
        "Разработанную функцию обернем классом `IdentityLayer`, все слои в `PyTorch` должны быть наследниками базового класса `nn.Module()`\n"
      ]
    },
    {
      "cell_type": "code",
      "execution_count": 151,
      "metadata": {
        "id": "SiqeRVcM86kM"
      },
      "outputs": [],
      "source": [
        "class IdentityLayer(nn.Module):\n",
        "    def __init__(self):\n",
        "        # An identity layer does nothing\n",
        "        super().__init__()\n",
        "        self.identity = IdentityFunction.apply\n",
        "\n",
        "    def forward(self, inp):\n",
        "        # An identity layer just returns whatever it gets as input.\n",
        "        return self.identity(inp)"
      ]
    },
    {
      "cell_type": "markdown",
      "metadata": {
        "id": "N4IoM_pX86kQ"
      },
      "source": [
        "\n",
        "### 2.1 Функция активации ReLU (1 балл)\n",
        "Для начала реализуем функцию активации, слой нелинейности `ReLU(x) = max(x, 0)`. Параметров у слоя нет. Метод `forward` должен вернуть результат поэлементного применения `ReLU` к входному массиву, метод `backward` - градиент функции потерь по входу слоя. В нуле будем считать производную равной 0. Обратите внимание, что при обратном проходе могут понадобиться величины, посчитанные во время прямого прохода, поэтому их стоит сохранить в `ctx`."
      ]
    },
    {
      "cell_type": "code",
      "execution_count": 152,
      "metadata": {
        "id": "U9qrJ47xY6H0"
      },
      "outputs": [],
      "source": [
        "class ReLUFunction(Function):\n",
        "    @staticmethod\n",
        "    def forward(ctx, input):\n",
        "        ###########################################################\n",
        "        ############# YOUR CODE HERE ##############################\n",
        "        ###########################################################\n",
        "        ctx.save_for_backward(input)\n",
        "        output = torch.where(input > 0, input, 0)\n",
        "        return output\n",
        "\n",
        "    @staticmethod\n",
        "    def backward(ctx, grad_output):\n",
        "        ###########################################################\n",
        "        ############# YOUR CODE HERE ##############################\n",
        "        ###########################################################\n",
        "        input, = ctx.saved_tensors\n",
        "        grad_input = grad_output.clone()\n",
        "        grad_input[input < 0] = 0\n",
        "        return grad_input\n"
      ]
    },
    {
      "cell_type": "code",
      "execution_count": 153,
      "metadata": {
        "id": "y09ZVCsT86kT"
      },
      "outputs": [],
      "source": [
        "class ReLU(nn.Module):\n",
        "    def __init__(self):\n",
        "        ###########################################################\n",
        "        ############# YOUR CODE HERE ##############################\n",
        "        ###########################################################\n",
        "        super().__init__()\n",
        "        self.relu = ReLUFunction.apply\n",
        "        return\n",
        "\n",
        "\n",
        "    def forward(self, input):\n",
        "        ###########################################################\n",
        "        ############# YOUR CODE HERE ##############################\n",
        "        ###########################################################\n",
        "        return self.relu(input)"
      ]
    },
    {
      "cell_type": "markdown",
      "metadata": {
        "id": "2RwKEUp_V3-L"
      },
      "source": [
        "Не забываем после реализации функции проверить градиент, испльзуя функцию `gradcheck`."
      ]
    },
    {
      "cell_type": "code",
      "execution_count": 154,
      "metadata": {
        "id": "K0RnDQZCXXZn"
      },
      "outputs": [],
      "source": [
        "###########################################################\n",
        "############# YOUR CODE HERE ##############################\n",
        "###########################################################\n",
        "relu = ReLUFunction.apply\n",
        "x = torch.randn(5, 5, dtype=torch.double, requires_grad=True)\n",
        "\n",
        "assert gradcheck(relu, x)"
      ]
    },
    {
      "cell_type": "code",
      "execution_count": 155,
      "metadata": {
        "id": "vUmbmR4iXurd"
      },
      "outputs": [],
      "source": [
        "###########################################################\n",
        "############# YOUR CODE HERE ##############################\n",
        "###########################################################\n",
        "our_relu = ReLU()\n",
        "torch_relu = nn.ReLU()\n",
        "x = torch.randn(5, 5, dtype=torch.float, requires_grad=True)\n",
        "\n",
        "assert torch.norm(torch_relu(x.float()) - our_relu(x)) < 1e-5"
      ]
    },
    {
      "cell_type": "markdown",
      "metadata": {
        "id": "ojTR4GFd86kY"
      },
      "source": [
        "### 2.2 Линейный слой (linear, fully-connected) (3 балла)\n",
        "Далее реализуем полносвязный слой без нелинейности. У слоя два набора параметра: матрица весов (weights) и вектор смещения (bias)."
      ]
    },
    {
      "cell_type": "code",
      "execution_count": 156,
      "metadata": {
        "id": "fBl34oykbcBf"
      },
      "outputs": [],
      "source": [
        "class LinearFunction(Function):\n",
        "    @staticmethod\n",
        "    def forward(ctx, inp, weight, bias):\n",
        "        ###########################################################\n",
        "        ############# YOUR CODE HERE ##############################\n",
        "        ###########################################################\n",
        "        ctx.save_for_backward(inp, weight, bias)\n",
        "        output = inp @ weight.T + bias\n",
        "\n",
        "        return output\n",
        "\n",
        "    @staticmethod\n",
        "    def backward(ctx, grad_output):\n",
        "        ###########################################################\n",
        "        ############# YOUR CODE HERE ##############################\n",
        "        ###########################################################\n",
        "        inp, weight, bias = ctx.saved_tensors\n",
        "\n",
        "        grad_bias = grad_output.sum(dim=0)\n",
        "        grad_input = grad_output @ weight\n",
        "        grad_weight = grad_output.T @ inp\n",
        "\n",
        "        return grad_input, grad_weight, grad_bias"
      ]
    },
    {
      "cell_type": "code",
      "execution_count": 157,
      "metadata": {
        "id": "YbN5JOc886kZ"
      },
      "outputs": [],
      "source": [
        "class Linear(nn.Module):\n",
        "    def __init__(self, input_units, output_units):\n",
        "        super().__init__()\n",
        "        # initialize weights with small random numbers from normal distribution\n",
        "\n",
        "        #self.weight = nn.Parameter(torch.randn(output_units, input_units) / torch.sqrt(torch.tensor(input_units, dtype=torch.float32)))\n",
        "        #self.bias = nn.Parameter(torch.randn(output_units, dtype=torch.float32))\n",
        "        #self.weight = nn.Parameter(nn.init.xavier_uniform_(weight, gain=nn.init.calculate_gain('relu')))\n",
        "\n",
        "        weight = torch.empty(output_units, input_units, dtype=torch.float32)\n",
        "        bias = torch.empty(output_units, dtype=torch.float32)\n",
        "\n",
        "        self.weight = nn.Parameter(nn.init.sparse_(weight, sparsity=0.05))\n",
        "        self.bias = nn.Parameter(nn.init.constant_(bias, 0.0))\n",
        "        ###########################################################\n",
        "        ############# YOUR CODE HERE ##############################\n",
        "        ###########################################################\n",
        "        self.linear = LinearFunction.apply\n",
        "        return\n",
        "\n",
        "    def forward(self,inp):\n",
        "        ###########################################################\n",
        "        ############# YOUR CODE HERE ##############################\n",
        "        ###########################################################\n",
        "        return self.linear(inp, self.weight, self.bias)"
      ]
    },
    {
      "cell_type": "markdown",
      "metadata": {
        "id": "gToXI43WYMDv"
      },
      "source": [
        "Проверим градиент, а также сравним с работой нашего модуля с имплементированным в `PyTorch`."
      ]
    },
    {
      "cell_type": "markdown",
      "metadata": {
        "id": "et7mKX5xZfMI"
      },
      "source": [
        "Проверка градиента:"
      ]
    },
    {
      "cell_type": "code",
      "execution_count": 158,
      "metadata": {
        "id": "PxLVozqLZb_H"
      },
      "outputs": [],
      "source": [
        "###########################################################\n",
        "############# YOUR CODE HERE ##############################\n",
        "###########################################################\n",
        "input_units = 784\n",
        "output_units = 10\n",
        "\n",
        "linear = LinearFunction.apply\n",
        "\n",
        "x = torch.randn(32, input_units, dtype=torch.double, requires_grad=True)\n",
        "weight = torch.randn(output_units, input_units, dtype=torch.double, requires_grad=True)\n",
        "bias = torch.randn(output_units, dtype=torch.double, requires_grad=True)\n",
        "\n",
        "assert gradcheck(linear, (x, weight, bias))"
      ]
    },
    {
      "cell_type": "markdown",
      "metadata": {
        "id": "pW8ppOciZndN"
      },
      "source": [
        "Сравнение с `PyTorch`."
      ]
    },
    {
      "cell_type": "code",
      "execution_count": 159,
      "metadata": {
        "id": "IIR9svs7Zmq0"
      },
      "outputs": [],
      "source": [
        "###########################################################\n",
        "############# YOUR CODE HERE ##############################\n",
        "###########################################################\n",
        "input_units = 784\n",
        "output_units = 10\n",
        "\n",
        "our_linear = Linear(input_units, output_units)\n",
        "torch_linear = nn.Linear(input_units, output_units, bias=True)\n",
        "\n",
        "x = torch.randn(32, input_units, dtype=torch.float32, requires_grad=True)\n",
        "weight = torch.randn(output_units, input_units, dtype=torch.float32, requires_grad=True)\n",
        "bias = torch.randn(output_units, dtype=torch.float32, requires_grad=True)\n",
        "\n",
        "state_dict = OrderedDict([(\"weight\", weight), (\"bias\", bias)])\n",
        "torch_linear.load_state_dict(state_dict)\n",
        "our_linear.load_state_dict(state_dict)\n",
        "\n",
        "###########################################################\n",
        "############# YOUR CODE HERE ##############################\n",
        "###########################################################\n",
        "assert torch.norm(torch_linear(x) - our_linear(x)) < 1e-4"
      ]
    },
    {
      "cell_type": "markdown",
      "metadata": {
        "id": "0dyhDg0D86kt"
      },
      "source": [
        "### 2.3 LogSoftmax (Log + Softmax) (4 балла)"
      ]
    },
    {
      "cell_type": "markdown",
      "metadata": {
        "id": "ArL0HLGH86ku"
      },
      "source": [
        "Для решения задачи многоклассовой классификации обычно используют `softmax` в качестве нелинейности на последнем слое, чтобы получить \"оценку\" вероятности классов для каждого объекта:$$\\hat y = softmax(x)  = \\bigl \\{\\frac {exp(x_i)}{\\sum_j exp(x_j)} \\bigr \\}_{i=1}^K, \\quad K - \\text{число классов}$$В этом случае удобно оптимизировать логарифм правдоподобия:$$L(y, \\hat y) = -\\sum_{i=1}^K y_i \\log \\hat y_i \\rightarrow \\min,$$где $y_i=1$, если объект принадлежит $i$-му классу, и 0 иначе. Записанная в таком виде, эта функция потерь совпадает с выражением для кросс-энтропии. Очевидно, что ее также можно переписать через индексацию, если через $y_i$ обозначить класс данного объекта:$$L(y, \\hat y) = - \\log \\hat y_{y_i} \\rightarrow \\min$$В таком виде ее удобно реализовывать.\n",
        "\n",
        "Реализуйте слой `LogSoftmax` (без параметров). Метод `forward` должен вычислять логарифм от `softmax`, а метод `backward` - пропускать градиенты. В общем случае в промежуточных вычислениях `backward` получится трехмерный тензор, однако для нашей конкретной функции потерь все вычисления можно реализовать в матричном виде. Поэтому мы будем предполагать, что аргумент `grad_output` - это матрица, у которой в каждой строке только одно ненулевое значение (не обязательно единица).\n",
        "\n",
        "Для полного балла нужна имплементация с `Log-Sum-Exp trick`."
      ]
    },
    {
      "cell_type": "code",
      "execution_count": 160,
      "metadata": {
        "id": "xSV3XD0N86ky"
      },
      "outputs": [],
      "source": [
        "class LogSoftmaxFunction(Function):\n",
        "    @staticmethod\n",
        "    def forward(ctx, inp):\n",
        "        ###########################################################\n",
        "        ############# YOUR CODE HERE ##############################\n",
        "        ###########################################################\n",
        "        max_val, _ = torch.max(inp, dim=1, keepdim=True)\n",
        "        stable_inp = inp - max_val\n",
        "        stable_inp_exp = torch.exp(stable_inp)\n",
        "        log_sum_exp = torch.log(torch.sum(stable_inp_exp, dim=1, keepdim=True))\n",
        "        log_softmax = stable_inp - log_sum_exp\n",
        "\n",
        "        ctx.save_for_backward(log_softmax)\n",
        "\n",
        "        return log_softmax\n",
        "\n",
        "    @staticmethod\n",
        "    def backward(ctx, grad_output):\n",
        "        ###########################################################\n",
        "        ############# YOUR CODE HERE ##############################\n",
        "        ###########################################################\n",
        "        log_softmax, = ctx.saved_tensors\n",
        "\n",
        "        output_dim = grad_output.shape[-1]\n",
        "\n",
        "        softmax = torch.exp(log_softmax)\n",
        "        softmax_matrix = softmax.unsqueeze(1).repeat(1, output_dim, 1)\n",
        "        dL_dlogSM = torch.eye(output_dim).to(softmax.device) - softmax_matrix\n",
        "        grad_input = torch.einsum('ij,ijk->ik', grad_output, dL_dlogSM)\n",
        "\n",
        "        return grad_input"
      ]
    },
    {
      "cell_type": "code",
      "execution_count": 161,
      "metadata": {
        "id": "z7OnC6o_z2vg"
      },
      "outputs": [],
      "source": [
        "class LogSoftmax(nn.Module):\n",
        "    def __init__(self):\n",
        "        super().__init__()\n",
        "        ###########################################################\n",
        "        ############# YOUR CODE HERE ##############################\n",
        "        ###########################################################\n",
        "        self.logsoftmax = LogSoftmaxFunction.apply\n",
        "\n",
        "    def forward(self, input):\n",
        "        ###########################################################\n",
        "        ############# YOUR CODE HERE ##############################\n",
        "        ###########################################################\n",
        "        return self.logsoftmax(input)"
      ]
    },
    {
      "cell_type": "markdown",
      "metadata": {
        "id": "Ke4G67cddjVA"
      },
      "source": [
        "Проверка градиентов."
      ]
    },
    {
      "cell_type": "code",
      "execution_count": 162,
      "metadata": {
        "id": "cfgkVgGbrQEv"
      },
      "outputs": [],
      "source": [
        "###########################################################\n",
        "############# YOUR CODE HERE ##############################\n",
        "###########################################################\n",
        "logsoftmax = LogSoftmaxFunction.apply\n",
        "\n",
        "x = torch.randn(32, 10, dtype=torch.double, requires_grad=True)\n",
        "\n",
        "assert gradcheck(logsoftmax, x)"
      ]
    },
    {
      "cell_type": "markdown",
      "metadata": {
        "id": "3Sn2M_Q086k2"
      },
      "source": [
        "### 2.4 Dropout (2 балла)\n",
        "Реализуйте слой Dropout."
      ]
    },
    {
      "cell_type": "code",
      "execution_count": 163,
      "metadata": {
        "id": "qCLECy1y86k3"
      },
      "outputs": [],
      "source": [
        "class DropoutFunction(Function):\n",
        "    @staticmethod\n",
        "    def forward(ctx, inp, p):\n",
        "        ###########################################################\n",
        "        ############# YOUR CODE HERE ##############################\n",
        "        ###########################################################\n",
        "        mask = torch.rand_like(inp) #.to(inp.device)\n",
        "        mask = (mask > p).float()\n",
        "        out = mask * inp / (1-p)\n",
        "\n",
        "        ctx.save_for_backward(mask)\n",
        "        ctx.p = p\n",
        "\n",
        "        return out\n",
        "\n",
        "    @staticmethod\n",
        "    def backward(ctx, grad_output):\n",
        "        ###########################################################\n",
        "        ############# YOUR CODE HERE ##############################\n",
        "        ###########################################################\n",
        "        mask, = ctx.saved_tensors\n",
        "        p = ctx.p\n",
        "\n",
        "        grad_input = grad_output * mask / (1-p)\n",
        "        return grad_input, None"
      ]
    },
    {
      "cell_type": "code",
      "execution_count": 164,
      "metadata": {
        "id": "pS5z_mth1ZAZ"
      },
      "outputs": [],
      "source": [
        "class Dropout(nn.Module):\n",
        "    def __init__(self, p):\n",
        "        super().__init__()\n",
        "        ###########################################################\n",
        "        ############# YOUR CODE HERE ##############################\n",
        "        ###########################################################\n",
        "        self.p = p\n",
        "        self.dropout = DropoutFunction.apply\n",
        "\n",
        "        return\n",
        "\n",
        "    def forward(self, input):\n",
        "        ###########################################################\n",
        "        ############# YOUR CODE HERE ##############################\n",
        "        ###########################################################\n",
        "        if self.training:\n",
        "            return DropoutFunction.apply(input, self.p)\n",
        "        else:\n",
        "            return input"
      ]
    },
    {
      "cell_type": "code",
      "source": [
        "###########################################################\n",
        "############# YOUR CODE HERE ##############################\n",
        "###########################################################\n",
        "dropout = DropoutFunction.apply\n",
        "\n",
        "x = torch.randn(4, 2, dtype=torch.double, requires_grad=True)\n",
        "p = torch.rand(1, dtype=torch.double, requires_grad=False)\n",
        "\n",
        "assert gradcheck(dropout, (x, p))"
      ],
      "metadata": {
        "id": "7bsK_AOjYJLJ"
      },
      "execution_count": 165,
      "outputs": []
    },
    {
      "cell_type": "markdown",
      "metadata": {
        "id": "hyPPzkCI86k7"
      },
      "source": [
        "### 2.5 CrossEntropy (5 баллов)\n",
        "\n",
        "При решении задачи многоклассовой классификации мы будет использовать в качестве функции потерь **кроссэнтропию, совместимую с `LogSoftmax` активацией**.\n",
        "\n",
        "Реализуйте эту функцию потерь. В разделе 2.3 приведены полезные формулы."
      ]
    },
    {
      "cell_type": "code",
      "execution_count": 166,
      "metadata": {
        "id": "KotXWXnT3-j5"
      },
      "outputs": [],
      "source": [
        "class CrossEntropyFunction(Function):\n",
        "    @staticmethod\n",
        "    def forward(ctx, activations, target):\n",
        "        ###########################################################\n",
        "        ############# YOUR CODE HERE ##############################\n",
        "        ###########################################################\n",
        "        batch_size = activations.size(0)\n",
        "        num_classes = activations.size(1)\n",
        "        ctx.batch_size = batch_size\n",
        "        ctx.num_classes = num_classes\n",
        "        ctx.save_for_backward(target)\n",
        "\n",
        "        loss = -activations.gather(dim=1, index=target.unsqueeze(1)).mean()\n",
        "\n",
        "        return loss\n",
        "\n",
        "    @staticmethod\n",
        "    def backward(ctx, grad_output):\n",
        "        ###########################################################\n",
        "        ############# YOUR CODE HERE ##############################\n",
        "        ###########################################################\n",
        "        batch_size, num_classes = ctx.batch_size, ctx.num_classes\n",
        "        target, = ctx.saved_tensors\n",
        "\n",
        "        grad_input = torch.zeros(size=(batch_size, num_classes)).to(target.device)\n",
        "        grad_input[torch.arange(batch_size), target] = -1.0 / batch_size\n",
        "\n",
        "        return grad_output * grad_input, None\n",
        "\n",
        "class CrossEntropy(nn.Module):\n",
        "    def __init__(self, ):\n",
        "        super().__init__()\n",
        "        ###########################################################\n",
        "        ############# YOUR CODE HERE ##############################\n",
        "        ###########################################################\n",
        "        self.crossentropy = CrossEntropyFunction.apply\n",
        "        return\n",
        "\n",
        "    def forward(self, activations, target):\n",
        "        ###########################################################\n",
        "        ############# YOUR CODE HERE ##############################\n",
        "        ###########################################################\n",
        "        return self.crossentropy(activations, target)"
      ]
    },
    {
      "cell_type": "markdown",
      "metadata": {
        "id": "vFNcOfVNesCC"
      },
      "source": [
        "Проверка градиентов."
      ]
    },
    {
      "cell_type": "code",
      "execution_count": 167,
      "metadata": {
        "id": "lXQr7sllKi8k"
      },
      "outputs": [],
      "source": [
        "###########################################################\n",
        "############# YOUR CODE HERE ##############################\n",
        "###########################################################\n",
        "crossentropy = CrossEntropyFunction.apply\n",
        "\n",
        "activations = torch.randn(32, 10, dtype=torch.double, requires_grad=True)\n",
        "target = torch.randint(low=0, high=10, size=(32,), dtype=torch.int64, requires_grad=False)\n",
        "\n",
        "assert gradcheck(crossentropy, (activations, target))"
      ]
    },
    {
      "cell_type": "markdown",
      "metadata": {
        "id": "kmzKDpyE86lg"
      },
      "source": [
        "## 3. Сборка и обучение нейронной сети (5 баллов)"
      ]
    },
    {
      "cell_type": "markdown",
      "metadata": {
        "id": "mPqlZfj_86lg"
      },
      "source": [
        "Реализуйте из ваших блоков персептрон и обучите его, залоггировав итоговый лосс и метрику на валидационной выборке. **(1 балл)**\n",
        "\n",
        "Подсказка: вытягиваем картинку в вектор с помощью [nn.Flatten](https://pytorch.org/docs/stable/generated/torch.nn.Flatten.html)"
      ]
    },
    {
      "cell_type": "code",
      "execution_count": 168,
      "metadata": {
        "id": "tkESXVD87sM8"
      },
      "outputs": [],
      "source": [
        "class Network(nn.Module):\n",
        "    def __init__(self, input_size=28*28, hidden_layers_size=32, num_layers=5,\n",
        "                 num_classes=10, dropout_p=0.10):\n",
        "        super().__init__()\n",
        "        ###########################################################\n",
        "        ############# YOUR CODE HERE ##############################\n",
        "        ###########################################################\n",
        "        layers = []\n",
        "        layers.append(nn.Flatten())\n",
        "\n",
        "        if num_layers == 1:\n",
        "            layers.append(Linear(input_size, num_classes))\n",
        "        else:\n",
        "            layers.append(Linear(input_size, hidden_layers_size))\n",
        "            layers.append(ReLU())\n",
        "            layers.append(Dropout(dropout_p))\n",
        "\n",
        "            for _ in range(num_layers - 1):\n",
        "                layers.append(Linear(hidden_layers_size, hidden_layers_size))\n",
        "                layers.append(ReLU())\n",
        "                layers.append(Dropout(dropout_p))\n",
        "\n",
        "            layers.append(Linear(hidden_layers_size, num_classes))\n",
        "\n",
        "        layers.append(LogSoftmax())\n",
        "\n",
        "        self.model = nn.Sequential(*layers)\n",
        "\n",
        "    def forward(self, inp):\n",
        "        ###########################################################\n",
        "        ############# YOUR CODE HERE ##############################\n",
        "        ###########################################################\n",
        "        return self.model(inp)\n",
        "\n",
        "    def predict(self, inp):\n",
        "        ###########################################################\n",
        "        ############# YOUR CODE HERE ##############################\n",
        "        ###########################################################\n",
        "        with torch.no_grad():\n",
        "            output = self.model(inp)\n",
        "            _, predicted = torch.max(output.data, dim=1)\n",
        "        return predicted\n"
      ]
    },
    {
      "cell_type": "markdown",
      "metadata": {
        "id": "Vj-eEvMFfbSo"
      },
      "source": [
        "Ниже приведены функции, реализующие обучение нейронной сети. В данном задании их предлагается просто переиспользовать."
      ]
    },
    {
      "cell_type": "code",
      "execution_count": 169,
      "metadata": {
        "id": "vDhcoCB4OpXE"
      },
      "outputs": [],
      "source": [
        "class EmptyContext:\n",
        "    def __enter__(self):\n",
        "        pass\n",
        "\n",
        "    def __exit__(self, *args):\n",
        "        pass"
      ]
    },
    {
      "cell_type": "code",
      "execution_count": 170,
      "metadata": {
        "id": "8AsWblqIOquI"
      },
      "outputs": [],
      "source": [
        "# accuracy metric for our classififcation\n",
        "def accuracy(model_labels, labels):\n",
        "    return torch.mean((model_labels == labels).float())"
      ]
    },
    {
      "cell_type": "code",
      "execution_count": 171,
      "metadata": {
        "id": "Oy33FHuv_Us-"
      },
      "outputs": [],
      "source": [
        "def perform_epoch(model, loader, criterion,\n",
        "                optimizer=None, device=None):\n",
        "    is_train = optimizer is not None\n",
        "    model = model.to(device)\n",
        "    if is_train:\n",
        "        model.train()\n",
        "    else:\n",
        "        model.eval()\n",
        "\n",
        "    total_loss = 0\n",
        "    total_acc = 0\n",
        "    total_n = 0\n",
        "    with EmptyContext() if is_train else torch.no_grad():\n",
        "        for batch_data, batch_labels in loader:\n",
        "            batch_data = batch_data.to(device)\n",
        "            batch_labels = batch_labels.to(device)\n",
        "            model_labels = model(batch_data)\n",
        "            model_prediction = model.predict(batch_data)\n",
        "            new_loss = criterion(model_labels, batch_labels)\n",
        "            if is_train:\n",
        "                optimizer.zero_grad()\n",
        "                new_loss.backward()\n",
        "                optimizer.step()\n",
        "\n",
        "            one_batch_loss = float(criterion(model_labels, batch_labels))\n",
        "            one_batch_acc = accuracy(model_prediction, batch_labels)\n",
        "\n",
        "            total_loss += one_batch_loss\n",
        "            total_acc += one_batch_acc\n",
        "            total_n += 1\n",
        "    return (total_loss / total_n, total_acc / total_n)"
      ]
    },
    {
      "cell_type": "markdown",
      "metadata": {
        "id": "FtamPEJZgOY5"
      },
      "source": [
        "Теперь обучим нашу нейронную сеть. В данном разделе будем использовать оптимизатор `Adam` с параметрами по умолчанию."
      ]
    },
    {
      "cell_type": "code",
      "execution_count": 172,
      "metadata": {
        "id": "mEcyUJJI_aAn"
      },
      "outputs": [],
      "source": [
        "model     = Network()\n",
        "optimizer = Adam(model.parameters())\n",
        "criterion = CrossEntropy()"
      ]
    },
    {
      "cell_type": "code",
      "execution_count": 173,
      "metadata": {
        "id": "OBADDSi0_jx7",
        "colab": {
          "base_uri": "https://localhost:8080/"
        },
        "outputId": "b4acd50f-c09d-4016-a1d3-2f588a64e5f9"
      },
      "outputs": [
        {
          "output_type": "stream",
          "name": "stdout",
          "text": [
            "All computations are performed on -> cuda <-\n",
            "Epoch - 0 : loss 1.0146368581391871, accuracy 0.5792665481567383\n",
            "Current learning rate: 0.001\n",
            "Epoch - 1 : loss 0.7120358406975865, accuracy 0.7329463362693787\n",
            "Current learning rate: 0.001\n",
            "Epoch - 2 : loss 0.6344780146591366, accuracy 0.7676830291748047\n",
            "Current learning rate: 0.001\n",
            "Epoch - 3 : loss 0.5960784279964865, accuracy 0.7840672135353088\n",
            "Current learning rate: 0.001\n",
            "Epoch - 4 : loss 0.5791585617233068, accuracy 0.7936177253723145\n",
            "Current learning rate: 0.001\n",
            "Epoch - 5 : loss 0.5689124140902423, accuracy 0.7981011867523193\n",
            "Current learning rate: 0.001\n",
            "Epoch - 6 : loss 0.549681685837917, accuracy 0.8039682507514954\n",
            "Current learning rate: 0.001\n",
            "Epoch - 7 : loss 0.5434142429768107, accuracy 0.8058512210845947\n",
            "Current learning rate: 0.001\n",
            "Epoch - 8 : loss 0.5410092983008362, accuracy 0.809584379196167\n",
            "Current learning rate: 0.001\n",
            "Epoch - 9 : loss 0.5410941402968019, accuracy 0.8094348907470703\n",
            "Current learning rate: 0.001\n"
          ]
        }
      ],
      "source": [
        "device = torch.device(\"cuda\" if torch.cuda.is_available() else \"cpu\")\n",
        "\n",
        "model.to(device)\n",
        "\n",
        "print(f'All computations are performed on -> {device} <-')\n",
        "\n",
        "for epoch in range(10):\n",
        "    loss, acc = perform_epoch(model, train_dataloader, criterion,\n",
        "                                optimizer=optimizer, device=device)\n",
        "    print(f\"Epoch - {epoch} : loss {loss}, accuracy {acc}\")\n",
        "    print(f\"Current learning rate: {optimizer.param_groups[0]['lr']}\")"
      ]
    },
    {
      "cell_type": "code",
      "execution_count": 174,
      "metadata": {
        "id": "JxrvNtm3YSJn",
        "colab": {
          "base_uri": "https://localhost:8080/"
        },
        "outputId": "5fd95c2e-6feb-439c-e58d-4954d55a4d59"
      },
      "outputs": [
        {
          "output_type": "stream",
          "name": "stdout",
          "text": [
            "Epoch - 9 : loss 0.5410941402968019, accuracy 0.8094348907470703\n",
            "Current learning rate: 0.001\n"
          ]
        }
      ],
      "source": [
        "print(f\"Epoch - {epoch} : loss {loss}, accuracy {acc}\")\n",
        "print(f\"Current learning rate: {optimizer.param_groups[0]['lr']}\")"
      ]
    },
    {
      "cell_type": "markdown",
      "metadata": {
        "id": "WS41CQj0Y6Q8"
      },
      "source": [
        "Дальше **(4 балла)**:\n",
        "- Проведите эксперименты с числом слоев.\n",
        "- Постройте графики зависимости качества модели на тренировочной и тестовой выборках от числа слоев. Для получения статистически значимых результатов повторите эксперименты несколько раз.\n",
        "- Сделайте выводы.\n",
        "\n",
        "Training Loop для выполнения этой части задания можно и нужно улучшать, в том числе, добавляя более продвинутое логгирование эксперимента."
      ]
    },
    {
      "cell_type": "markdown",
      "source": [
        "Для начала напишем код для проведения экспериментов:"
      ],
      "metadata": {
        "id": "VvPaPIBpJjJS"
      }
    },
    {
      "cell_type": "code",
      "source": [
        "def num_layers_experiment(num_layers_list, train_dataloader, test_dataloader, device, input_size=784, hidden_size=32, num_classes=10, epochs=10, runs=3):\n",
        "    train_accuracies = {n_layers: [] for n_layers in num_layers_list}\n",
        "    test_accuracies = {n_layers: [] for n_layers in num_layers_list}\n",
        "\n",
        "    print(f'All computations are performed on -> {device} <-\\n')\n",
        "\n",
        "    for n_layers in num_layers_list:\n",
        "        print(f'Num layers - {n_layers} : ')\n",
        "        for run in range(runs):\n",
        "            print(f'{(\" \" * 2)}Run - {run+1} : ')\n",
        "            model = Network(input_size=input_size, hidden_layers_size=hidden_size, num_layers=n_layers, num_classes=num_classes).to(device)\n",
        "            criterion = CrossEntropy()\n",
        "            optimizer = Adam(model.parameters())\n",
        "\n",
        "            for epoch in range(epochs):\n",
        "                print(f'{(\" \" * 4)}Epoch - {epoch+1} : ')\n",
        "                print(f'{(\" \" * 6)}Current learning rate: {optimizer.param_groups[0][\"lr\"]}')\n",
        "                train_loss, train_acc = perform_epoch(model, train_dataloader, criterion, optimizer, device)\n",
        "                test_loss, test_acc = perform_epoch(model, test_dataloader, criterion, device=device)\n",
        "\n",
        "                train_accuracies[n_layers].append(train_acc)\n",
        "                test_accuracies[n_layers].append(test_acc)\n",
        "\n",
        "                print(f'{(\" \" * 6)}train loss: {train_loss:.4f}, train accuracy: {train_acc:.4f}')\n",
        "                print(f'{(\" \" * 6)}test loss: {test_loss:.4f}, test accuracy: {test_acc:.4f}')\n",
        "\n",
        "        print('\\n')\n",
        "\n",
        "    return train_accuracies, test_accuracies"
      ],
      "metadata": {
        "id": "Ojs1q-XoJv8S"
      },
      "execution_count": 177,
      "outputs": []
    },
    {
      "cell_type": "code",
      "source": [
        "num_layers = [1,3,5,7,9]\n",
        "\n",
        "device = torch.device(\"cuda\" if torch.cuda.is_available() else \"cpu\")\n",
        "\n",
        "train_accuracies, test_accuracies = num_layers_experiment(num_layers_list=num_layers, train_dataloader=train_dataloader, test_dataloader=test_dataloader, device=device)"
      ],
      "metadata": {
        "colab": {
          "base_uri": "https://localhost:8080/"
        },
        "id": "vFuFtobcKqRo",
        "outputId": "6f8d5d25-6627-46db-b768-dad79dac2d6e"
      },
      "execution_count": 179,
      "outputs": [
        {
          "output_type": "stream",
          "name": "stdout",
          "text": [
            "All computations are performed on -> cuda <-\n",
            "\n",
            "Num layers - 1 : \n",
            "  Run - 1 : \n",
            "    Epoch - 1 : \n",
            "      Current learning rate: 0.001\n",
            "      train loss: 14.3873, train accuracy: 0.7612\n",
            "      test loss: 12.0198, test accuracy: 0.7911\n",
            "    Epoch - 2 : \n",
            "      Current learning rate: 0.001\n",
            "      train loss: 15.1535, train accuracy: 0.7892\n",
            "      test loss: 13.7214, test accuracy: 0.7880\n",
            "    Epoch - 3 : \n",
            "      Current learning rate: 0.001\n",
            "      train loss: 14.8658, train accuracy: 0.7970\n",
            "      test loss: 17.7111, test accuracy: 0.7868\n",
            "    Epoch - 4 : \n",
            "      Current learning rate: 0.001\n",
            "      train loss: 15.2440, train accuracy: 0.7964\n",
            "      test loss: 14.1196, test accuracy: 0.8049\n",
            "    Epoch - 5 : \n",
            "      Current learning rate: 0.001\n",
            "      train loss: 14.8777, train accuracy: 0.8027\n",
            "      test loss: 17.3874, test accuracy: 0.8038\n",
            "    Epoch - 6 : \n",
            "      Current learning rate: 0.001\n",
            "      train loss: 14.9612, train accuracy: 0.8042\n",
            "      test loss: 14.0429, test accuracy: 0.8085\n",
            "    Epoch - 7 : \n",
            "      Current learning rate: 0.001\n",
            "      train loss: 15.2245, train accuracy: 0.8035\n",
            "      test loss: 15.7139, test accuracy: 0.8160\n",
            "    Epoch - 8 : \n",
            "      Current learning rate: 0.001\n",
            "      train loss: 14.7191, train accuracy: 0.8080\n",
            "      test loss: 16.0046, test accuracy: 0.7907\n",
            "    Epoch - 9 : \n",
            "      Current learning rate: 0.001\n",
            "      train loss: 15.5385, train accuracy: 0.8048\n",
            "      test loss: 18.2287, test accuracy: 0.8030\n",
            "    Epoch - 10 : \n",
            "      Current learning rate: 0.001\n",
            "      train loss: 15.1125, train accuracy: 0.8090\n",
            "      test loss: 14.7315, test accuracy: 0.8114\n",
            "  Run - 2 : \n",
            "    Epoch - 1 : \n",
            "      Current learning rate: 0.001\n",
            "      train loss: 14.6448, train accuracy: 0.7587\n",
            "      test loss: 27.0772, test accuracy: 0.6771\n",
            "    Epoch - 2 : \n",
            "      Current learning rate: 0.001\n",
            "      train loss: 15.2183, train accuracy: 0.7890\n",
            "      test loss: 12.9487, test accuracy: 0.8018\n",
            "    Epoch - 3 : \n",
            "      Current learning rate: 0.001\n",
            "      train loss: 15.5360, train accuracy: 0.7967\n",
            "      test loss: 19.9112, test accuracy: 0.7987\n",
            "    Epoch - 4 : \n",
            "      Current learning rate: 0.001\n",
            "      train loss: 14.6946, train accuracy: 0.7997\n",
            "      test loss: 14.5940, test accuracy: 0.8113\n",
            "    Epoch - 5 : \n",
            "      Current learning rate: 0.001\n",
            "      train loss: 15.2157, train accuracy: 0.8011\n",
            "      test loss: 13.9437, test accuracy: 0.8034\n",
            "    Epoch - 6 : \n",
            "      Current learning rate: 0.001\n",
            "      train loss: 15.6932, train accuracy: 0.8020\n",
            "      test loss: 20.5942, test accuracy: 0.7669\n",
            "    Epoch - 7 : \n",
            "      Current learning rate: 0.001\n",
            "      train loss: 14.6491, train accuracy: 0.8069\n",
            "      test loss: 15.9878, test accuracy: 0.7946\n",
            "    Epoch - 8 : \n",
            "      Current learning rate: 0.001\n",
            "      train loss: 15.5651, train accuracy: 0.8044\n",
            "      test loss: 15.5565, test accuracy: 0.8014\n",
            "    Epoch - 9 : \n",
            "      Current learning rate: 0.001\n",
            "      train loss: 15.2546, train accuracy: 0.8070\n",
            "      test loss: 21.1997, test accuracy: 0.7827\n",
            "    Epoch - 10 : \n",
            "      Current learning rate: 0.001\n",
            "      train loss: 15.6461, train accuracy: 0.8060\n",
            "      test loss: 22.1339, test accuracy: 0.7689\n",
            "  Run - 3 : \n",
            "    Epoch - 1 : \n",
            "      Current learning rate: 0.001\n",
            "      train loss: 14.5889, train accuracy: 0.7597\n",
            "      test loss: 16.3622, test accuracy: 0.7663\n",
            "    Epoch - 2 : \n",
            "      Current learning rate: 0.001\n",
            "      train loss: 15.1971, train accuracy: 0.7879\n",
            "      test loss: 14.2128, test accuracy: 0.8002\n",
            "    Epoch - 3 : \n",
            "      Current learning rate: 0.001\n",
            "      train loss: 15.3120, train accuracy: 0.7967\n",
            "      test loss: 12.1325, test accuracy: 0.8174\n",
            "    Epoch - 4 : \n",
            "      Current learning rate: 0.001\n",
            "      train loss: 15.4470, train accuracy: 0.7984\n",
            "      test loss: 23.1935, test accuracy: 0.7507\n",
            "    Epoch - 5 : \n",
            "      Current learning rate: 0.001\n",
            "      train loss: 15.4444, train accuracy: 0.8027\n",
            "      test loss: 18.9137, test accuracy: 0.7814\n",
            "    Epoch - 6 : \n",
            "      Current learning rate: 0.001\n",
            "      train loss: 15.2016, train accuracy: 0.8026\n",
            "      test loss: 15.4095, test accuracy: 0.8168\n",
            "    Epoch - 7 : \n",
            "      Current learning rate: 0.001\n",
            "      train loss: 15.3592, train accuracy: 0.8050\n",
            "      test loss: 17.0227, test accuracy: 0.7838\n",
            "    Epoch - 8 : \n",
            "      Current learning rate: 0.001\n",
            "      train loss: 15.1804, train accuracy: 0.8064\n",
            "      test loss: 18.3108, test accuracy: 0.7851\n",
            "    Epoch - 9 : \n",
            "      Current learning rate: 0.001\n",
            "      train loss: 14.4916, train accuracy: 0.8082\n",
            "      test loss: 16.7478, test accuracy: 0.7963\n",
            "    Epoch - 10 : \n",
            "      Current learning rate: 0.001\n",
            "      train loss: 15.6002, train accuracy: 0.8056\n",
            "      test loss: 16.9712, test accuracy: 0.8130\n",
            "\n",
            "\n",
            "Num layers - 3 : \n",
            "  Run - 1 : \n",
            "    Epoch - 1 : \n",
            "      Current learning rate: 0.001\n",
            "      train loss: 0.7629, train accuracy: 0.6990\n",
            "      test loss: 0.5942, test accuracy: 0.7791\n",
            "    Epoch - 2 : \n",
            "      Current learning rate: 0.001\n",
            "      train loss: 0.5749, train accuracy: 0.7899\n",
            "      test loss: 0.5160, test accuracy: 0.8166\n",
            "    Epoch - 3 : \n",
            "      Current learning rate: 0.001\n",
            "      train loss: 0.5392, train accuracy: 0.8060\n",
            "      test loss: 0.4717, test accuracy: 0.8330\n",
            "    Epoch - 4 : \n",
            "      Current learning rate: 0.001\n",
            "      train loss: 0.5161, train accuracy: 0.8150\n",
            "      test loss: 0.4605, test accuracy: 0.8380\n",
            "    Epoch - 5 : \n",
            "      Current learning rate: 0.001\n",
            "      train loss: 0.5106, train accuracy: 0.8183\n",
            "      test loss: 0.5000, test accuracy: 0.8386\n",
            "    Epoch - 6 : \n",
            "      Current learning rate: 0.001\n",
            "      train loss: 0.4992, train accuracy: 0.8222\n",
            "      test loss: 0.4681, test accuracy: 0.8361\n",
            "    Epoch - 7 : \n",
            "      Current learning rate: 0.001\n",
            "      train loss: 0.4992, train accuracy: 0.8257\n",
            "      test loss: 0.4499, test accuracy: 0.8438\n",
            "    Epoch - 8 : \n",
            "      Current learning rate: 0.001\n",
            "      train loss: 0.4916, train accuracy: 0.8243\n",
            "      test loss: 0.4797, test accuracy: 0.8307\n",
            "    Epoch - 9 : \n",
            "      Current learning rate: 0.001\n",
            "      train loss: 0.4841, train accuracy: 0.8270\n",
            "      test loss: 0.4926, test accuracy: 0.8274\n",
            "    Epoch - 10 : \n",
            "      Current learning rate: 0.001\n",
            "      train loss: 0.4964, train accuracy: 0.8243\n",
            "      test loss: 0.4457, test accuracy: 0.8426\n",
            "  Run - 2 : \n",
            "    Epoch - 1 : \n",
            "      Current learning rate: 0.001\n",
            "      train loss: 0.7571, train accuracy: 0.7085\n",
            "      test loss: 0.5412, test accuracy: 0.7909\n",
            "    Epoch - 2 : \n",
            "      Current learning rate: 0.001\n",
            "      train loss: 0.6073, train accuracy: 0.7775\n",
            "      test loss: 0.5225, test accuracy: 0.8137\n",
            "    Epoch - 3 : \n",
            "      Current learning rate: 0.001\n",
            "      train loss: 0.5782, train accuracy: 0.7921\n",
            "      test loss: 0.6022, test accuracy: 0.7952\n",
            "    Epoch - 4 : \n",
            "      Current learning rate: 0.001\n",
            "      train loss: 0.5587, train accuracy: 0.8004\n",
            "      test loss: 0.4827, test accuracy: 0.8313\n",
            "    Epoch - 5 : \n",
            "      Current learning rate: 0.001\n",
            "      train loss: 0.5445, train accuracy: 0.8069\n",
            "      test loss: 0.4621, test accuracy: 0.8336\n",
            "    Epoch - 6 : \n",
            "      Current learning rate: 0.001\n",
            "      train loss: 0.5346, train accuracy: 0.8106\n",
            "      test loss: 0.4750, test accuracy: 0.8323\n",
            "    Epoch - 7 : \n",
            "      Current learning rate: 0.001\n",
            "      train loss: 0.5266, train accuracy: 0.8165\n",
            "      test loss: 0.4630, test accuracy: 0.8441\n",
            "    Epoch - 8 : \n",
            "      Current learning rate: 0.001\n",
            "      train loss: 0.5235, train accuracy: 0.8174\n",
            "      test loss: 0.4775, test accuracy: 0.8320\n",
            "    Epoch - 9 : \n",
            "      Current learning rate: 0.001\n",
            "      train loss: 0.5186, train accuracy: 0.8187\n",
            "      test loss: 0.4532, test accuracy: 0.8414\n",
            "    Epoch - 10 : \n",
            "      Current learning rate: 0.001\n",
            "      train loss: 0.5201, train accuracy: 0.8203\n",
            "      test loss: 0.5240, test accuracy: 0.8102\n",
            "  Run - 3 : \n",
            "    Epoch - 1 : \n",
            "      Current learning rate: 0.001\n",
            "      train loss: 0.7266, train accuracy: 0.7268\n",
            "      test loss: 0.4963, test accuracy: 0.8234\n",
            "    Epoch - 2 : \n",
            "      Current learning rate: 0.001\n",
            "      train loss: 0.5445, train accuracy: 0.8087\n",
            "      test loss: 0.4999, test accuracy: 0.8269\n",
            "    Epoch - 3 : \n",
            "      Current learning rate: 0.001\n",
            "      train loss: 0.5148, train accuracy: 0.8220\n",
            "      test loss: 0.4602, test accuracy: 0.8415\n",
            "    Epoch - 4 : \n",
            "      Current learning rate: 0.001\n",
            "      train loss: 0.5031, train accuracy: 0.8247\n",
            "      test loss: 0.4507, test accuracy: 0.8452\n",
            "    Epoch - 5 : \n",
            "      Current learning rate: 0.001\n",
            "      train loss: 0.4922, train accuracy: 0.8267\n",
            "      test loss: 0.5014, test accuracy: 0.8298\n",
            "    Epoch - 6 : \n",
            "      Current learning rate: 0.001\n",
            "      train loss: 0.4869, train accuracy: 0.8307\n",
            "      test loss: 0.4779, test accuracy: 0.8368\n",
            "    Epoch - 7 : \n",
            "      Current learning rate: 0.001\n",
            "      train loss: 0.4811, train accuracy: 0.8336\n",
            "      test loss: 0.4560, test accuracy: 0.8439\n",
            "    Epoch - 8 : \n",
            "      Current learning rate: 0.001\n",
            "      train loss: 0.4764, train accuracy: 0.8344\n",
            "      test loss: 0.4519, test accuracy: 0.8461\n",
            "    Epoch - 9 : \n",
            "      Current learning rate: 0.001\n",
            "      train loss: 0.4676, train accuracy: 0.8357\n",
            "      test loss: 0.4574, test accuracy: 0.8422\n",
            "    Epoch - 10 : \n",
            "      Current learning rate: 0.001\n",
            "      train loss: 0.4696, train accuracy: 0.8351\n",
            "      test loss: 0.4638, test accuracy: 0.8407\n",
            "\n",
            "\n",
            "Num layers - 5 : \n",
            "  Run - 1 : \n",
            "    Epoch - 1 : \n",
            "      Current learning rate: 0.001\n",
            "      train loss: 0.9585, train accuracy: 0.5849\n",
            "      test loss: 0.7306, test accuracy: 0.6812\n",
            "    Epoch - 2 : \n",
            "      Current learning rate: 0.001\n",
            "      train loss: 0.6958, train accuracy: 0.7324\n",
            "      test loss: 0.6055, test accuracy: 0.7686\n",
            "    Epoch - 3 : \n",
            "      Current learning rate: 0.001\n",
            "      train loss: 0.6260, train accuracy: 0.7654\n",
            "      test loss: 0.5392, test accuracy: 0.7991\n",
            "    Epoch - 4 : \n",
            "      Current learning rate: 0.001\n",
            "      train loss: 0.5979, train accuracy: 0.7788\n",
            "      test loss: 0.5368, test accuracy: 0.8124\n",
            "    Epoch - 5 : \n",
            "      Current learning rate: 0.001\n",
            "      train loss: 0.5753, train accuracy: 0.7904\n",
            "      test loss: 0.4978, test accuracy: 0.8213\n",
            "    Epoch - 6 : \n",
            "      Current learning rate: 0.001\n",
            "      train loss: 0.5601, train accuracy: 0.8022\n",
            "      test loss: 0.4806, test accuracy: 0.8347\n",
            "    Epoch - 7 : \n",
            "      Current learning rate: 0.001\n",
            "      train loss: 0.5509, train accuracy: 0.8054\n",
            "      test loss: 0.5009, test accuracy: 0.8222\n",
            "    Epoch - 8 : \n",
            "      Current learning rate: 0.001\n",
            "      train loss: 0.5397, train accuracy: 0.8110\n",
            "      test loss: 0.4830, test accuracy: 0.8329\n",
            "    Epoch - 9 : \n",
            "      Current learning rate: 0.001\n",
            "      train loss: 0.5421, train accuracy: 0.8123\n",
            "      test loss: 0.4684, test accuracy: 0.8354\n",
            "    Epoch - 10 : \n",
            "      Current learning rate: 0.001\n",
            "      train loss: 0.5414, train accuracy: 0.8092\n",
            "      test loss: 0.4894, test accuracy: 0.8286\n",
            "  Run - 2 : \n",
            "    Epoch - 1 : \n",
            "      Current learning rate: 0.001\n",
            "      train loss: 1.0605, train accuracy: 0.5427\n",
            "      test loss: 0.6750, test accuracy: 0.7287\n",
            "    Epoch - 2 : \n",
            "      Current learning rate: 0.001\n",
            "      train loss: 0.7373, train accuracy: 0.7111\n",
            "      test loss: 0.6933, test accuracy: 0.7240\n",
            "    Epoch - 3 : \n",
            "      Current learning rate: 0.001\n",
            "      train loss: 0.6785, train accuracy: 0.7370\n",
            "      test loss: 0.6054, test accuracy: 0.7779\n",
            "    Epoch - 4 : \n",
            "      Current learning rate: 0.001\n",
            "      train loss: 0.6360, train accuracy: 0.7675\n",
            "      test loss: 0.5560, test accuracy: 0.8048\n",
            "    Epoch - 5 : \n",
            "      Current learning rate: 0.001\n",
            "      train loss: 0.6084, train accuracy: 0.7773\n",
            "      test loss: 0.5390, test accuracy: 0.8028\n",
            "    Epoch - 6 : \n",
            "      Current learning rate: 0.001\n",
            "      train loss: 0.5903, train accuracy: 0.7885\n",
            "      test loss: 0.5006, test accuracy: 0.8214\n",
            "    Epoch - 7 : \n",
            "      Current learning rate: 0.001\n",
            "      train loss: 0.5750, train accuracy: 0.7937\n",
            "      test loss: 0.5526, test accuracy: 0.7970\n",
            "    Epoch - 8 : \n",
            "      Current learning rate: 0.001\n",
            "      train loss: 0.5670, train accuracy: 0.7971\n",
            "      test loss: 0.5048, test accuracy: 0.8172\n",
            "    Epoch - 9 : \n",
            "      Current learning rate: 0.001\n",
            "      train loss: 0.5587, train accuracy: 0.8019\n",
            "      test loss: 0.4953, test accuracy: 0.8233\n",
            "    Epoch - 10 : \n",
            "      Current learning rate: 0.001\n",
            "      train loss: 0.5537, train accuracy: 0.8044\n",
            "      test loss: 0.4995, test accuracy: 0.8282\n",
            "  Run - 3 : \n",
            "    Epoch - 1 : \n",
            "      Current learning rate: 0.001\n",
            "      train loss: 1.0813, train accuracy: 0.5313\n",
            "      test loss: 0.7824, test accuracy: 0.6383\n",
            "    Epoch - 2 : \n",
            "      Current learning rate: 0.001\n",
            "      train loss: 0.8073, train accuracy: 0.6592\n",
            "      test loss: 0.6726, test accuracy: 0.7425\n",
            "    Epoch - 3 : \n",
            "      Current learning rate: 0.001\n",
            "      train loss: 0.7245, train accuracy: 0.7137\n",
            "      test loss: 0.6354, test accuracy: 0.7639\n",
            "    Epoch - 4 : \n",
            "      Current learning rate: 0.001\n",
            "      train loss: 0.6813, train accuracy: 0.7413\n",
            "      test loss: 0.6173, test accuracy: 0.7655\n",
            "    Epoch - 5 : \n",
            "      Current learning rate: 0.001\n",
            "      train loss: 0.6469, train accuracy: 0.7603\n",
            "      test loss: 0.5791, test accuracy: 0.8031\n",
            "    Epoch - 6 : \n",
            "      Current learning rate: 0.001\n",
            "      train loss: 0.6118, train accuracy: 0.7841\n",
            "      test loss: 0.5364, test accuracy: 0.8210\n",
            "    Epoch - 7 : \n",
            "      Current learning rate: 0.001\n",
            "      train loss: 0.5828, train accuracy: 0.7969\n",
            "      test loss: 0.5008, test accuracy: 0.8260\n",
            "    Epoch - 8 : \n",
            "      Current learning rate: 0.001\n",
            "      train loss: 0.5667, train accuracy: 0.8022\n",
            "      test loss: 0.5021, test accuracy: 0.8278\n",
            "    Epoch - 9 : \n",
            "      Current learning rate: 0.001\n",
            "      train loss: 0.5645, train accuracy: 0.8071\n",
            "      test loss: 0.4874, test accuracy: 0.8324\n",
            "    Epoch - 10 : \n",
            "      Current learning rate: 0.001\n",
            "      train loss: 0.5549, train accuracy: 0.8075\n",
            "      test loss: 0.5184, test accuracy: 0.8249\n",
            "\n",
            "\n",
            "Num layers - 7 : \n",
            "  Run - 1 : \n",
            "    Epoch - 1 : \n",
            "      Current learning rate: 0.001\n",
            "      train loss: 1.2016, train accuracy: 0.5041\n",
            "      test loss: 0.7982, test accuracy: 0.6578\n",
            "    Epoch - 2 : \n",
            "      Current learning rate: 0.001\n",
            "      train loss: 0.8436, train accuracy: 0.6456\n",
            "      test loss: 0.7447, test accuracy: 0.7054\n",
            "    Epoch - 3 : \n",
            "      Current learning rate: 0.001\n",
            "      train loss: 0.7758, train accuracy: 0.7051\n",
            "      test loss: 0.6551, test accuracy: 0.7634\n",
            "    Epoch - 4 : \n",
            "      Current learning rate: 0.001\n",
            "      train loss: 0.7111, train accuracy: 0.7472\n",
            "      test loss: 0.6046, test accuracy: 0.7963\n",
            "    Epoch - 5 : \n",
            "      Current learning rate: 0.001\n",
            "      train loss: 0.6720, train accuracy: 0.7652\n",
            "      test loss: 0.5626, test accuracy: 0.8127\n",
            "    Epoch - 6 : \n",
            "      Current learning rate: 0.001\n",
            "      train loss: 0.6662, train accuracy: 0.7709\n",
            "      test loss: 0.5598, test accuracy: 0.8143\n",
            "    Epoch - 7 : \n",
            "      Current learning rate: 0.001\n",
            "      train loss: 0.6543, train accuracy: 0.7759\n",
            "      test loss: 0.5520, test accuracy: 0.8129\n",
            "    Epoch - 8 : \n",
            "      Current learning rate: 0.001\n",
            "      train loss: 0.6299, train accuracy: 0.7822\n",
            "      test loss: 0.5462, test accuracy: 0.8203\n",
            "    Epoch - 9 : \n",
            "      Current learning rate: 0.001\n",
            "      train loss: 0.6245, train accuracy: 0.7848\n",
            "      test loss: 0.5439, test accuracy: 0.8192\n",
            "    Epoch - 10 : \n",
            "      Current learning rate: 0.001\n",
            "      train loss: 0.6145, train accuracy: 0.7933\n",
            "      test loss: 0.5472, test accuracy: 0.8129\n",
            "  Run - 2 : \n",
            "    Epoch - 1 : \n",
            "      Current learning rate: 0.001\n",
            "      train loss: 1.2681, train accuracy: 0.4434\n",
            "      test loss: 0.9772, test accuracy: 0.6259\n",
            "    Epoch - 2 : \n",
            "      Current learning rate: 0.001\n",
            "      train loss: 0.9013, train accuracy: 0.6350\n",
            "      test loss: 0.7112, test accuracy: 0.7262\n",
            "    Epoch - 3 : \n",
            "      Current learning rate: 0.001\n",
            "      train loss: 0.8130, train accuracy: 0.6808\n",
            "      test loss: 0.7554, test accuracy: 0.6938\n",
            "    Epoch - 4 : \n",
            "      Current learning rate: 0.001\n",
            "      train loss: 0.7639, train accuracy: 0.7001\n",
            "      test loss: 0.6530, test accuracy: 0.7287\n",
            "    Epoch - 5 : \n",
            "      Current learning rate: 0.001\n",
            "      train loss: 0.7187, train accuracy: 0.7212\n",
            "      test loss: 0.6205, test accuracy: 0.7327\n",
            "    Epoch - 6 : \n",
            "      Current learning rate: 0.001\n",
            "      train loss: 0.6899, train accuracy: 0.7384\n",
            "      test loss: 0.6092, test accuracy: 0.7382\n",
            "    Epoch - 7 : \n",
            "      Current learning rate: 0.001\n",
            "      train loss: 0.6677, train accuracy: 0.7394\n",
            "      test loss: 0.5968, test accuracy: 0.7561\n",
            "    Epoch - 8 : \n",
            "      Current learning rate: 0.001\n",
            "      train loss: 0.6570, train accuracy: 0.7508\n",
            "      test loss: 0.5883, test accuracy: 0.7608\n",
            "    Epoch - 9 : \n",
            "      Current learning rate: 0.001\n",
            "      train loss: 0.6623, train accuracy: 0.7435\n",
            "      test loss: 0.5922, test accuracy: 0.7637\n",
            "    Epoch - 10 : \n",
            "      Current learning rate: 0.001\n",
            "      train loss: 0.6277, train accuracy: 0.7634\n",
            "      test loss: 0.5654, test accuracy: 0.7850\n",
            "  Run - 3 : \n",
            "    Epoch - 1 : \n",
            "      Current learning rate: 0.001\n",
            "      train loss: 1.1818, train accuracy: 0.4888\n",
            "      test loss: 0.9156, test accuracy: 0.5541\n",
            "    Epoch - 2 : \n",
            "      Current learning rate: 0.001\n",
            "      train loss: 0.8799, train accuracy: 0.6360\n",
            "      test loss: 0.7760, test accuracy: 0.6932\n",
            "    Epoch - 3 : \n",
            "      Current learning rate: 0.001\n",
            "      train loss: 0.8097, train accuracy: 0.6772\n",
            "      test loss: 0.7167, test accuracy: 0.7144\n",
            "    Epoch - 4 : \n",
            "      Current learning rate: 0.001\n",
            "      train loss: 0.7487, train accuracy: 0.6997\n",
            "      test loss: 0.6525, test accuracy: 0.7394\n",
            "    Epoch - 5 : \n",
            "      Current learning rate: 0.001\n",
            "      train loss: 0.6891, train accuracy: 0.7193\n",
            "      test loss: 0.6394, test accuracy: 0.7482\n",
            "    Epoch - 6 : \n",
            "      Current learning rate: 0.001\n",
            "      train loss: 0.6604, train accuracy: 0.7464\n",
            "      test loss: 0.6607, test accuracy: 0.7649\n",
            "    Epoch - 7 : \n",
            "      Current learning rate: 0.001\n",
            "      train loss: 0.6368, train accuracy: 0.7742\n",
            "      test loss: 0.6080, test accuracy: 0.7750\n",
            "    Epoch - 8 : \n",
            "      Current learning rate: 0.001\n",
            "      train loss: 0.6219, train accuracy: 0.7777\n",
            "      test loss: 0.6228, test accuracy: 0.7859\n",
            "    Epoch - 9 : \n",
            "      Current learning rate: 0.001\n",
            "      train loss: 0.6134, train accuracy: 0.7817\n",
            "      test loss: 0.5740, test accuracy: 0.7919\n",
            "    Epoch - 10 : \n",
            "      Current learning rate: 0.001\n",
            "      train loss: 0.5952, train accuracy: 0.7888\n",
            "      test loss: 0.5304, test accuracy: 0.8089\n",
            "\n",
            "\n",
            "Num layers - 9 : \n",
            "  Run - 1 : \n",
            "    Epoch - 1 : \n",
            "      Current learning rate: 0.001\n",
            "      train loss: 2.3028, train accuracy: 0.0991\n",
            "      test loss: 2.3027, test accuracy: 0.1000\n",
            "    Epoch - 2 : \n",
            "      Current learning rate: 0.001\n",
            "      train loss: 2.3029, train accuracy: 0.0979\n",
            "      test loss: 2.3027, test accuracy: 0.1000\n",
            "    Epoch - 3 : \n",
            "      Current learning rate: 0.001\n",
            "      train loss: 2.3028, train accuracy: 0.0986\n",
            "      test loss: 2.3027, test accuracy: 0.1001\n",
            "    Epoch - 4 : \n",
            "      Current learning rate: 0.001\n",
            "      train loss: 2.3028, train accuracy: 0.0973\n",
            "      test loss: 2.3027, test accuracy: 0.1001\n",
            "    Epoch - 5 : \n",
            "      Current learning rate: 0.001\n",
            "      train loss: 2.3028, train accuracy: 0.0978\n",
            "      test loss: 2.3027, test accuracy: 0.1001\n",
            "    Epoch - 6 : \n",
            "      Current learning rate: 0.001\n",
            "      train loss: 2.3028, train accuracy: 0.0999\n",
            "      test loss: 2.3027, test accuracy: 0.1000\n",
            "    Epoch - 7 : \n",
            "      Current learning rate: 0.001\n",
            "      train loss: 2.3029, train accuracy: 0.0982\n",
            "      test loss: 2.3027, test accuracy: 0.1001\n",
            "    Epoch - 8 : \n",
            "      Current learning rate: 0.001\n",
            "      train loss: 2.3028, train accuracy: 0.0995\n",
            "      test loss: 2.3027, test accuracy: 0.1001\n",
            "    Epoch - 9 : \n",
            "      Current learning rate: 0.001\n",
            "      train loss: 2.3029, train accuracy: 0.0969\n",
            "      test loss: 2.3026, test accuracy: 0.1001\n",
            "    Epoch - 10 : \n",
            "      Current learning rate: 0.001\n",
            "      train loss: 2.3028, train accuracy: 0.0995\n",
            "      test loss: 2.3028, test accuracy: 0.1001\n",
            "  Run - 2 : \n",
            "    Epoch - 1 : \n",
            "      Current learning rate: 0.001\n",
            "      train loss: 2.3029, train accuracy: 0.0964\n",
            "      test loss: 2.3027, test accuracy: 0.1001\n",
            "    Epoch - 2 : \n",
            "      Current learning rate: 0.001\n",
            "      train loss: 2.3028, train accuracy: 0.0990\n",
            "      test loss: 2.3027, test accuracy: 0.1001\n",
            "    Epoch - 3 : \n",
            "      Current learning rate: 0.001\n",
            "      train loss: 2.3028, train accuracy: 0.0990\n",
            "      test loss: 2.3027, test accuracy: 0.1000\n",
            "    Epoch - 4 : \n",
            "      Current learning rate: 0.001\n",
            "      train loss: 2.3029, train accuracy: 0.0979\n",
            "      test loss: 2.3026, test accuracy: 0.1000\n",
            "    Epoch - 5 : \n",
            "      Current learning rate: 0.001\n",
            "      train loss: 2.3028, train accuracy: 0.0969\n",
            "      test loss: 2.3027, test accuracy: 0.1001\n",
            "    Epoch - 6 : \n",
            "      Current learning rate: 0.001\n",
            "      train loss: 2.3028, train accuracy: 0.0989\n",
            "      test loss: 2.3028, test accuracy: 0.1000\n",
            "    Epoch - 7 : \n",
            "      Current learning rate: 0.001\n",
            "      train loss: 2.3029, train accuracy: 0.0967\n",
            "      test loss: 2.3026, test accuracy: 0.1000\n",
            "    Epoch - 8 : \n",
            "      Current learning rate: 0.001\n",
            "      train loss: 2.3028, train accuracy: 0.0977\n",
            "      test loss: 2.3027, test accuracy: 0.1000\n",
            "    Epoch - 9 : \n",
            "      Current learning rate: 0.001\n",
            "      train loss: 2.3029, train accuracy: 0.0968\n",
            "      test loss: 2.3026, test accuracy: 0.1001\n",
            "    Epoch - 10 : \n",
            "      Current learning rate: 0.001\n",
            "      train loss: 2.3029, train accuracy: 0.0990\n",
            "      test loss: 2.3026, test accuracy: 0.1000\n",
            "  Run - 3 : \n",
            "    Epoch - 1 : \n",
            "      Current learning rate: 0.001\n",
            "      train loss: 2.3028, train accuracy: 0.1001\n",
            "      test loss: 2.3027, test accuracy: 0.1000\n",
            "    Epoch - 2 : \n",
            "      Current learning rate: 0.001\n",
            "      train loss: 2.3029, train accuracy: 0.0985\n",
            "      test loss: 2.3027, test accuracy: 0.1000\n",
            "    Epoch - 3 : \n",
            "      Current learning rate: 0.001\n",
            "      train loss: 2.3029, train accuracy: 0.0962\n",
            "      test loss: 2.3026, test accuracy: 0.1000\n",
            "    Epoch - 4 : \n",
            "      Current learning rate: 0.001\n",
            "      train loss: 2.3029, train accuracy: 0.0982\n",
            "      test loss: 2.3027, test accuracy: 0.1000\n",
            "    Epoch - 5 : \n",
            "      Current learning rate: 0.001\n",
            "      train loss: 2.3029, train accuracy: 0.1000\n",
            "      test loss: 2.3027, test accuracy: 0.1002\n",
            "    Epoch - 6 : \n",
            "      Current learning rate: 0.001\n",
            "      train loss: 2.3029, train accuracy: 0.0971\n",
            "      test loss: 2.3027, test accuracy: 0.1001\n",
            "    Epoch - 7 : \n",
            "      Current learning rate: 0.001\n",
            "      train loss: 2.3029, train accuracy: 0.0986\n",
            "      test loss: 2.3027, test accuracy: 0.1000\n",
            "    Epoch - 8 : \n",
            "      Current learning rate: 0.001\n",
            "      train loss: 2.3028, train accuracy: 0.1002\n",
            "      test loss: 2.3027, test accuracy: 0.1000\n",
            "    Epoch - 9 : \n",
            "      Current learning rate: 0.001\n",
            "      train loss: 2.3028, train accuracy: 0.0998\n",
            "      test loss: 2.3028, test accuracy: 0.1000\n",
            "    Epoch - 10 : \n",
            "      Current learning rate: 0.001\n",
            "      train loss: 2.3028, train accuracy: 0.0993\n",
            "      test loss: 2.3027, test accuracy: 0.1001\n",
            "\n",
            "\n"
          ]
        }
      ]
    },
    {
      "cell_type": "code",
      "source": [
        "final_train_accuracies = {key: values[9::10] for key, values in train_accuracies.items()}\n",
        "final_test_accuracies = {key: values[9::10] for key, values in test_accuracies.items()}\n",
        "final_train_accuracies, final_test_accuracies"
      ],
      "metadata": {
        "colab": {
          "base_uri": "https://localhost:8080/"
        },
        "id": "eDNsqQz9BjHY",
        "outputId": "63c833e0-a8b3-4894-f89f-06a5280902d1"
      },
      "execution_count": 191,
      "outputs": [
        {
          "output_type": "execute_result",
          "data": {
            "text/plain": [
              "({1: [tensor(0.8090, device='cuda:0'),\n",
              "   tensor(0.8060, device='cuda:0'),\n",
              "   tensor(0.8056, device='cuda:0')],\n",
              "  3: [tensor(0.8243, device='cuda:0'),\n",
              "   tensor(0.8203, device='cuda:0'),\n",
              "   tensor(0.8351, device='cuda:0')],\n",
              "  5: [tensor(0.8092, device='cuda:0'),\n",
              "   tensor(0.8044, device='cuda:0'),\n",
              "   tensor(0.8075, device='cuda:0')],\n",
              "  7: [tensor(0.7933, device='cuda:0'),\n",
              "   tensor(0.7634, device='cuda:0'),\n",
              "   tensor(0.7888, device='cuda:0')],\n",
              "  9: [tensor(0.0995, device='cuda:0'),\n",
              "   tensor(0.0990, device='cuda:0'),\n",
              "   tensor(0.0993, device='cuda:0')]},\n",
              " {1: [tensor(0.8114, device='cuda:0'),\n",
              "   tensor(0.7689, device='cuda:0'),\n",
              "   tensor(0.8130, device='cuda:0')],\n",
              "  3: [tensor(0.8426, device='cuda:0'),\n",
              "   tensor(0.8102, device='cuda:0'),\n",
              "   tensor(0.8407, device='cuda:0')],\n",
              "  5: [tensor(0.8286, device='cuda:0'),\n",
              "   tensor(0.8282, device='cuda:0'),\n",
              "   tensor(0.8249, device='cuda:0')],\n",
              "  7: [tensor(0.8129, device='cuda:0'),\n",
              "   tensor(0.7850, device='cuda:0'),\n",
              "   tensor(0.8089, device='cuda:0')],\n",
              "  9: [tensor(0.1001, device='cuda:0'),\n",
              "   tensor(0.1000, device='cuda:0'),\n",
              "   tensor(0.1001, device='cuda:0')]})"
            ]
          },
          "metadata": {},
          "execution_count": 191
        }
      ]
    },
    {
      "cell_type": "code",
      "source": [
        "def plot_boxplots(train_accuracies, test_accuracies, num_layers):\n",
        "    train_data = [torch.tensor(accuracies).cpu().numpy() for accuracies in train_accuracies.values()]\n",
        "    test_data = [torch.tensor(accuracies).cpu().numpy() for accuracies in test_accuracies.values()]\n",
        "\n",
        "    plt.figure(figsize=(12, 6))\n",
        "\n",
        "    # Создание боксплота для тренировочных данных\n",
        "    plt.subplot(1, 2, 1)\n",
        "    plt.boxplot(train_data, labels=train_accuracies.keys())\n",
        "    plt.title('Train Accuracies')\n",
        "    plt.xlabel('Number of linear layers')\n",
        "    plt.ylabel('Accuracy')\n",
        "\n",
        "    # Создание боксплота для тестовых данных\n",
        "    plt.subplot(1, 2, 2)\n",
        "    plt.boxplot(test_data, labels=test_accuracies.keys())\n",
        "    plt.title('Test Accuracies')\n",
        "    plt.xlabel('Number of linear layers')\n",
        "    plt.ylabel('Accuracy')\n",
        "\n",
        "    plt.tight_layout()\n",
        "    plt.show()"
      ],
      "metadata": {
        "id": "XsaxEHA2n1tm"
      },
      "execution_count": 199,
      "outputs": []
    },
    {
      "cell_type": "code",
      "source": [
        "plot_boxplots(final_train_accuracies, final_test_accuracies, num_layers)"
      ],
      "metadata": {
        "colab": {
          "base_uri": "https://localhost:8080/",
          "height": 607
        },
        "id": "j8HkE8bRC77O",
        "outputId": "71c8e8d4-ecc2-4dd6-e521-ef0191f35810"
      },
      "execution_count": 200,
      "outputs": [
        {
          "output_type": "display_data",
          "data": {
            "text/plain": [
              "<Figure size 1200x600 with 2 Axes>"
            ],
            "image/png": "[encoded data removed]"
          },
          "metadata": {}
        }
      ]
    },
    {
      "cell_type": "markdown",
      "source": [
        "### Итоги:\n",
        "Как видно из проведенных экспериментов для данной задачи с заданной архитектурой максимальная точность достигается при количестве слоев в диапазоне [3;5]. Максимальная точность равна при этом примерно 80-83%.\n",
        "\n",
        "Также заметим, что при 9 слоях модель работает на уровне constant модели (и даже немного хуже), что говорит нам о том, что избыточное число слоев может привести к снижению качества."
      ],
      "metadata": {
        "id": "j3K5k6V1EN3Q"
      }
    },
    {
      "cell_type": "markdown",
      "metadata": {
        "id": "d3vcONKQ86mu"
      },
      "source": [
        "## 4. Бонусная часть."
      ]
    },
    {
      "cell_type": "markdown",
      "metadata": {
        "id": "Kuhxy7aW86mu"
      },
      "source": [
        "### 4.1 Реализация метода оптимизации (3 + 3 балла).\n",
        "Реализуйте сами метод оптимизации  для рассмотренной выше архитектуры. Вы можете выбрать произвольный метод от градиентного спуска до современных вариантов. Продемонстрируйте правильную работу метода оптимизации, сравните его работы с Adam.\n",
        "\n",
        "**Дополнительные баллы** вы получите, если метод будет уникален среди сдавших задание."
      ]
    },
    {
      "cell_type": "code",
      "execution_count": 203,
      "metadata": {
        "id": "GYMu0uF1p6o0"
      },
      "outputs": [],
      "source": [
        "class SGDMomentum(Optimizer):\n",
        "    def __init__(self, params, lr=1e-3, momentum=0.9):\n",
        "        defaults = dict(lr=lr, momentum=momentum)\n",
        "        super(SGDMomentum, self).__init__(params, defaults)\n",
        "\n",
        "    def __setstate__(self, state):\n",
        "        super(SGDMomentum, self).__setstate__(state)\n",
        "\n",
        "    @torch.no_grad()\n",
        "    def step(self):\n",
        "        for group in self.param_groups:\n",
        "            lr = group['lr']\n",
        "            momentum = group['momentum']\n",
        "\n",
        "            for p in group['params']:\n",
        "                if p.grad is not None:\n",
        "                    grad = p.grad\n",
        "                    state = self.state[p]\n",
        "\n",
        "                    if len(state) == 0:\n",
        "                        state['momentum_buffer'] = torch.zeros_like(p)\n",
        "\n",
        "                    momentum_buffer = state['momentum_buffer']\n",
        "                    momentum_buffer.mul_(momentum).add_(grad)\n",
        "                    p.data.add_(-lr * momentum_buffer)"
      ]
    },
    {
      "cell_type": "markdown",
      "metadata": {
        "id": "d3aabYCykXL7"
      },
      "source": [
        "### 4.2 Реализация современной функции активации (2 + 2 балла).\n",
        "Реализуйте одну из активаций, предложенных на лекции или в статье. Например, `Hardswish`. Сравните сеть с вашей активацией и с `ReLU`.\n",
        "\n",
        "**Дополнительные баллы** вы получите, если функция будет уникальна среди сдавших задание."
      ]
    },
    {
      "cell_type": "markdown",
      "source": [
        "Я хочу реализовать функцию активации Mish. Формулу для градиентов я взял здесь: https://www.kaggle.com/code/samuelcortinhas/mish-a-self-regularized-activation-function-tf"
      ],
      "metadata": {
        "id": "z9wBRx2y_Ard"
      }
    },
    {
      "cell_type": "code",
      "source": [
        "class MishFunction(Function):\n",
        "    @staticmethod\n",
        "    def forward(ctx, input):\n",
        "        output = input * torch.tanh(torch.log(1+torch.exp(input)))\n",
        "\n",
        "        ctx.save_for_backward(input, output) # сохраняем значение input, Mish\n",
        "        return output\n",
        "\n",
        "    @staticmethod\n",
        "    def backward(ctx, grad_output):\n",
        "        def swish(x):\n",
        "            return x*torch.sigmoid(x)\n",
        "\n",
        "        def softplus(x):\n",
        "            return torch.log(1+torch.exp(x))\n",
        "\n",
        "        def sech(x):\n",
        "            return 1 / torch.cosh(x)\n",
        "\n",
        "        input, mish = ctx.saved_tensors\n",
        "\n",
        "        grad_input = grad_output * (mish / input + swish(input) * (sech(softplus(input)))**2)\n",
        "\n",
        "        return grad_input"
      ],
      "metadata": {
        "id": "OxaQtQYlmwr-"
      },
      "execution_count": 184,
      "outputs": []
    },
    {
      "cell_type": "code",
      "source": [
        "class Mish(nn.Module):\n",
        "    def __init__(self):\n",
        "        super().__init__()\n",
        "        self.mish = MishFunction.apply\n",
        "\n",
        "    def forward(self, input):\n",
        "        return self.mish(input)"
      ],
      "metadata": {
        "id": "LFb-TM2soxtQ"
      },
      "execution_count": 185,
      "outputs": []
    },
    {
      "cell_type": "markdown",
      "source": [
        "Проверка градиентов."
      ],
      "metadata": {
        "id": "TI8h2Vfi-Zsk"
      }
    },
    {
      "cell_type": "code",
      "source": [
        "###########################################################\n",
        "############# YOUR CODE HERE ##############################\n",
        "###########################################################\n",
        "mish = MishFunction.apply\n",
        "x = torch.randn(5, 5, dtype=torch.double, requires_grad=True)\n",
        "\n",
        "assert gradcheck(mish, x)"
      ],
      "metadata": {
        "id": "U1ddPTsf-YjE"
      },
      "execution_count": 188,
      "outputs": []
    },
    {
      "cell_type": "markdown",
      "source": [
        "### Теперь после проведения экспериментов и написания собственных оптимизатора и функции активации давайте посмотрим на качество модели с кастомными SGDWithMomentum и Mish с количеством слоев равным 4."
      ],
      "metadata": {
        "id": "6Q1bDefGH7s1"
      }
    },
    {
      "cell_type": "code",
      "source": [
        "class Network_upgrade(nn.Module):\n",
        "    def __init__(self, input_size=28*28, hidden_layers_size=32, num_layers=5,\n",
        "                 num_classes=10, dropout_p=0.10):\n",
        "        super().__init__()\n",
        "        ###########################################################\n",
        "        ############# YOUR CODE HERE ##############################\n",
        "        ###########################################################\n",
        "        layers = []\n",
        "        layers.append(nn.Flatten())\n",
        "\n",
        "        layers.append(Linear(input_size, hidden_layers_size))\n",
        "        layers.append(Mish())\n",
        "        layers.append(Dropout(dropout_p))\n",
        "\n",
        "        for _ in range(num_layers - 1):\n",
        "            layers.append(Linear(hidden_layers_size, hidden_layers_size))\n",
        "            layers.append(Mish())\n",
        "            layers.append(Dropout(dropout_p))\n",
        "\n",
        "        layers.append(Linear(hidden_layers_size, num_classes))\n",
        "\n",
        "        layers.append(LogSoftmax())\n",
        "\n",
        "        self.model = nn.Sequential(*layers)\n",
        "\n",
        "    def forward(self, inp):\n",
        "        ###########################################################\n",
        "        ############# YOUR CODE HERE ##############################\n",
        "        ###########################################################\n",
        "        return self.model(inp)\n",
        "\n",
        "    def predict(self, inp):\n",
        "        ###########################################################\n",
        "        ############# YOUR CODE HERE ##############################\n",
        "        ###########################################################\n",
        "        with torch.no_grad():\n",
        "            output = self.model(inp)\n",
        "            _, predicted = torch.max(output.data, dim=1)\n",
        "        return predicted\n"
      ],
      "metadata": {
        "id": "roHZfiWYIYU2"
      },
      "execution_count": 202,
      "outputs": []
    },
    {
      "cell_type": "markdown",
      "source": [
        "Сначала проверим работу Mish:"
      ],
      "metadata": {
        "id": "BJJxY_6LKW_H"
      }
    },
    {
      "cell_type": "code",
      "source": [
        "model     = Network_upgrade(num_layers=4)\n",
        "optimizer = Adam(model.parameters())\n",
        "criterion = CrossEntropy()"
      ],
      "metadata": {
        "id": "pHikptolI434"
      },
      "execution_count": 208,
      "outputs": []
    },
    {
      "cell_type": "code",
      "source": [
        "device = torch.device(\"cuda\" if torch.cuda.is_available() else \"cpu\")\n",
        "\n",
        "model.to(device)\n",
        "\n",
        "print(f'All computations are performed on -> {device} <-')\n",
        "\n",
        "for epoch in range(10):\n",
        "    loss, acc = perform_epoch(model, train_dataloader, criterion,\n",
        "                                optimizer=optimizer, device=device)\n",
        "    print(f\"Epoch - {epoch} : loss {loss}, accuracy {acc}\")\n",
        "    print(f\"Current learning rate: {optimizer.param_groups[0]['lr']}\")"
      ],
      "metadata": {
        "colab": {
          "base_uri": "https://localhost:8080/"
        },
        "id": "BF65GelsJMpa",
        "outputId": "642c4131-4519-4470-fda4-49d32021fcda"
      },
      "execution_count": 209,
      "outputs": [
        {
          "output_type": "stream",
          "name": "stdout",
          "text": [
            "All computations are performed on -> cuda <-\n",
            "Epoch - 0 : loss 0.8739906604513525, accuracy 0.6514907479286194\n",
            "Current learning rate: 0.001\n",
            "Epoch - 1 : loss 0.5880376022066921, accuracy 0.7867823839187622\n",
            "Current learning rate: 0.001\n",
            "Epoch - 2 : loss 0.5379546659709886, accuracy 0.809283971786499\n",
            "Current learning rate: 0.001\n",
            "Epoch - 3 : loss 0.5093687990913167, accuracy 0.8195677399635315\n",
            "Current learning rate: 0.001\n",
            "Epoch - 4 : loss 0.49991301318304615, accuracy 0.8265852332115173\n",
            "Current learning rate: 0.001\n",
            "Epoch - 5 : loss 0.48940597186330703, accuracy 0.8307013511657715\n",
            "Current learning rate: 0.001\n",
            "Epoch - 6 : loss 0.47936925679584963, accuracy 0.8319512605667114\n",
            "Current learning rate: 0.001\n",
            "Epoch - 7 : loss 0.47819988937769087, accuracy 0.8340516686439514\n",
            "Current learning rate: 0.001\n",
            "Epoch - 8 : loss 0.4749810936120339, accuracy 0.834884524345398\n",
            "Current learning rate: 0.001\n",
            "Epoch - 9 : loss 0.47220744033670053, accuracy 0.8346513509750366\n",
            "Current learning rate: 0.001\n"
          ]
        }
      ]
    },
    {
      "cell_type": "markdown",
      "source": [
        "Как мы видим, функция активации Mish прекрасно себя показала,  незначительно увеличив качество модели относительно функции активации ReLU."
      ],
      "metadata": {
        "id": "PyrKKCBILc_-"
      }
    },
    {
      "cell_type": "markdown",
      "source": [
        "Давайте теперь для наглядности посмотрим, как наша модель предсказывает картинки:"
      ],
      "metadata": {
        "id": "CiesHrdQL_zI"
      }
    },
    {
      "cell_type": "code",
      "source": [
        "state_dict = model.state_dict()\n",
        "print(state_dict)"
      ],
      "metadata": {
        "colab": {
          "base_uri": "https://localhost:8080/"
        },
        "id": "Wgg7cNO0MWhz",
        "outputId": "d8317780-4c89-414b-a856-6a6b347b3e37"
      },
      "execution_count": 210,
      "outputs": [
        {
          "output_type": "stream",
          "name": "stdout",
          "text": [
            "OrderedDict([('model.1.weight', tensor([[ 0.0518, -0.1895, -0.3083,  ..., -0.2324, -0.2207, -0.1657],\n",
            "        [ 0.1568,  0.0196,  0.1149,  ..., -0.2531,  0.1563,  0.1488],\n",
            "        [-0.0330,  0.2241,  0.4829,  ...,  0.3662,  0.4246,  0.4893],\n",
            "        ...,\n",
            "        [-0.0242, -0.0397, -0.0390,  ..., -0.1476, -0.0447, -0.0486],\n",
            "        [ 0.0403,  0.0820,  0.2157,  ..., -0.0554, -0.1613, -0.0231],\n",
            "        [-0.0620,  0.1630,  0.1286,  ...,  0.2794,  0.2266,  0.0667]],\n",
            "       device='cuda:0')), ('model.1.bias', tensor([-0.5842, -0.1433,  0.3550, -0.0025,  0.6317, -0.6585, -1.1352,  0.9264,\n",
            "        -0.0098, -0.3943,  0.3121, -0.7469,  0.3576, -0.0049,  0.6370, -0.9626,\n",
            "        -0.4632, -1.5060, -0.0911, -0.9395, -0.0075, -0.0054, -0.2626,  0.4931,\n",
            "        -0.2596,  0.2754, -0.0057, -0.5578, -0.1719,  0.2261,  0.2754,  0.3737],\n",
            "       device='cuda:0')), ('model.4.weight', tensor([[-0.1314, -0.1349, -0.3608,  ..., -0.1153, -0.1996, -0.4542],\n",
            "        [ 0.0521, -0.1728, -0.0561,  ..., -0.1115,  0.1519, -0.1355],\n",
            "        [-0.2428, -0.3948, -0.1243,  ..., -0.1235, -0.2524, -0.0253],\n",
            "        ...,\n",
            "        [ 0.0358,  0.0088, -0.1775,  ..., -0.1806, -0.0327, -0.0022],\n",
            "        [-0.1382,  0.0134,  0.0652,  ..., -0.2622, -0.1819, -0.4060],\n",
            "        [ 0.0184, -0.0038, -0.1138,  ...,  0.0124,  0.1499, -0.0075]],\n",
            "       device='cuda:0')), ('model.4.bias', tensor([-0.7244, -0.3844, -0.5912, -0.2187,  0.2543,  0.4309, -0.7225, -0.6210,\n",
            "        -0.1818, -0.9269,  0.2596, -0.4944,  0.2868,  0.1315, -0.0324, -0.1160,\n",
            "        -0.7627,  0.5142,  0.3103, -0.1327,  0.0068, -0.1967, -0.4806,  0.4895,\n",
            "         0.7255,  0.4687,  0.1802, -0.1693,  0.2198, -1.2688,  0.7696, -0.7638],\n",
            "       device='cuda:0')), ('model.7.weight', tensor([[ 0.0487,  0.0432, -0.1613,  ...,  0.0240, -0.2068,  0.0096],\n",
            "        [-0.0316, -0.0439, -0.2653,  ..., -0.4152,  0.0559, -0.0875],\n",
            "        [-0.1449, -0.0724,  0.0515,  ..., -0.0356,  0.0290, -0.1163],\n",
            "        ...,\n",
            "        [-0.1708, -0.0615,  0.0559,  ...,  0.0280, -0.2714, -0.0088],\n",
            "        [-0.1199,  0.0990,  0.0109,  ..., -0.0257,  0.0536,  0.0606],\n",
            "        [-0.2285,  0.0391, -0.1869,  ..., -0.2237,  0.0675, -0.2323]],\n",
            "       device='cuda:0')), ('model.7.bias', tensor([ 0.4141,  0.5808, -0.3739,  0.3736, -1.0792,  0.3886, -0.2534,  0.5708,\n",
            "        -1.3153,  0.9450,  0.6326, -0.5942,  0.7984,  0.9411, -0.3584,  0.9910,\n",
            "         0.8686,  1.0252,  0.1674, -0.1415,  0.3459,  0.8333,  0.5027, -0.9781,\n",
            "        -0.0834,  0.4926,  0.1328, -1.0406,  1.0949,  0.9707,  0.4834,  0.3635],\n",
            "       device='cuda:0')), ('model.10.weight', tensor([[-0.0056,  0.0589,  0.0036,  ..., -0.1097,  0.0933,  0.0637],\n",
            "        [-0.0492, -0.2287,  0.0365,  ..., -0.0029, -0.1472,  0.0343],\n",
            "        [ 0.1092, -0.0862, -0.0651,  ..., -0.1050,  0.0155, -0.0393],\n",
            "        ...,\n",
            "        [ 0.0984,  0.0178, -0.0304,  ..., -0.1539, -0.0220,  0.0189],\n",
            "        [-0.0387, -0.1197,  0.0074,  ..., -0.0438,  0.0027, -0.2646],\n",
            "        [-0.0665, -0.0826,  0.0218,  ..., -0.0063,  0.0074,  0.0270]],\n",
            "       device='cuda:0')), ('model.10.bias', tensor([ 0.8404,  0.9899,  1.3926,  1.3919,  0.5403,  0.6481,  0.6096, -0.8716,\n",
            "         0.2848,  0.6288,  0.6411, -0.6052,  1.0837,  0.9217,  0.7196,  0.1757,\n",
            "         0.3654,  0.8031,  0.8938,  1.3853,  0.9451, -0.9351,  0.7764,  0.9945,\n",
            "        -0.6876,  0.2668,  0.6434,  1.5236,  0.5715,  0.4827,  0.2976,  1.5123],\n",
            "       device='cuda:0')), ('model.13.weight', tensor([[ 5.2228e-02, -9.0540e-02, -1.6278e-02, -1.7716e-01, -2.5570e-01,\n",
            "          9.7573e-02,  7.3566e-02, -7.1361e-02, -1.1593e-01, -1.8930e-02,\n",
            "          7.0377e-03, -6.2096e-02,  8.1946e-03, -6.3239e-02, -6.6786e-01,\n",
            "         -7.3349e-02, -3.0344e-02, -1.1936e-01,  8.0489e-02, -4.3848e-02,\n",
            "         -6.4293e-01, -2.8620e-01, -2.2769e-01,  5.0151e-02, -2.8554e-01,\n",
            "         -5.2358e-02, -6.1463e-01,  2.4130e-02, -6.4110e-01, -1.7401e-01,\n",
            "         -2.9971e-02,  7.2909e-02],\n",
            "        [-7.5399e-02, -1.1130e-01,  1.3902e-02, -2.6970e-01,  7.5845e-03,\n",
            "         -2.2525e-01,  9.0506e-02,  5.0590e-01, -1.3617e-01, -5.5326e-02,\n",
            "          3.3935e-02,  2.2145e-01, -3.0701e-01, -1.5423e-01, -5.1202e-01,\n",
            "          7.1052e-02,  9.7136e-02,  7.5203e-02, -2.1011e-01,  1.5720e-02,\n",
            "         -4.4382e-01,  4.1648e-01, -3.3944e-01, -8.6707e-02,  5.9342e-01,\n",
            "         -2.1394e-01, -3.3486e-01,  5.6110e-02, -2.6169e-01, -1.1791e-01,\n",
            "          9.4754e-02, -2.6583e-02],\n",
            "        [ 7.1301e-02, -1.8515e-01, -3.7418e-02, -3.7162e-02, -9.5837e-02,\n",
            "         -2.0259e-01, -9.6388e-02,  6.3262e-01, -1.6635e-01, -1.4660e-01,\n",
            "         -9.4185e-02, -1.1115e-01, -5.8903e-02,  5.8786e-02, -6.0278e-01,\n",
            "         -2.8598e-02, -6.6101e-02,  5.2296e-02,  7.9790e-02,  7.1885e-02,\n",
            "         -5.4103e-01,  9.4821e-01,  5.2863e-02,  8.9394e-02, -1.8512e-01,\n",
            "         -1.4019e-01, -6.8899e-01, -1.3591e-01, -4.9157e-01,  2.6493e-02,\n",
            "         -9.6427e-02, -1.0107e-01],\n",
            "        [ 2.7466e-02, -2.2114e-01,  7.3550e-02, -9.0162e-02, -1.3926e-01,\n",
            "         -5.4793e-02, -2.1839e-02, -5.9687e-01, -2.9944e-02, -9.8188e-03,\n",
            "          7.7042e-02,  1.5846e-01, -1.1173e-01, -1.5655e-01, -6.3515e-01,\n",
            "          2.1356e-02,  4.2970e-02, -1.4248e-01, -9.6743e-02, -9.1039e-02,\n",
            "         -6.5539e-01, -5.2387e-01, -2.2919e-01,  5.5149e-03,  5.4782e-01,\n",
            "         -1.9201e-01, -6.3234e-01,  3.7709e-02, -2.9304e-01,  2.6089e-02,\n",
            "          7.2047e-02, -1.3177e-01],\n",
            "        [-5.5824e-02, -1.3014e-01,  7.2074e-02,  5.7992e-02, -2.3109e-02,\n",
            "         -2.5553e-01, -6.4952e-02, -2.9746e-01, -8.5620e-02, -1.0976e-01,\n",
            "         -7.7400e-02,  5.1240e-02,  2.0443e-02,  7.3157e-02, -4.1252e-01,\n",
            "          3.8035e-02,  3.0940e-02,  7.4803e-02, -3.0225e-02, -2.6872e-03,\n",
            "         -4.7107e-01, -5.4125e-01,  3.0188e-02,  1.2150e-02,  6.0124e-01,\n",
            "         -1.8473e-01, -6.6858e-01, -1.5783e-01, -4.9182e-01,  9.2642e-02,\n",
            "         -3.2540e-02, -2.3213e-01],\n",
            "        [-9.4434e-01,  3.1036e-02, -2.8374e-01, -4.2367e-03,  5.4538e-02,\n",
            "         -1.2164e+00, -1.3208e+00, -1.0483e+00, -1.8630e-01, -3.9544e-02,\n",
            "         -6.4174e-01, -1.3119e+00, -2.0955e-01, -4.3450e-01, -1.8497e-02,\n",
            "         -3.7725e-01, -3.5036e-01, -8.5379e-01, -9.5933e-01, -8.6930e-02,\n",
            "          3.1265e-03, -1.2621e+00, -3.3612e-02, -1.0787e-01, -7.9151e-01,\n",
            "         -8.6511e-02, -4.2635e-03, -1.6586e-01,  1.3478e-02, -1.7916e+00,\n",
            "         -9.5298e-01, -4.5216e-02],\n",
            "        [ 1.4039e-02, -1.9433e-02,  2.0123e-02,  4.8672e-02,  6.3220e-03,\n",
            "          6.5957e-02,  4.8929e-02,  1.0793e-01, -1.3483e-01, -7.0365e-02,\n",
            "         -4.4310e-02, -3.9703e-01,  2.6714e-02,  4.7130e-04, -7.0330e-01,\n",
            "         -3.9350e-02, -7.1794e-02,  7.1142e-03,  4.5469e-02,  3.7118e-02,\n",
            "         -6.9784e-01,  8.4955e-02, -1.4460e-02, -2.2856e-02, -6.4729e-01,\n",
            "         -8.1351e-02, -7.1289e-01, -1.9587e-02, -7.6255e-01, -1.5605e-03,\n",
            "         -3.3659e-02,  4.8698e-02],\n",
            "        [-8.9628e-01, -8.6519e-02, -8.0587e-01, -4.0780e-01, -4.7639e-02,\n",
            "         -4.4891e-01, -4.9450e-01, -1.2196e-01,  3.0417e-02, -1.2095e-01,\n",
            "         -2.0534e-01,  5.1360e-01, -1.6205e-01, -5.0503e-01,  5.5772e-02,\n",
            "         -1.3319e-01, -1.0197e-01, -6.4791e-01, -7.4728e-01, -5.4633e-01,\n",
            "          7.1234e-02,  5.3493e-01, -7.9372e-02, -1.4829e-03,  4.0408e-01,\n",
            "          9.7380e-03,  2.3017e-02,  3.0916e-02,  1.8222e-02, -7.0628e-01,\n",
            "         -3.3974e-01,  2.6496e-02],\n",
            "        [-8.0284e-02,  2.5439e-02, -1.2592e-01, -2.0513e-01, -2.4738e-01,\n",
            "         -2.2316e-01, -1.2490e-01,  8.0136e-01,  6.2114e-02,  2.0453e-02,\n",
            "         -9.5275e-02,  9.8117e-02,  8.4777e-02,  5.6554e-02, -1.1900e-01,\n",
            "         -3.6476e-02,  2.8262e-02, -1.2715e-01, -1.3019e-01, -1.5261e-01,\n",
            "         -3.5310e-02,  9.0068e-01, -2.2515e-01, -9.9738e-02,  3.9245e-01,\n",
            "          1.7907e-02, -3.0593e-01, -3.7037e-01, -1.9337e-01, -1.8851e-01,\n",
            "         -1.6240e-01, -2.0984e-02],\n",
            "        [-4.6512e-01,  4.2355e-02, -7.5293e-01, -5.5046e-02,  8.9747e-02,\n",
            "         -2.5175e-01, -3.0608e-01,  1.3487e+00,  1.2463e-03, -1.8260e-01,\n",
            "         -2.1516e-01,  4.6420e-01, -1.8133e-01, -5.3006e-01,  6.9021e-02,\n",
            "         -1.4864e-01, -8.4346e-02, -5.3782e-01, -6.2288e-01, -1.0531e-01,\n",
            "         -1.4619e-02,  1.3269e+00,  2.5779e-02, -1.9741e-01,  1.0805e+00,\n",
            "          3.1698e-02,  5.7483e-02, -1.2842e-01,  8.3736e-02, -6.1148e-01,\n",
            "         -2.3192e-01, -2.4892e-01]], device='cuda:0')), ('model.13.bias', tensor([-0.1052, -1.0883,  0.1978,  0.2838, -0.2056,  0.7847,  0.2035,  0.1574,\n",
            "         0.0421, -0.9346], device='cuda:0'))])\n"
          ]
        }
      ]
    },
    {
      "cell_type": "markdown",
      "source": [
        "Сохраним веса на будущее."
      ],
      "metadata": {
        "id": "NGKALreZMk3H"
      }
    },
    {
      "cell_type": "code",
      "source": [
        "torch.save(state_dict, 'upgrade_model_weights.pt')"
      ],
      "metadata": {
        "id": "O3elMh8cMKvs"
      },
      "execution_count": 211,
      "outputs": []
    },
    {
      "cell_type": "code",
      "source": [
        "state_dict = torch.load('upgrade_model_weights.pt')\n",
        "\n",
        "network = Network_upgrade(num_layers=4)\n",
        "network.load_state_dict(state_dict)\n",
        "\n",
        "images, labels = next(iter(test_dataloader))\n",
        "\n",
        "logits = network(images)\n",
        "predictions = torch.argmax(logits, dim=1)\n",
        "\n",
        "fig, axes = plt.subplots(1, 5, figsize=(13, 4))\n",
        "for idx, jdx in enumerate(np.random.randint(0, len(images), size=5)):\n",
        "    axes[idx].imshow(images[jdx])\n",
        "    axes[idx].set_title(f'Метка: {labels[jdx]}. Предсказание: {predictions[jdx]}')\n",
        "\n",
        "fig.tight_layout()\n",
        "plt.show()"
      ],
      "metadata": {
        "colab": {
          "base_uri": "https://localhost:8080/",
          "height": 352
        },
        "id": "i7L0IE6QMoLx",
        "outputId": "df461a77-fe0c-453b-87d3-daf6fc0b24c6"
      },
      "execution_count": 212,
      "outputs": [
        {
          "output_type": "stream",
          "name": "stderr",
          "text": [
            "<ipython-input-212-7a59703ac0da>:1: FutureWarning: You are using `torch.load` with `weights_only=False` (the current default value), which uses the default pickle module implicitly. It is possible to construct malicious pickle data which will execute arbitrary code during unpickling (See https://github.com/pytorch/pytorch/blob/main/SECURITY.md#untrusted-models for more details). In a future release, the default value for `weights_only` will be flipped to `True`. This limits the functions that could be executed during unpickling. Arbitrary objects will no longer be allowed to be loaded via this mode unless they are explicitly allowlisted by the user via `torch.serialization.add_safe_globals`. We recommend you start setting `weights_only=True` for any use case where you don't have full control of the loaded file. Please open an issue on GitHub for any issues related to this experimental feature.\n",
            "  state_dict = torch.load('upgrade_model_weights.pt')\n"
          ]
        },
        {
          "output_type": "display_data",
          "data": {
            "text/plain": [
              "<Figure size 1300x400 with 5 Axes>"
            ],
            "image/png": "[encoded data removed]"
          },
          "metadata": {}
        }
      ]
    },
    {
      "cell_type": "markdown",
      "source": [
        "Как мы видим модель неплохо справляется. Из предложенных на данный момент картинок модель перепутала только майку с футболкой (что в целом тоже не очень плохо)."
      ],
      "metadata": {
        "id": "33dtdpiYNN9B"
      }
    },
    {
      "cell_type": "markdown",
      "source": [
        "И в конце, протестируем кастомный оптимизатор:"
      ],
      "metadata": {
        "id": "jqUIO2TCLzUD"
      }
    },
    {
      "cell_type": "code",
      "source": [
        "model     = Network_upgrade(num_layers=4)\n",
        "optimizer = SGDMomentum(model.parameters())\n",
        "criterion = CrossEntropy()"
      ],
      "metadata": {
        "id": "rgXk6w-CL3HG"
      },
      "execution_count": 213,
      "outputs": []
    },
    {
      "cell_type": "code",
      "source": [
        "device = torch.device(\"cuda\" if torch.cuda.is_available() else \"cpu\")\n",
        "\n",
        "model.to(device)\n",
        "\n",
        "print(f'All computations are performed on -> {device} <-')\n",
        "\n",
        "for epoch in range(10):\n",
        "    loss, acc = perform_epoch(model, train_dataloader, criterion,\n",
        "                                optimizer=optimizer, device=device)\n",
        "    print(f\"Epoch - {epoch} : loss {loss}, accuracy {acc}\")\n",
        "    print(f\"Current learning rate: {optimizer.param_groups[0]['lr']}\")"
      ],
      "metadata": {
        "colab": {
          "base_uri": "https://localhost:8080/"
        },
        "id": "cxsEF0OeNrVE",
        "outputId": "f1b6001a-dd85-45ca-c0cd-25c232e7491f"
      },
      "execution_count": 214,
      "outputs": [
        {
          "output_type": "stream",
          "name": "stdout",
          "text": [
            "All computations are performed on -> cuda <-\n",
            "Epoch - 0 : loss 2.2774308345615863, accuracy 0.10931799560785294\n",
            "Current learning rate: 0.001\n",
            "Epoch - 1 : loss 1.0644931816384195, accuracy 0.5865010619163513\n",
            "Current learning rate: 0.001\n",
            "Epoch - 2 : loss 0.646740694116801, accuracy 0.7596807479858398\n",
            "Current learning rate: 0.001\n",
            "Epoch - 3 : loss 0.5646151374522597, accuracy 0.8004667162895203\n",
            "Current learning rate: 0.001\n",
            "Epoch - 4 : loss 0.5256340730991215, accuracy 0.8169510960578918\n",
            "Current learning rate: 0.001\n",
            "Epoch - 5 : loss 0.5004987895339728, accuracy 0.8237513303756714\n",
            "Current learning rate: 0.001\n",
            "Epoch - 6 : loss 0.4868615015486721, accuracy 0.8297179341316223\n",
            "Current learning rate: 0.001\n",
            "Epoch - 7 : loss 0.4765984620670788, accuracy 0.8308687210083008\n",
            "Current learning rate: 0.001\n",
            "Epoch - 8 : loss 0.4659007742987014, accuracy 0.8367679119110107\n",
            "Current learning rate: 0.001\n",
            "Epoch - 9 : loss 0.457582775676623, accuracy 0.839118480682373\n",
            "Current learning rate: 0.001\n"
          ]
        }
      ]
    },
    {
      "cell_type": "markdown",
      "source": [
        "## Итоги:\n",
        "\n",
        "Как мы видим, оптимизатор тоже показал себя отлично. Моя модель с кастомными функцией активации Mish и оптимизатором с моментумом для накопления градиентов по качеству совсем немного, но побила лучший скор, что не может не радовать :)"
      ],
      "metadata": {
        "id": "C0kqzLJePEJY"
      }
    },
    {
      "cell_type": "markdown",
      "source": [
        "# УРА ПОБЕДА КОНЕЦ ДОМАШКИ!!! СПАСИБО ЗА ЦЕННЫЙ ОПЫТ!!!"
      ],
      "metadata": {
        "id": "e2GB0RQZPosU"
      }
    }
  ],
  "metadata": {
    "colab": {
      "provenance": [],
      "gpuType": "T4"
    },
    "kernelspec": {
      "display_name": "Python 3",
      "name": "python3"
    },
    "language_info": {
      "codemirror_mode": {
        "name": "ipython",
        "version": 3
      },
      "file_extension": ".py",
      "mimetype": "text/x-python",
      "name": "python",
      "nbconvert_exporter": "python",
      "pygments_lexer": "ipython3",
      "version": "3.6.6"
    },
    "accelerator": "GPU"
  },
  "nbformat": 4,
  "nbformat_minor": 0
}