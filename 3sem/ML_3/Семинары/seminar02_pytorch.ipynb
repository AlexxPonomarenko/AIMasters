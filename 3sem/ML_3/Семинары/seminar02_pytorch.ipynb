{
  "cells": [
    {
      "cell_type": "markdown",
      "metadata": {
        "id": "TDm6dCbbPfGy"
      },
      "source": [
        "# 02. Библиотека PyTorch"
      ]
    },
    {
      "cell_type": "markdown",
      "metadata": {
        "id": "MlRU0ZTkPs7_"
      },
      "source": [
        "## План\n",
        "1. `numpy` -> `pytorch`\n",
        "2. Автоматическое дифференцирование (`torch.autograd`)\n",
        "3. Пример: задача регрессии\n",
        "4. Переопределение `backward()`\n"
      ]
    },
    {
      "cell_type": "markdown",
      "metadata": {
        "id": "Ls3BKYG71GuZ"
      },
      "source": [
        "[PyTorch](https://pytorch.org) - это фреймворк для машинного обучения:\n",
        "* В первую очередь - для нейросетевых моделей\n",
        "* Большие возможности для работы с тензорами\n",
        "* Поддержка выполнения на CPU / GPU / TPU ([!](https://github.com/pytorch/xla))\n",
        "* Автоматическое дифференцирование вычислительных графов (`torch.autograd`)\n",
        "* Широкий набор строительных блоков для DL-моделей (`torch.nn`) и готовых архитектур (`torchvision.models`+)\n",
        "* Удобная поддержка реализации своих операций / слоев / функций потерь / ..."
      ]
    },
    {
      "cell_type": "code",
      "execution_count": 1,
      "metadata": {
        "colab": {
          "base_uri": "https://localhost:8080/"
        },
        "id": "vraBoum91GuZ",
        "outputId": "9b5d07cb-c100-4e66-8cfa-7af91e4f13d9"
      },
      "outputs": [
        {
          "output_type": "stream",
          "name": "stdout",
          "text": [
            "Requirement already satisfied: torch in /usr/local/lib/python3.10/dist-packages (2.4.1+cu121)\n",
            "Requirement already satisfied: filelock in /usr/local/lib/python3.10/dist-packages (from torch) (3.16.1)\n",
            "Requirement already satisfied: typing-extensions>=4.8.0 in /usr/local/lib/python3.10/dist-packages (from torch) (4.12.2)\n",
            "Requirement already satisfied: sympy in /usr/local/lib/python3.10/dist-packages (from torch) (1.13.3)\n",
            "Requirement already satisfied: networkx in /usr/local/lib/python3.10/dist-packages (from torch) (3.3)\n",
            "Requirement already satisfied: jinja2 in /usr/local/lib/python3.10/dist-packages (from torch) (3.1.4)\n",
            "Requirement already satisfied: fsspec in /usr/local/lib/python3.10/dist-packages (from torch) (2024.6.1)\n",
            "Requirement already satisfied: MarkupSafe>=2.0 in /usr/local/lib/python3.10/dist-packages (from jinja2->torch) (2.1.5)\n",
            "Requirement already satisfied: mpmath<1.4,>=1.1.0 in /usr/local/lib/python3.10/dist-packages (from sympy->torch) (1.3.0)\n"
          ]
        }
      ],
      "source": [
        "!pip install torch"
      ]
    },
    {
      "cell_type": "raw",
      "metadata": {
        "vscode": {
          "languageId": "raw"
        },
        "id": "IMdbldeg1Gua"
      },
      "source": [
        "# or goto https://pytorch.org/get-started/locally/"
      ]
    },
    {
      "cell_type": "markdown",
      "metadata": {
        "tags": [],
        "id": "rxO6Begl1Gua"
      },
      "source": [
        "## 1. `numpy` <-> `pytorch`"
      ]
    },
    {
      "cell_type": "code",
      "execution_count": 2,
      "metadata": {
        "id": "bkZREEBO1Gua"
      },
      "outputs": [],
      "source": [
        "import torch\n",
        "import numpy as np\n",
        "import time"
      ]
    },
    {
      "cell_type": "markdown",
      "metadata": {
        "tags": [],
        "toc-hr-collapsed": true,
        "id": "8CecSnWW1Gub"
      },
      "source": [
        "### 1.1. Работа с тензорами"
      ]
    },
    {
      "cell_type": "markdown",
      "metadata": {
        "id": "7k5n-qMu1Gub"
      },
      "source": [
        "~Все, что можно делать с многомерными массивами в `numpy`, можно делать и в `pytorch`:\n",
        "* `np.ndarray` -> `torch.Tensor`\n",
        "    * [broadcasting](https://numpy.org/doc/stable/user/basics.broadcasting.html)\n",
        "* `np.zeros()` -> `torch.zeros()`\n",
        "* `np.stack()` -> `torch.stack()`\n",
        "* `np.concatenate` -> `torch.cat()`\n",
        "* `np.random.normal()` -> `torch.randn()`\n",
        "* ..."
      ]
    },
    {
      "cell_type": "markdown",
      "metadata": {
        "id": "NSNTJDi61Gub"
      },
      "source": [
        "#### `np.ndarray` <-> `torch.Tensor`"
      ]
    },
    {
      "cell_type": "code",
      "execution_count": 3,
      "metadata": {
        "colab": {
          "base_uri": "https://localhost:8080/"
        },
        "id": "XZPgX6IW1Gub",
        "outputId": "9ddc7564-d7b4-48a9-ea9c-2e5e80e0bc58"
      },
      "outputs": [
        {
          "output_type": "execute_result",
          "data": {
            "text/plain": [
              "(3, 3)"
            ]
          },
          "metadata": {},
          "execution_count": 3
        }
      ],
      "source": [
        "data_np = np.random.uniform(size=(3, 3))\n",
        "data_np.shape"
      ]
    },
    {
      "cell_type": "code",
      "execution_count": 4,
      "metadata": {
        "colab": {
          "base_uri": "https://localhost:8080/"
        },
        "id": "wFmeK6mB1Gub",
        "outputId": "f44c41fd-5c34-4a6d-8f13-9dce41576312"
      },
      "outputs": [
        {
          "output_type": "execute_result",
          "data": {
            "text/plain": [
              "array([[0.61756182, 0.5773703 , 0.82681722],\n",
              "       [0.74891548, 0.16174147, 0.0379729 ],\n",
              "       [0.54327748, 0.64693079, 0.72434018]])"
            ]
          },
          "metadata": {},
          "execution_count": 4
        }
      ],
      "source": [
        "data_np"
      ]
    },
    {
      "cell_type": "markdown",
      "metadata": {
        "id": "w5DVgQP71Guc"
      },
      "source": [
        "Создание тензора из данных в форме `numpy.ndarray` через [`torch.from_numpy()`](https://pytorch.org/docs/stable/generated/torch.from_numpy.html):"
      ]
    },
    {
      "cell_type": "code",
      "execution_count": 5,
      "metadata": {
        "colab": {
          "base_uri": "https://localhost:8080/"
        },
        "id": "TCUMegM11Guc",
        "outputId": "31c647fd-215d-4b56-c9e0-27d6a11bd898"
      },
      "outputs": [
        {
          "output_type": "execute_result",
          "data": {
            "text/plain": [
              "torch.Size([3, 3])"
            ]
          },
          "metadata": {},
          "execution_count": 5
        }
      ],
      "source": [
        "data_pt = torch.from_numpy(data_np)\n",
        "data_pt.shape"
      ]
    },
    {
      "cell_type": "code",
      "execution_count": 6,
      "metadata": {
        "colab": {
          "base_uri": "https://localhost:8080/"
        },
        "id": "qp8CC3ZA1Guc",
        "outputId": "95dd24fa-e4d9-45a7-f32d-a62f679652fa"
      },
      "outputs": [
        {
          "output_type": "execute_result",
          "data": {
            "text/plain": [
              "array([[ True,  True,  True],\n",
              "       [ True,  True,  True],\n",
              "       [ True,  True,  True]])"
            ]
          },
          "metadata": {},
          "execution_count": 6
        }
      ],
      "source": [
        "data_np == data_pt.numpy()  # <- get data from Tensor as numpy array"
      ]
    },
    {
      "cell_type": "code",
      "execution_count": 7,
      "metadata": {
        "colab": {
          "base_uri": "https://localhost:8080/"
        },
        "id": "jM2Jmr_01Guc",
        "outputId": "8ba22229-3c16-4e5a-a126-3f57ebf67932"
      },
      "outputs": [
        {
          "output_type": "execute_result",
          "data": {
            "text/plain": [
              "dtype('float64')"
            ]
          },
          "metadata": {},
          "execution_count": 7
        }
      ],
      "source": [
        "data_np.dtype"
      ]
    },
    {
      "cell_type": "code",
      "execution_count": 8,
      "metadata": {
        "colab": {
          "base_uri": "https://localhost:8080/"
        },
        "id": "tQbCzLjq1Guc",
        "outputId": "13c6e41d-96f6-4562-98f1-558186423b94"
      },
      "outputs": [
        {
          "output_type": "execute_result",
          "data": {
            "text/plain": [
              "torch.float64"
            ]
          },
          "metadata": {},
          "execution_count": 8
        }
      ],
      "source": [
        "data_pt.dtype"
      ]
    },
    {
      "cell_type": "markdown",
      "metadata": {
        "id": "48VQPcdN1Guc"
      },
      "source": [
        "Важно: при создании тензора через `torch.from_numpy()` данные шарятся между объектами:"
      ]
    },
    {
      "cell_type": "code",
      "execution_count": 9,
      "metadata": {
        "colab": {
          "base_uri": "https://localhost:8080/"
        },
        "id": "oNS8E9f41Gud",
        "outputId": "b8d27cb4-0bf6-4842-83c7-ade55b088925"
      },
      "outputs": [
        {
          "output_type": "execute_result",
          "data": {
            "text/plain": [
              "tensor([[-999.3824, -999.4226, -999.1732],\n",
              "        [-999.2511, -999.8383, -999.9620],\n",
              "        [-999.4567, -999.3531, -999.2757]], dtype=torch.float64)"
            ]
          },
          "metadata": {},
          "execution_count": 9
        }
      ],
      "source": [
        "t = data_pt.numpy()\n",
        "t -= 1000\n",
        "data_pt"
      ]
    },
    {
      "cell_type": "code",
      "execution_count": 10,
      "metadata": {
        "colab": {
          "base_uri": "https://localhost:8080/"
        },
        "id": "y6TWdiMn1Gud",
        "outputId": "e11ba44f-0000-4da0-d7ad-257edfc30b48"
      },
      "outputs": [
        {
          "output_type": "execute_result",
          "data": {
            "text/plain": [
              "array([[-999.38243818, -999.4226297 , -999.17318278],\n",
              "       [-999.25108452, -999.83825853, -999.9620271 ],\n",
              "       [-999.45672252, -999.35306921, -999.27565982]])"
            ]
          },
          "metadata": {},
          "execution_count": 10
        }
      ],
      "source": [
        "data_np"
      ]
    },
    {
      "cell_type": "markdown",
      "metadata": {
        "id": "EQq--BRW1Gud"
      },
      "source": [
        "Создание тензора через конструктор `torch.tensor()`:"
      ]
    },
    {
      "cell_type": "code",
      "execution_count": 11,
      "metadata": {
        "colab": {
          "base_uri": "https://localhost:8080/"
        },
        "id": "I6Jy2uC81Gud",
        "outputId": "75a7157f-6ac0-44b0-abaf-dba8a62443c7"
      },
      "outputs": [
        {
          "output_type": "execute_result",
          "data": {
            "text/plain": [
              "(3, 3)"
            ]
          },
          "metadata": {},
          "execution_count": 11
        }
      ],
      "source": [
        "data_np = np.random.uniform(size=(3, 3))\n",
        "data_np.shape"
      ]
    },
    {
      "cell_type": "code",
      "execution_count": 12,
      "metadata": {
        "colab": {
          "base_uri": "https://localhost:8080/"
        },
        "id": "CZ9RzUyW1Gud",
        "outputId": "40262a3d-dc60-4e72-eda3-ab75092ce834"
      },
      "outputs": [
        {
          "output_type": "execute_result",
          "data": {
            "text/plain": [
              "torch.Size([3, 3])"
            ]
          },
          "metadata": {},
          "execution_count": 12
        }
      ],
      "source": [
        "data_pt = torch.tensor(data_np)\n",
        "data_pt.shape"
      ]
    },
    {
      "cell_type": "code",
      "execution_count": 13,
      "metadata": {
        "colab": {
          "base_uri": "https://localhost:8080/"
        },
        "id": "g11qsqCX1Gud",
        "outputId": "f2990f3d-9e6f-45da-fb2d-d0e0f753cf15"
      },
      "outputs": [
        {
          "output_type": "execute_result",
          "data": {
            "text/plain": [
              "array([[ True,  True,  True],\n",
              "       [ True,  True,  True],\n",
              "       [ True,  True,  True]])"
            ]
          },
          "metadata": {},
          "execution_count": 13
        }
      ],
      "source": [
        "data_np == data_pt.numpy()"
      ]
    },
    {
      "cell_type": "markdown",
      "metadata": {
        "id": "OC_WQ9iL1Gue"
      },
      "source": [
        "При создании тензора через `torch.tensor()` данные копируются:"
      ]
    },
    {
      "cell_type": "code",
      "execution_count": 14,
      "metadata": {
        "colab": {
          "base_uri": "https://localhost:8080/"
        },
        "id": "8IxA4-4P1Gue",
        "outputId": "7711066d-ab02-4c7a-ca77-b43f23c94134"
      },
      "outputs": [
        {
          "output_type": "execute_result",
          "data": {
            "text/plain": [
              "tensor([[-999.1979, -999.6246, -999.8026],\n",
              "        [-999.3357, -999.7132, -999.5091],\n",
              "        [-999.9401, -999.7552, -999.0487]], dtype=torch.float64)"
            ]
          },
          "metadata": {},
          "execution_count": 14
        }
      ],
      "source": [
        "t = data_pt.numpy()\n",
        "t -= 1000\n",
        "data_pt"
      ]
    },
    {
      "cell_type": "code",
      "execution_count": 15,
      "metadata": {
        "colab": {
          "base_uri": "https://localhost:8080/"
        },
        "id": "rlmXVrS71Gue",
        "outputId": "1862b4b5-0d0f-4d97-a889-3f8c480cd176"
      },
      "outputs": [
        {
          "output_type": "execute_result",
          "data": {
            "text/plain": [
              "array([[0.80208286, 0.37539659, 0.19743425],\n",
              "       [0.66431413, 0.28680496, 0.49091177],\n",
              "       [0.05987846, 0.24481274, 0.9513405 ]])"
            ]
          },
          "metadata": {},
          "execution_count": 15
        }
      ],
      "source": [
        "data_np"
      ]
    },
    {
      "cell_type": "markdown",
      "metadata": {
        "id": "xfKRxkly1Gue"
      },
      "source": [
        "**NB**: [`torch.Tensor()`](https://glaringlee.github.io/tensors.html?highlight=torch%20tensor#torch.Tensor) != [`torch.tensor()`](https://glaringlee.github.io/generated/torch.tensor.html?highlight=torch%20tensor#torch.tensor)!"
      ]
    },
    {
      "cell_type": "markdown",
      "metadata": {
        "tags": [],
        "id": "xY9tXXnj1Gue"
      },
      "source": [
        "#### Типы данных"
      ]
    },
    {
      "cell_type": "code",
      "execution_count": 16,
      "metadata": {
        "colab": {
          "base_uri": "https://localhost:8080/"
        },
        "id": "J50F-mwd1Gue",
        "outputId": "d4ae55b0-506d-4750-8858-5b4477cf6902"
      },
      "outputs": [
        {
          "output_type": "execute_result",
          "data": {
            "text/plain": [
              "dtype('float64')"
            ]
          },
          "metadata": {},
          "execution_count": 16
        }
      ],
      "source": [
        "data_np.dtype"
      ]
    },
    {
      "cell_type": "markdown",
      "metadata": {
        "id": "sLLghtjj1Gue"
      },
      "source": [
        "floats"
      ]
    },
    {
      "cell_type": "code",
      "execution_count": 17,
      "metadata": {
        "colab": {
          "base_uri": "https://localhost:8080/"
        },
        "id": "2Z7Ib6k71Gue",
        "outputId": "a10051b4-1509-4582-fd35-76cda5981838"
      },
      "outputs": [
        {
          "output_type": "execute_result",
          "data": {
            "text/plain": [
              "torch.float64"
            ]
          },
          "metadata": {},
          "execution_count": 17
        }
      ],
      "source": [
        "data_pt = torch.tensor(data_np)\n",
        "data_pt.dtype"
      ]
    },
    {
      "cell_type": "code",
      "execution_count": 18,
      "metadata": {
        "colab": {
          "base_uri": "https://localhost:8080/"
        },
        "id": "qXHSmPoX1Guf",
        "outputId": "0319dad9-9131-403e-9302-1b0051349cdd"
      },
      "outputs": [
        {
          "output_type": "execute_result",
          "data": {
            "text/plain": [
              "torch.float32"
            ]
          },
          "metadata": {},
          "execution_count": 18
        }
      ],
      "source": [
        "data_pt = torch.tensor(data_np, dtype=torch.float)\n",
        "data_pt.dtype"
      ]
    },
    {
      "cell_type": "code",
      "execution_count": 19,
      "metadata": {
        "colab": {
          "base_uri": "https://localhost:8080/"
        },
        "id": "aUPj4DxI1Guf",
        "outputId": "09bf2383-e7fb-48a7-e55e-32790fec9ca4"
      },
      "outputs": [
        {
          "output_type": "execute_result",
          "data": {
            "text/plain": [
              "torch.float16"
            ]
          },
          "metadata": {},
          "execution_count": 19
        }
      ],
      "source": [
        "data_pt = torch.tensor(data_np, dtype=torch.float16)\n",
        "data_pt.dtype"
      ]
    },
    {
      "cell_type": "code",
      "execution_count": 20,
      "metadata": {
        "colab": {
          "base_uri": "https://localhost:8080/"
        },
        "id": "wk6JH-dv1Guf",
        "outputId": "a81c566e-cbe9-4d76-e316-3a6a10f34b3a"
      },
      "outputs": [
        {
          "output_type": "execute_result",
          "data": {
            "text/plain": [
              "torch.float16"
            ]
          },
          "metadata": {},
          "execution_count": 20
        }
      ],
      "source": [
        "data_pt = torch.tensor(data_np, dtype=torch.half)\n",
        "data_pt.dtype"
      ]
    },
    {
      "cell_type": "code",
      "execution_count": 21,
      "metadata": {
        "colab": {
          "base_uri": "https://localhost:8080/"
        },
        "id": "4aUlQZPv1Guf",
        "outputId": "59f63962-399e-49cb-a288-0fabe36e55fa"
      },
      "outputs": [
        {
          "output_type": "execute_result",
          "data": {
            "text/plain": [
              "torch.float64"
            ]
          },
          "metadata": {},
          "execution_count": 21
        }
      ],
      "source": [
        "data_pt = torch.tensor(data_np, dtype=torch.double)\n",
        "data_pt.dtype"
      ]
    },
    {
      "cell_type": "markdown",
      "metadata": {
        "id": "LQHoRjyn1Guf"
      },
      "source": [
        "ints"
      ]
    },
    {
      "cell_type": "code",
      "execution_count": 22,
      "metadata": {
        "colab": {
          "base_uri": "https://localhost:8080/"
        },
        "id": "FRTF6qKg1Guf",
        "outputId": "3065c5c1-63f6-4bdf-e548-4416b84fea4d"
      },
      "outputs": [
        {
          "output_type": "execute_result",
          "data": {
            "text/plain": [
              "torch.int32"
            ]
          },
          "metadata": {},
          "execution_count": 22
        }
      ],
      "source": [
        "data_pt = torch.tensor(data_np, dtype=torch.int)\n",
        "data_pt.dtype"
      ]
    },
    {
      "cell_type": "code",
      "execution_count": 23,
      "metadata": {
        "colab": {
          "base_uri": "https://localhost:8080/"
        },
        "id": "Lzzod50x1Guf",
        "outputId": "9cddf793-3c09-4274-87c9-00a537be5330"
      },
      "outputs": [
        {
          "output_type": "execute_result",
          "data": {
            "text/plain": [
              "torch.int64"
            ]
          },
          "metadata": {},
          "execution_count": 23
        }
      ],
      "source": [
        "data_pt = torch.tensor(data_np, dtype=torch.long)\n",
        "data_pt.dtype"
      ]
    },
    {
      "cell_type": "code",
      "execution_count": 24,
      "metadata": {
        "colab": {
          "base_uri": "https://localhost:8080/"
        },
        "id": "MZ4OVFUB1Guj",
        "outputId": "22f573ee-85f1-4f3d-dc80-d4f8e5130cad"
      },
      "outputs": [
        {
          "output_type": "execute_result",
          "data": {
            "text/plain": [
              "torch.int8"
            ]
          },
          "metadata": {},
          "execution_count": 24
        }
      ],
      "source": [
        "data_pt = torch.tensor(data_np, dtype=torch.int8)\n",
        "data_pt.dtype"
      ]
    },
    {
      "cell_type": "markdown",
      "metadata": {
        "id": "6gMDBdtE1Guj"
      },
      "source": [
        "Больше - [тут](https://pytorch.org/docs/stable/tensors.html)."
      ]
    },
    {
      "cell_type": "markdown",
      "metadata": {
        "id": "Axj_cIFw1Guj"
      },
      "source": [
        "Можно и без `numpy`, разумеется:"
      ]
    },
    {
      "cell_type": "code",
      "execution_count": 25,
      "metadata": {
        "colab": {
          "base_uri": "https://localhost:8080/"
        },
        "id": "txrK6a0H1Guj",
        "outputId": "c74300ef-50ec-475b-d8bb-263b181c593a"
      },
      "outputs": [
        {
          "output_type": "execute_result",
          "data": {
            "text/plain": [
              "tensor(2)"
            ]
          },
          "metadata": {},
          "execution_count": 25
        }
      ],
      "source": [
        "torch.tensor(2)"
      ]
    },
    {
      "cell_type": "code",
      "execution_count": 26,
      "metadata": {
        "colab": {
          "base_uri": "https://localhost:8080/"
        },
        "id": "3--fcE2U1Guj",
        "outputId": "3bf06fe9-ee72-41ec-a617-a34a9b1009cf"
      },
      "outputs": [
        {
          "output_type": "execute_result",
          "data": {
            "text/plain": [
              "tensor([1, 2, 3, 4, 5])"
            ]
          },
          "metadata": {},
          "execution_count": 26
        }
      ],
      "source": [
        "torch.tensor([1, 2, 3, 4, 5])"
      ]
    },
    {
      "cell_type": "code",
      "execution_count": 27,
      "metadata": {
        "colab": {
          "base_uri": "https://localhost:8080/"
        },
        "id": "KrnRlpY91Guj",
        "outputId": "992c57ac-ba14-4a76-e372-fa84cdf98339"
      },
      "outputs": [
        {
          "output_type": "execute_result",
          "data": {
            "text/plain": [
              "tensor([[0., 1.],\n",
              "        [2., 3.]])"
            ]
          },
          "metadata": {},
          "execution_count": 27
        }
      ],
      "source": [
        "torch.tensor([[0., 1], [2, 3]])"
      ]
    },
    {
      "cell_type": "markdown",
      "metadata": {
        "id": "pg13G-Nv1Guk"
      },
      "source": [
        "Если в тензоре один-единственный элемент, извлечь его численное значение можно через `.item()`:"
      ]
    },
    {
      "cell_type": "code",
      "execution_count": 28,
      "metadata": {
        "colab": {
          "base_uri": "https://localhost:8080/"
        },
        "id": "V_Vtmf-Z1Guk",
        "outputId": "7e3715f1-50ed-426b-f01e-3db25002f3c4"
      },
      "outputs": [
        {
          "output_type": "execute_result",
          "data": {
            "text/plain": [
              "10"
            ]
          },
          "metadata": {},
          "execution_count": 28
        }
      ],
      "source": [
        "x = torch.tensor(10)\n",
        "x.item()"
      ]
    },
    {
      "cell_type": "code",
      "execution_count": null,
      "metadata": {
        "id": "ebazWFVo1Guk",
        "outputId": "94d38205-d526-4d6b-eb12-58bd93c1b060"
      },
      "outputs": [
        {
          "ename": "RuntimeError",
          "evalue": "a Tensor with 2 elements cannot be converted to Scalar",
          "output_type": "error",
          "traceback": [
            "\u001b[1;31m---------------------------------------------------------------------------\u001b[0m",
            "\u001b[1;31mRuntimeError\u001b[0m                              Traceback (most recent call last)",
            "Cell \u001b[1;32mIn[32], line 2\u001b[0m\n\u001b[0;32m      1\u001b[0m x \u001b[38;5;241m=\u001b[39m torch\u001b[38;5;241m.\u001b[39mtensor([\u001b[38;5;241m10\u001b[39m, \u001b[38;5;241m11\u001b[39m])\n\u001b[1;32m----> 2\u001b[0m \u001b[43mx\u001b[49m\u001b[38;5;241;43m.\u001b[39;49m\u001b[43mitem\u001b[49m\u001b[43m(\u001b[49m\u001b[43m)\u001b[49m\n",
            "\u001b[1;31mRuntimeError\u001b[0m: a Tensor with 2 elements cannot be converted to Scalar"
          ]
        }
      ],
      "source": [
        "x = torch.tensor([10, 11])\n",
        "x.item()"
      ]
    },
    {
      "cell_type": "markdown",
      "metadata": {
        "id": "CDzly4mt1Guk"
      },
      "source": [
        "**NB**: поведение конструкторов `torch.tensor()` и `torch.Tensor()` - разное:"
      ]
    },
    {
      "cell_type": "code",
      "execution_count": 29,
      "metadata": {
        "colab": {
          "base_uri": "https://localhost:8080/"
        },
        "id": "SrO13YQW1Guk",
        "outputId": "d9acfcb5-bbb0-4b4e-98cf-cd0fd8761ed2"
      },
      "outputs": [
        {
          "output_type": "execute_result",
          "data": {
            "text/plain": [
              "tensor([1., 2., 3.])"
            ]
          },
          "metadata": {},
          "execution_count": 29
        }
      ],
      "source": [
        "torch.Tensor([1, 2, 3])"
      ]
    },
    {
      "cell_type": "code",
      "execution_count": 30,
      "metadata": {
        "colab": {
          "base_uri": "https://localhost:8080/"
        },
        "id": "-T6kZzmL1Guk",
        "outputId": "a5275ea9-2d75-4aa0-824d-5219dfefa3b0"
      },
      "outputs": [
        {
          "output_type": "execute_result",
          "data": {
            "text/plain": [
              "tensor([-0.1226])"
            ]
          },
          "metadata": {},
          "execution_count": 30
        }
      ],
      "source": [
        "torch.Tensor(1)"
      ]
    },
    {
      "cell_type": "code",
      "execution_count": 31,
      "metadata": {
        "colab": {
          "base_uri": "https://localhost:8080/"
        },
        "id": "kIEj7oOC1Guk",
        "outputId": "aaa6c971-82bf-451d-f0f4-7bc9d2162cd1"
      },
      "outputs": [
        {
          "output_type": "execute_result",
          "data": {
            "text/plain": [
              "tensor([2.4419e-01, 4.3859e-41])"
            ]
          },
          "metadata": {},
          "execution_count": 31
        }
      ],
      "source": [
        "torch.Tensor(2)"
      ]
    },
    {
      "cell_type": "markdown",
      "metadata": {
        "tags": [],
        "id": "rFdzyseq1Guk"
      },
      "source": [
        "#### Broadcasting"
      ]
    },
    {
      "cell_type": "code",
      "execution_count": 32,
      "metadata": {
        "colab": {
          "base_uri": "https://localhost:8080/"
        },
        "id": "aANoS8Hg1Gul",
        "outputId": "a8a4cf0c-121f-4fc5-b405-5c0f3eb008de"
      },
      "outputs": [
        {
          "output_type": "execute_result",
          "data": {
            "text/plain": [
              "tensor([[0.6414, 0.3557, 0.0306],\n",
              "        [0.9892, 0.9295, 0.3553],\n",
              "        [0.6321, 0.0752, 0.0938]], dtype=torch.float64)"
            ]
          },
          "metadata": {},
          "execution_count": 32
        }
      ],
      "source": [
        "data_np = np.random.uniform(size=(3, 3))\n",
        "data_pt = torch.from_numpy(data_np)\n",
        "data_pt"
      ]
    },
    {
      "cell_type": "code",
      "execution_count": 33,
      "metadata": {
        "colab": {
          "base_uri": "https://localhost:8080/"
        },
        "id": "r6DcJ5vs1Gul",
        "outputId": "4ca0d9b1-5b10-477d-e070-3e1c3754aa75"
      },
      "outputs": [
        {
          "output_type": "execute_result",
          "data": {
            "text/plain": [
              "tensor([[-99.3586, -99.6443, -99.9694],\n",
              "        [-99.0108, -99.0705, -99.6447],\n",
              "        [-99.3679, -99.9248, -99.9062]], dtype=torch.float64)"
            ]
          },
          "metadata": {},
          "execution_count": 33
        }
      ],
      "source": [
        "data_pt -= 100\n",
        "data_pt"
      ]
    },
    {
      "cell_type": "code",
      "source": [
        "data_np"
      ],
      "metadata": {
        "colab": {
          "base_uri": "https://localhost:8080/"
        },
        "id": "LBn5609614p-",
        "outputId": "02dcc28b-5389-44e6-e823-0221904cb594"
      },
      "execution_count": 34,
      "outputs": [
        {
          "output_type": "execute_result",
          "data": {
            "text/plain": [
              "array([[-99.35859382, -99.64428951, -99.96942603],\n",
              "       [-99.01078447, -99.07047976, -99.64466818],\n",
              "       [-99.36790761, -99.9247898 , -99.90619364]])"
            ]
          },
          "metadata": {},
          "execution_count": 34
        }
      ]
    },
    {
      "cell_type": "markdown",
      "metadata": {
        "id": "i8eh9taS1Gul"
      },
      "source": [
        "Обратите внимание на особенности broadcasting в \"неочевидных\" случаях (часто лучше перепроверить):"
      ]
    },
    {
      "cell_type": "code",
      "execution_count": 35,
      "metadata": {
        "colab": {
          "base_uri": "https://localhost:8080/"
        },
        "id": "UHTRlH4M1Gul",
        "outputId": "003881fb-0138-4f5b-8ad7-8e93b4db5030"
      },
      "outputs": [
        {
          "output_type": "execute_result",
          "data": {
            "text/plain": [
              "tensor([[0.2700, 0.0894, 0.9372],\n",
              "        [0.7555, 0.8537, 0.7278],\n",
              "        [0.6942, 0.4176, 0.4307]])"
            ]
          },
          "metadata": {},
          "execution_count": 35
        }
      ],
      "source": [
        "data_np = np.random.uniform(size=(3, 3)).astype(np.float32)\n",
        "data_pt = torch.from_numpy(data_np)\n",
        "data_pt"
      ]
    },
    {
      "cell_type": "code",
      "execution_count": 36,
      "metadata": {
        "colab": {
          "base_uri": "https://localhost:8080/"
        },
        "id": "vmEiJxh11Gul",
        "outputId": "6a1573b7-f445-44a4-ae35-eeaa11806eaf"
      },
      "outputs": [
        {
          "output_type": "execute_result",
          "data": {
            "text/plain": [
              "torch.Size([3])"
            ]
          },
          "metadata": {},
          "execution_count": 36
        }
      ],
      "source": [
        "b = torch.Tensor([100, 50, 0])\n",
        "b.shape"
      ]
    },
    {
      "cell_type": "code",
      "execution_count": 37,
      "metadata": {
        "colab": {
          "base_uri": "https://localhost:8080/"
        },
        "id": "2dnoeqeQ1Gul",
        "outputId": "5b419394-0a3f-40bf-fbfd-fb14b27b91c6"
      },
      "outputs": [
        {
          "output_type": "execute_result",
          "data": {
            "text/plain": [
              "tensor([[100.2700,  50.0894,   0.9372],\n",
              "        [100.7555,  50.8537,   0.7278],\n",
              "        [100.6942,  50.4176,   0.4307]])"
            ]
          },
          "metadata": {},
          "execution_count": 37
        }
      ],
      "source": [
        "data_pt + b"
      ]
    },
    {
      "cell_type": "code",
      "execution_count": null,
      "metadata": {
        "id": "HkVFhAVh1Gul"
      },
      "outputs": [],
      "source": []
    },
    {
      "cell_type": "code",
      "execution_count": 38,
      "metadata": {
        "colab": {
          "base_uri": "https://localhost:8080/"
        },
        "id": "IEQI4NvK1Gum",
        "outputId": "cfb2a8d6-f853-4918-d373-347b40f01ece"
      },
      "outputs": [
        {
          "output_type": "execute_result",
          "data": {
            "text/plain": [
              "torch.Size([1, 3])"
            ]
          },
          "metadata": {},
          "execution_count": 38
        }
      ],
      "source": [
        "b = torch.Tensor([100, 50, 0]).view(1, 3)\n",
        "b.shape"
      ]
    },
    {
      "cell_type": "code",
      "execution_count": 39,
      "metadata": {
        "colab": {
          "base_uri": "https://localhost:8080/"
        },
        "id": "pmsJJzoB1Gum",
        "outputId": "26d84b36-0c86-439c-f38a-2ff9f486a9c8"
      },
      "outputs": [
        {
          "output_type": "execute_result",
          "data": {
            "text/plain": [
              "tensor([[100.2700,  50.0894,   0.9372],\n",
              "        [100.7555,  50.8537,   0.7278],\n",
              "        [100.6942,  50.4176,   0.4307]])"
            ]
          },
          "metadata": {},
          "execution_count": 39
        }
      ],
      "source": [
        "data_pt + b"
      ]
    },
    {
      "cell_type": "code",
      "execution_count": null,
      "metadata": {
        "id": "XcQ6v7Lc1Gum"
      },
      "outputs": [],
      "source": []
    },
    {
      "cell_type": "code",
      "execution_count": 40,
      "metadata": {
        "colab": {
          "base_uri": "https://localhost:8080/"
        },
        "id": "fy5_M2Yf1Gum",
        "outputId": "501ae165-89eb-4515-f508-0b9461f62502"
      },
      "outputs": [
        {
          "output_type": "execute_result",
          "data": {
            "text/plain": [
              "torch.Size([3, 1])"
            ]
          },
          "metadata": {},
          "execution_count": 40
        }
      ],
      "source": [
        "b = torch.Tensor([100, 50, 0]).view(3, 1)\n",
        "b.shape"
      ]
    },
    {
      "cell_type": "code",
      "execution_count": 41,
      "metadata": {
        "colab": {
          "base_uri": "https://localhost:8080/"
        },
        "id": "MF6fytWw1Gum",
        "outputId": "2d4128a2-e696-47eb-97b6-9578569c5487"
      },
      "outputs": [
        {
          "output_type": "execute_result",
          "data": {
            "text/plain": [
              "tensor([[100.2700, 100.0894, 100.9372],\n",
              "        [ 50.7555,  50.8537,  50.7278],\n",
              "        [  0.6942,   0.4176,   0.4307]])"
            ]
          },
          "metadata": {},
          "execution_count": 41
        }
      ],
      "source": [
        "data_pt + b"
      ]
    },
    {
      "cell_type": "markdown",
      "metadata": {
        "id": "I_fmY2Ex1Gum"
      },
      "source": [
        "#### Векторные и матричные операции"
      ]
    },
    {
      "cell_type": "code",
      "execution_count": 42,
      "metadata": {
        "id": "lh7vcmk21Gum"
      },
      "outputs": [],
      "source": [
        "data_np = np.random.uniform(size=(16, 16))\n",
        "data_pt = torch.from_numpy(data_np)"
      ]
    },
    {
      "cell_type": "code",
      "execution_count": 43,
      "metadata": {
        "colab": {
          "base_uri": "https://localhost:8080/"
        },
        "id": "SBVupqOq1Gum",
        "outputId": "02e180df-68d4-4978-9680-83e00792f85f"
      },
      "outputs": [
        {
          "output_type": "stream",
          "name": "stdout",
          "text": [
            "2.33 µs ± 615 ns per loop (mean ± std. dev. of 7 runs, 1000000 loops each)\n"
          ]
        }
      ],
      "source": [
        "%timeit data_np @ data_np"
      ]
    },
    {
      "cell_type": "code",
      "execution_count": 44,
      "metadata": {
        "colab": {
          "base_uri": "https://localhost:8080/"
        },
        "id": "qjxA3BOY1Gun",
        "outputId": "1756e82a-09a8-446c-855c-5357a02047ee"
      },
      "outputs": [
        {
          "output_type": "stream",
          "name": "stdout",
          "text": [
            "4.04 µs ± 608 ns per loop (mean ± std. dev. of 7 runs, 100000 loops each)\n"
          ]
        }
      ],
      "source": [
        "%timeit data_pt @ data_pt"
      ]
    },
    {
      "cell_type": "code",
      "execution_count": null,
      "metadata": {
        "id": "wI9Hb1hY1Gun"
      },
      "outputs": [],
      "source": []
    },
    {
      "cell_type": "code",
      "execution_count": 45,
      "metadata": {
        "id": "hUKSuf6Z1Gun"
      },
      "outputs": [],
      "source": [
        "x = torch.randn(4, 1)\n",
        "A = torch.randn(8, 4)"
      ]
    },
    {
      "cell_type": "markdown",
      "metadata": {
        "id": "cFiNmUKa1Gun"
      },
      "source": [
        "Умножение матрицы на вектор:"
      ]
    },
    {
      "cell_type": "code",
      "execution_count": 46,
      "metadata": {
        "colab": {
          "base_uri": "https://localhost:8080/"
        },
        "id": "c27aWftd1Gun",
        "outputId": "5a257cb7-b091-43ec-8f58-4f2e2e3258c1"
      },
      "outputs": [
        {
          "output_type": "execute_result",
          "data": {
            "text/plain": [
              "(torch.Size([8, 1]),\n",
              " tensor([[-0.2538],\n",
              "         [-1.5476],\n",
              "         [ 0.8303],\n",
              "         [ 3.0538],\n",
              "         [-0.7560],\n",
              "         [-0.8919],\n",
              "         [ 1.0129],\n",
              "         [-2.0545]]))"
            ]
          },
          "metadata": {},
          "execution_count": 46
        }
      ],
      "source": [
        "y = A @ x\n",
        "y.shape, y"
      ]
    },
    {
      "cell_type": "code",
      "execution_count": 47,
      "metadata": {
        "colab": {
          "base_uri": "https://localhost:8080/"
        },
        "id": "yr2cvOcN1Gun",
        "outputId": "19368d4b-f67b-4c8d-d93b-cca4e5deba84"
      },
      "outputs": [
        {
          "output_type": "execute_result",
          "data": {
            "text/plain": [
              "(torch.Size([8, 1]),\n",
              " tensor([[-0.2538],\n",
              "         [-1.5476],\n",
              "         [ 0.8303],\n",
              "         [ 3.0538],\n",
              "         [-0.7560],\n",
              "         [-0.8919],\n",
              "         [ 1.0129],\n",
              "         [-2.0545]]))"
            ]
          },
          "metadata": {},
          "execution_count": 47
        }
      ],
      "source": [
        "y = A.matmul(x)\n",
        "y.shape, y"
      ]
    },
    {
      "cell_type": "markdown",
      "metadata": {
        "id": "rwOd_7AL1Gun"
      },
      "source": [
        "Тоже повнимательнее с размерностями:"
      ]
    },
    {
      "cell_type": "code",
      "execution_count": 48,
      "metadata": {
        "id": "rq0UnErR1Guo"
      },
      "outputs": [],
      "source": [
        "x = torch.randn(4)\n",
        "A = torch.randn(8, 4)"
      ]
    },
    {
      "cell_type": "code",
      "execution_count": 49,
      "metadata": {
        "colab": {
          "base_uri": "https://localhost:8080/"
        },
        "id": "GdpeeWjs1Guo",
        "outputId": "a730cfc4-4460-49b1-de54-4553de50f2c3"
      },
      "outputs": [
        {
          "output_type": "execute_result",
          "data": {
            "text/plain": [
              "(torch.Size([8]),\n",
              " tensor([-2.4759, -0.3377,  1.4828, -0.5460,  1.5398, -3.0609,  2.0804,  0.9401]))"
            ]
          },
          "metadata": {},
          "execution_count": 49
        }
      ],
      "source": [
        "y = A @ x\n",
        "y.shape, y"
      ]
    },
    {
      "cell_type": "markdown",
      "metadata": {
        "tags": [],
        "id": "D2TJij8U1Guo"
      },
      "source": [
        "#### Задание:"
      ]
    },
    {
      "cell_type": "markdown",
      "metadata": {
        "id": "_cH_5qCu1Guo"
      },
      "source": [
        "* Даны два набора векторов одинаковой размерности, `X` (`m x dim`) и `Y` (`n x dim`)\n",
        "* Требуется посчитать (без циклов!) попарные значения косинуса углов для всех пар (`x`, `y`)\n",
        "    * На выходе ожидается матрица размером (`m x n`)"
      ]
    },
    {
      "cell_type": "code",
      "execution_count": 50,
      "metadata": {
        "id": "1cnwJTlb1Gup"
      },
      "outputs": [],
      "source": [
        "dim = 8\n",
        "m = 11\n",
        "n = 17\n",
        "X = torch.randn(m, dim)\n",
        "Y = torch.randn(n, dim)\n",
        "\n",
        "# YOUR CODE HERE\n",
        "X_n = X / torch.norm( X, dim = 1, keepdim=True)\n",
        "Y_n = Y / torch.norm( Y, dim = 1, keepdim=True)\n",
        "cos_mat = X_n @ Y_n.T\n",
        "\n",
        "# END OF YOUR CODE"
      ]
    },
    {
      "cell_type": "code",
      "execution_count": 51,
      "metadata": {
        "colab": {
          "base_uri": "https://localhost:8080/"
        },
        "id": "fWZJuezY1Gup",
        "outputId": "262883e0-b916-4ea1-8f38-37d82db708af"
      },
      "outputs": [
        {
          "output_type": "stream",
          "name": "stderr",
          "text": [
            "<ipython-input-51-57e85daadb5c>:4: FutureWarning: `torch.testing.assert_allclose()` is deprecated since 1.12 and will be removed in a future release. Please use `torch.testing.assert_close()` instead. You can find detailed upgrade instructions in https://github.com/pytorch/pytorch/issues/61844.\n",
            "  torch.testing.assert_allclose(cos_mat, cos_mat_expected)\n"
          ]
        }
      ],
      "source": [
        "from scipy.spatial.distance import cdist\n",
        "cos_mat_expected = 1 - cdist(X, Y, metric=\"cosine\")\n",
        "\n",
        "torch.testing.assert_allclose(cos_mat, cos_mat_expected)"
      ]
    },
    {
      "cell_type": "markdown",
      "metadata": {
        "id": "ik3omPsD1Gup"
      },
      "source": [
        "#### Работа с размерностями"
      ]
    },
    {
      "cell_type": "code",
      "execution_count": 52,
      "metadata": {
        "colab": {
          "base_uri": "https://localhost:8080/"
        },
        "id": "EmaKjRjd1Gup",
        "outputId": "505f25d5-5657-4e01-8cee-17ed3cf8fccc"
      },
      "outputs": [
        {
          "output_type": "execute_result",
          "data": {
            "text/plain": [
              "(torch.Size([3, 1]),\n",
              " tensor([[-0.8738],\n",
              "         [-0.8798],\n",
              "         [-0.8052]]))"
            ]
          },
          "metadata": {},
          "execution_count": 52
        }
      ],
      "source": [
        "x = torch.randn(3, 1)\n",
        "x.shape, x"
      ]
    },
    {
      "cell_type": "markdown",
      "metadata": {
        "id": "ifmiAX7p1Gup"
      },
      "source": [
        "Транспонирование:"
      ]
    },
    {
      "cell_type": "code",
      "execution_count": 53,
      "metadata": {
        "colab": {
          "base_uri": "https://localhost:8080/"
        },
        "id": "HkYIq4KR1Guq",
        "outputId": "2764b08a-733d-4488-cd34-3cd90900b6e1"
      },
      "outputs": [
        {
          "output_type": "execute_result",
          "data": {
            "text/plain": [
              "(torch.Size([1, 3]), tensor([[-0.8738, -0.8798, -0.8052]]))"
            ]
          },
          "metadata": {},
          "execution_count": 53
        }
      ],
      "source": [
        "xT = x.T\n",
        "xT.shape, xT"
      ]
    },
    {
      "cell_type": "markdown",
      "metadata": {
        "id": "7MI2TinT1Guq"
      },
      "source": [
        "Если не указано явно, то данные НЕ копируются:"
      ]
    },
    {
      "cell_type": "code",
      "execution_count": 54,
      "metadata": {
        "colab": {
          "base_uri": "https://localhost:8080/"
        },
        "id": "zK5YMplu1Guq",
        "outputId": "b7eb9458-4718-45bc-84b0-9b33202fe62a"
      },
      "outputs": [
        {
          "output_type": "execute_result",
          "data": {
            "text/plain": [
              "tensor([[-87.3802, -87.9757, -80.5201]])"
            ]
          },
          "metadata": {},
          "execution_count": 54
        }
      ],
      "source": [
        "xT *= 100\n",
        "xT"
      ]
    },
    {
      "cell_type": "code",
      "execution_count": 55,
      "metadata": {
        "colab": {
          "base_uri": "https://localhost:8080/"
        },
        "id": "lf5WgzyM1Guq",
        "outputId": "36ffda2a-e8a3-4b3d-85ba-867fb806082d"
      },
      "outputs": [
        {
          "output_type": "execute_result",
          "data": {
            "text/plain": [
              "tensor([[-87.3802],\n",
              "        [-87.9757],\n",
              "        [-80.5201]])"
            ]
          },
          "metadata": {},
          "execution_count": 55
        }
      ],
      "source": [
        "x"
      ]
    },
    {
      "cell_type": "markdown",
      "metadata": {
        "id": "ugYbXb-61Guq"
      },
      "source": [
        "С копированием:"
      ]
    },
    {
      "cell_type": "code",
      "execution_count": 56,
      "metadata": {
        "colab": {
          "base_uri": "https://localhost:8080/"
        },
        "id": "5f65Uqgm1Gur",
        "outputId": "b07f2b0a-42ac-4b4b-edd1-54e98facac05"
      },
      "outputs": [
        {
          "output_type": "execute_result",
          "data": {
            "text/plain": [
              "(torch.Size([1, 3]), tensor([[-87.3802, -87.9757, -80.5201]]))"
            ]
          },
          "metadata": {},
          "execution_count": 56
        }
      ],
      "source": [
        "xT_clone = x.T.clone()\n",
        "xT_clone.shape, xT_clone"
      ]
    },
    {
      "cell_type": "code",
      "execution_count": 57,
      "metadata": {
        "colab": {
          "base_uri": "https://localhost:8080/"
        },
        "id": "Od7GDoMI1Gur",
        "outputId": "92c4a753-a94e-4e8b-f94e-18016c1de7e1"
      },
      "outputs": [
        {
          "output_type": "execute_result",
          "data": {
            "text/plain": [
              "tensor([[True, True, True]])"
            ]
          },
          "metadata": {},
          "execution_count": 57
        }
      ],
      "source": [
        "xT_clone == xT"
      ]
    },
    {
      "cell_type": "code",
      "execution_count": 58,
      "metadata": {
        "colab": {
          "base_uri": "https://localhost:8080/"
        },
        "id": "ZSNABCsB1Gur",
        "outputId": "d42fa82b-f436-4f56-f7b3-efc29f17c239"
      },
      "outputs": [
        {
          "output_type": "execute_result",
          "data": {
            "text/plain": [
              "tensor([[-8738.0205, -8797.5693, -8052.0117]])"
            ]
          },
          "metadata": {},
          "execution_count": 58
        }
      ],
      "source": [
        "xT_clone *= 100\n",
        "xT_clone"
      ]
    },
    {
      "cell_type": "code",
      "execution_count": 59,
      "metadata": {
        "colab": {
          "base_uri": "https://localhost:8080/"
        },
        "id": "Xv7J6g391Gur",
        "outputId": "5a4531a9-8591-41dd-94cb-375ed3686dfa"
      },
      "outputs": [
        {
          "output_type": "execute_result",
          "data": {
            "text/plain": [
              "tensor([[-87.3802],\n",
              "        [-87.9757],\n",
              "        [-80.5201]])"
            ]
          },
          "metadata": {},
          "execution_count": 59
        }
      ],
      "source": [
        "x"
      ]
    },
    {
      "cell_type": "markdown",
      "metadata": {
        "id": "9MYSoP9f1Gur"
      },
      "source": [
        "Доступны и более сложные операции над размерностями.\n",
        "\n",
        "`permute()`:"
      ]
    },
    {
      "cell_type": "code",
      "execution_count": 60,
      "metadata": {
        "colab": {
          "base_uri": "https://localhost:8080/"
        },
        "id": "HYqgALdU1Gur",
        "outputId": "eb8be06b-cfbd-4fdb-ed69-4a22309b712d"
      },
      "outputs": [
        {
          "output_type": "execute_result",
          "data": {
            "text/plain": [
              "torch.Size([3, 64, 256])"
            ]
          },
          "metadata": {},
          "execution_count": 60
        }
      ],
      "source": [
        "x = torch.randn(3, 64, 256)\n",
        "x.shape"
      ]
    },
    {
      "cell_type": "code",
      "execution_count": 61,
      "metadata": {
        "colab": {
          "base_uri": "https://localhost:8080/"
        },
        "id": "eIMYh_XM1Gus",
        "outputId": "c61df78d-364d-47e6-a5c8-dae174c3175a"
      },
      "outputs": [
        {
          "output_type": "execute_result",
          "data": {
            "text/plain": [
              "torch.Size([64, 256, 3])"
            ]
          },
          "metadata": {},
          "execution_count": 61
        }
      ],
      "source": [
        "x.permute(1, 2, 0).shape"
      ]
    },
    {
      "cell_type": "code",
      "execution_count": 62,
      "metadata": {
        "colab": {
          "base_uri": "https://localhost:8080/"
        },
        "id": "Fc9HJwN41Gus",
        "outputId": "34da61a4-1ea2-4908-a35f-766b23cf558c"
      },
      "outputs": [
        {
          "output_type": "execute_result",
          "data": {
            "text/plain": [
              "torch.Size([3, 256, 64])"
            ]
          },
          "metadata": {},
          "execution_count": 62
        }
      ],
      "source": [
        "x.transpose(1, 2).shape"
      ]
    },
    {
      "cell_type": "markdown",
      "metadata": {
        "id": "b-oUw5r81Gus"
      },
      "source": [
        "`view()`:"
      ]
    },
    {
      "cell_type": "code",
      "execution_count": 63,
      "metadata": {
        "colab": {
          "base_uri": "https://localhost:8080/"
        },
        "id": "Wq0RJL0I1Gus",
        "outputId": "8a635df7-2b33-4ab2-a5d7-5ebf40f67842"
      },
      "outputs": [
        {
          "output_type": "execute_result",
          "data": {
            "text/plain": [
              "torch.Size([3, 64, 256])"
            ]
          },
          "metadata": {},
          "execution_count": 63
        }
      ],
      "source": [
        "x = torch.randn(3, 64, 256)\n",
        "x.shape"
      ]
    },
    {
      "cell_type": "code",
      "execution_count": 64,
      "metadata": {
        "colab": {
          "base_uri": "https://localhost:8080/"
        },
        "id": "WQt_HIZ31Gus",
        "outputId": "5f02b3f3-0644-44f3-cc12-1945c996159f"
      },
      "outputs": [
        {
          "output_type": "execute_result",
          "data": {
            "text/plain": [
              "torch.Size([3, 256, 64])"
            ]
          },
          "metadata": {},
          "execution_count": 64
        }
      ],
      "source": [
        "x.view(3, 256, 64).shape"
      ]
    },
    {
      "cell_type": "code",
      "execution_count": 66,
      "metadata": {
        "colab": {
          "base_uri": "https://localhost:8080/"
        },
        "id": "zJKS9SP11Gus",
        "outputId": "c4a4d245-8cde-4bf1-be37-d21a170d9685"
      },
      "outputs": [
        {
          "output_type": "execute_result",
          "data": {
            "text/plain": [
              "torch.Size([3, 16384])"
            ]
          },
          "metadata": {},
          "execution_count": 66
        }
      ],
      "source": [
        "x.view(3, -1).shape"
      ]
    },
    {
      "cell_type": "code",
      "execution_count": 67,
      "metadata": {
        "colab": {
          "base_uri": "https://localhost:8080/"
        },
        "id": "xIHaP7Vm1Gus",
        "outputId": "24151503-9a17-45b2-efab-da7571215758"
      },
      "outputs": [
        {
          "output_type": "execute_result",
          "data": {
            "text/plain": [
              "torch.Size([49152])"
            ]
          },
          "metadata": {},
          "execution_count": 67
        }
      ],
      "source": [
        "x.view(-1).shape"
      ]
    },
    {
      "cell_type": "code",
      "execution_count": 68,
      "metadata": {
        "colab": {
          "base_uri": "https://localhost:8080/"
        },
        "id": "ar6AxaWX1Gut",
        "outputId": "9f5cf3f9-5d7d-46ce-e197-0d19778e82bf"
      },
      "outputs": [
        {
          "output_type": "execute_result",
          "data": {
            "text/plain": [
              "tensor([ 0.1947,  2.4457,  0.2334,  ...,  1.1886, -0.1744,  1.2314])"
            ]
          },
          "metadata": {},
          "execution_count": 68
        }
      ],
      "source": [
        "z = x.view(-1)\n",
        "z"
      ]
    },
    {
      "cell_type": "code",
      "execution_count": 69,
      "metadata": {
        "id": "BB-QAB5E1Gut"
      },
      "outputs": [],
      "source": [
        "z *= 0"
      ]
    },
    {
      "cell_type": "code",
      "execution_count": 70,
      "metadata": {
        "colab": {
          "base_uri": "https://localhost:8080/"
        },
        "id": "haVPOC8B1Gut",
        "outputId": "8bb3bb7b-5dad-417e-d631-7108fe9fe5e0"
      },
      "outputs": [
        {
          "output_type": "execute_result",
          "data": {
            "text/plain": [
              "tensor([0., 0., 0.,  ..., 0., -0., 0.])"
            ]
          },
          "metadata": {},
          "execution_count": 70
        }
      ],
      "source": [
        "z"
      ]
    },
    {
      "cell_type": "code",
      "source": [
        "x"
      ],
      "metadata": {
        "colab": {
          "base_uri": "https://localhost:8080/"
        },
        "id": "H5XXhYR229T3",
        "outputId": "004949db-dd3b-41c0-ad2b-dedec5618e6d"
      },
      "execution_count": 71,
      "outputs": [
        {
          "output_type": "execute_result",
          "data": {
            "text/plain": [
              "tensor([[[0., 0., 0.,  ..., -0., 0., 0.],\n",
              "         [0., 0., 0.,  ..., 0., 0., -0.],\n",
              "         [0., -0., 0.,  ..., -0., 0., -0.],\n",
              "         ...,\n",
              "         [-0., 0., -0.,  ..., 0., 0., -0.],\n",
              "         [-0., 0., 0.,  ..., -0., 0., 0.],\n",
              "         [0., -0., -0.,  ..., 0., -0., 0.]],\n",
              "\n",
              "        [[0., -0., -0.,  ..., -0., 0., 0.],\n",
              "         [0., 0., 0.,  ..., 0., -0., -0.],\n",
              "         [-0., 0., 0.,  ..., 0., -0., 0.],\n",
              "         ...,\n",
              "         [0., -0., 0.,  ..., 0., -0., -0.],\n",
              "         [-0., 0., -0.,  ..., 0., 0., 0.],\n",
              "         [0., 0., -0.,  ..., -0., 0., -0.]],\n",
              "\n",
              "        [[0., -0., 0.,  ..., -0., -0., -0.],\n",
              "         [-0., 0., 0.,  ..., -0., -0., -0.],\n",
              "         [-0., -0., -0.,  ..., -0., -0., -0.],\n",
              "         ...,\n",
              "         [0., -0., -0.,  ..., 0., 0., -0.],\n",
              "         [0., 0., -0.,  ..., 0., -0., 0.],\n",
              "         [-0., -0., 0.,  ..., 0., -0., 0.]]])"
            ]
          },
          "metadata": {},
          "execution_count": 71
        }
      ]
    },
    {
      "cell_type": "code",
      "execution_count": 72,
      "metadata": {
        "id": "_7VXkrz-1Gut"
      },
      "outputs": [],
      "source": [
        "x = torch.randn(3, 64, 256)"
      ]
    },
    {
      "cell_type": "code",
      "execution_count": 73,
      "metadata": {
        "id": "0PFLCmyK1Gut"
      },
      "outputs": [],
      "source": [
        "y = x[:,:3,:3]"
      ]
    },
    {
      "cell_type": "code",
      "execution_count": 74,
      "metadata": {
        "colab": {
          "base_uri": "https://localhost:8080/"
        },
        "id": "SdJm8zhr1Gut",
        "outputId": "64974cfa-fae2-4d1a-e32a-135936ad682a"
      },
      "outputs": [
        {
          "output_type": "stream",
          "name": "stdout",
          "text": [
            "tensor([[[-1.5063, -0.8136, -0.5456],\n",
            "         [-0.6021, -0.0417,  0.8469],\n",
            "         [ 1.4903, -0.1408,  0.6696]],\n",
            "\n",
            "        [[-0.4887,  0.4064,  0.2371],\n",
            "         [ 0.5379, -0.9120, -0.9649],\n",
            "         [-0.5077, -0.8556, -0.5262]],\n",
            "\n",
            "        [[-1.7814, -1.3453,  1.3228],\n",
            "         [-0.2859,  0.7519, -0.0277],\n",
            "         [-1.2696, -0.7477,  2.5221]]])\n"
          ]
        }
      ],
      "source": [
        "print(y)"
      ]
    },
    {
      "cell_type": "code",
      "execution_count": 75,
      "metadata": {
        "colab": {
          "base_uri": "https://localhost:8080/",
          "height": 176
        },
        "id": "_-cfHrU41Gut",
        "outputId": "25a4d18d-acd2-41ef-f273-eb7e164a8999"
      },
      "outputs": [
        {
          "output_type": "stream",
          "name": "stdout",
          "text": [
            "134425546846544\n"
          ]
        },
        {
          "output_type": "error",
          "ename": "RuntimeError",
          "evalue": "view size is not compatible with input tensor's size and stride (at least one dimension spans across two contiguous subspaces). Use .reshape(...) instead.",
          "traceback": [
            "\u001b[0;31m---------------------------------------------------------------------------\u001b[0m",
            "\u001b[0;31mRuntimeError\u001b[0m                              Traceback (most recent call last)",
            "\u001b[0;32m<ipython-input-75-4f168e8af67c>\u001b[0m in \u001b[0;36m<cell line: 2>\u001b[0;34m()\u001b[0m\n\u001b[1;32m      1\u001b[0m \u001b[0mprint\u001b[0m\u001b[0;34m(\u001b[0m\u001b[0mid\u001b[0m\u001b[0;34m(\u001b[0m\u001b[0my\u001b[0m\u001b[0;34m.\u001b[0m\u001b[0mdata\u001b[0m\u001b[0;34m)\u001b[0m\u001b[0;34m)\u001b[0m\u001b[0;34m\u001b[0m\u001b[0;34m\u001b[0m\u001b[0m\n\u001b[0;32m----> 2\u001b[0;31m \u001b[0mprint\u001b[0m\u001b[0;34m(\u001b[0m\u001b[0my\u001b[0m\u001b[0;34m.\u001b[0m\u001b[0mview\u001b[0m\u001b[0;34m(\u001b[0m\u001b[0;34m-\u001b[0m\u001b[0;36m1\u001b[0m\u001b[0;34m)\u001b[0m\u001b[0;34m)\u001b[0m\u001b[0;34m\u001b[0m\u001b[0;34m\u001b[0m\u001b[0m\n\u001b[0m",
            "\u001b[0;31mRuntimeError\u001b[0m: view size is not compatible with input tensor's size and stride (at least one dimension spans across two contiguous subspaces). Use .reshape(...) instead."
          ]
        }
      ],
      "source": [
        "print(id(y.data))\n",
        "print(y.view(-1))\n"
      ]
    },
    {
      "cell_type": "code",
      "execution_count": 76,
      "metadata": {
        "colab": {
          "base_uri": "https://localhost:8080/"
        },
        "id": "t9V4Cx1c1Gut",
        "outputId": "36499536-7ab0-4314-9ac5-09490370b0cf"
      },
      "outputs": [
        {
          "output_type": "stream",
          "name": "stdout",
          "text": [
            "134425546849744\n",
            "tensor([-1.5063, -0.8136, -0.5456, -0.6021, -0.0417,  0.8469,  1.4903, -0.1408,\n",
            "         0.6696, -0.4887,  0.4064,  0.2371,  0.5379, -0.9120, -0.9649, -0.5077,\n",
            "        -0.8556, -0.5262, -1.7814, -1.3453,  1.3228, -0.2859,  0.7519, -0.0277,\n",
            "        -1.2696, -0.7477,  2.5221])\n"
          ]
        }
      ],
      "source": [
        "z = y.reshape(-1)\n",
        "print(id(z.data))\n",
        "print(z)"
      ]
    },
    {
      "cell_type": "markdown",
      "metadata": {
        "tags": [],
        "id": "_L3tyj4g1Guu"
      },
      "source": [
        "#### Задание:"
      ]
    },
    {
      "cell_type": "markdown",
      "metadata": {
        "id": "dE3yt29n1Guu"
      },
      "source": [
        "* Создать тензор размером `1x3x224x224` (имитируем батч из одной картинки с 3 каналами RGB размером `224х224`)\n",
        "    * Все значения в тензоре = `0.5`\n",
        "* Выполнить нормализацию через mean / std из датасета Imagenet:\n",
        "    * mean = `[0.485, 0.456, 0.406]`\n",
        "    * std = `[0.229, 0.224, 0.225]`\n",
        "* Посчитать среднее значение по каждому из 3-х каналов полученного тензора\n",
        "    * Ответ (`output`) должен иметь размерность (3,)\n",
        "\n",
        "\n",
        "NB: агрегирующие операции типа `min`/`max`/`mean`/... устроены аналогично в `numpy` и `torch`, но отличаютеся ключевым словом для уточнения размерностей:\n",
        "* в `numpy` - `axis`\n",
        "* в `torch` - `dim`"
      ]
    },
    {
      "cell_type": "code",
      "execution_count": 77,
      "metadata": {
        "id": "AYHafhUK1Guu"
      },
      "outputs": [],
      "source": [
        "# YOUR CODE HERE\n",
        "\n",
        "x    = torch.ones(1,3,224,224)*0.5\n",
        "mean = torch.tensor([0.485, 0.456, 0.406]).view(1,-1,1,1)\n",
        "std  = torch.tensor([0.229, 0.224, 0.225]).view(1,-1,1,1)\n",
        "\n",
        "x = (x - mean)/std\n",
        "output = torch.mean(x, dim=(2,3)).view(-1)\n",
        "# END OF YOUR CODE"
      ]
    },
    {
      "cell_type": "code",
      "execution_count": 78,
      "metadata": {
        "colab": {
          "base_uri": "https://localhost:8080/"
        },
        "id": "UlAOoV-a1Guu",
        "outputId": "1bfeeabe-857e-4565-dbec-e8ab6a38cb05"
      },
      "outputs": [
        {
          "output_type": "stream",
          "name": "stderr",
          "text": [
            "<ipython-input-78-918689a256b5>:2: FutureWarning: `torch.testing.assert_allclose()` is deprecated since 1.12 and will be removed in a future release. Please use `torch.testing.assert_close()` instead. You can find detailed upgrade instructions in https://github.com/pytorch/pytorch/issues/61844.\n",
            "  torch.testing.assert_allclose(output, expected_output)\n"
          ]
        }
      ],
      "source": [
        "expected_output = torch.Tensor([0.0655, 0.1964, 0.4178])\n",
        "torch.testing.assert_allclose(output, expected_output)"
      ]
    },
    {
      "cell_type": "markdown",
      "metadata": {
        "tags": [],
        "toc-hr-collapsed": true,
        "id": "Idcz3Zz51Guu"
      },
      "source": [
        "### 1.2. CPU <-> GPU"
      ]
    },
    {
      "cell_type": "markdown",
      "metadata": {
        "id": "UaJwObHw1Guu"
      },
      "source": [
        "`CUDA` - это библиотека для вычислений на графических ускорителях (от NVidia).\n",
        "`torch` умеет работать с GPU, но для этого в системе должны быть установлены совместимые версии `torch` / `cudatoolkit`.\n",
        "Подробнее можно почитать на [официальном сайте](https://pytorch.org/get-started/locally/)."
      ]
    },
    {
      "cell_type": "markdown",
      "metadata": {
        "id": "BpZblZ621Guu"
      },
      "source": [
        "#### Получение информации о доступных \"девайсах\""
      ]
    },
    {
      "cell_type": "code",
      "execution_count": 79,
      "metadata": {
        "colab": {
          "base_uri": "https://localhost:8080/"
        },
        "id": "lB41XSYM1Guu",
        "outputId": "10a8954f-c4c3-4d32-c5e3-3bc9d5a28ac3"
      },
      "outputs": [
        {
          "output_type": "execute_result",
          "data": {
            "text/plain": [
              "True"
            ]
          },
          "metadata": {},
          "execution_count": 79
        }
      ],
      "source": [
        "torch.cuda.is_available()"
      ]
    },
    {
      "cell_type": "code",
      "execution_count": 80,
      "metadata": {
        "colab": {
          "base_uri": "https://localhost:8080/"
        },
        "id": "AJs2gwFG1Guv",
        "outputId": "2472a07a-fed7-413a-ab22-9a6314db1a3d"
      },
      "outputs": [
        {
          "output_type": "execute_result",
          "data": {
            "text/plain": [
              "1"
            ]
          },
          "metadata": {},
          "execution_count": 80
        }
      ],
      "source": [
        "torch.cuda.device_count()"
      ]
    },
    {
      "cell_type": "code",
      "execution_count": 81,
      "metadata": {
        "id": "iXNr0wkM1Guv"
      },
      "outputs": [],
      "source": [
        "device_alias = \"cuda:0\"\n",
        "# device_alias = \"cpu\""
      ]
    },
    {
      "cell_type": "code",
      "execution_count": 82,
      "metadata": {
        "colab": {
          "base_uri": "https://localhost:8080/",
          "height": 36
        },
        "id": "LiTDcQgR1Guv",
        "outputId": "58dde105-7ce8-4210-8c04-f82054ff51bd"
      },
      "outputs": [
        {
          "output_type": "execute_result",
          "data": {
            "text/plain": [
              "'Tesla T4'"
            ],
            "application/vnd.google.colaboratory.intrinsic+json": {
              "type": "string"
            }
          },
          "metadata": {},
          "execution_count": 82
        }
      ],
      "source": [
        "torch.cuda.get_device_name(device_alias)"
      ]
    },
    {
      "cell_type": "code",
      "execution_count": 83,
      "metadata": {
        "id": "RBXGxTTd1Guv"
      },
      "outputs": [],
      "source": [
        "device = torch.device(device_alias)"
      ]
    },
    {
      "cell_type": "code",
      "execution_count": 84,
      "metadata": {
        "colab": {
          "base_uri": "https://localhost:8080/"
        },
        "id": "BJPuGE-B1Guv",
        "outputId": "d49338e5-acab-419a-a854-5406a52b6112"
      },
      "outputs": [
        {
          "output_type": "execute_result",
          "data": {
            "text/plain": [
              "device(type='cuda', index=0)"
            ]
          },
          "metadata": {},
          "execution_count": 84
        }
      ],
      "source": [
        "device"
      ]
    },
    {
      "cell_type": "markdown",
      "metadata": {
        "id": "VMiEUQBm1Guv"
      },
      "source": [
        "#### Перемещение тензоров между девайсами: `.to(...)`"
      ]
    },
    {
      "cell_type": "code",
      "execution_count": 85,
      "metadata": {
        "colab": {
          "base_uri": "https://localhost:8080/"
        },
        "id": "-bdOzWsw1Guv",
        "outputId": "8527f5ee-c409-41c3-abb5-d518aa0d5428"
      },
      "outputs": [
        {
          "output_type": "execute_result",
          "data": {
            "text/plain": [
              "device(type='cpu')"
            ]
          },
          "metadata": {},
          "execution_count": 85
        }
      ],
      "source": [
        "data_pt = torch.randn(8, 8)\n",
        "data_pt.device"
      ]
    },
    {
      "cell_type": "code",
      "execution_count": 86,
      "metadata": {
        "colab": {
          "base_uri": "https://localhost:8080/"
        },
        "id": "Q0-bD0G-1Guw",
        "outputId": "88b0b23f-be4f-4816-f6cb-19ade3cea41a"
      },
      "outputs": [
        {
          "output_type": "execute_result",
          "data": {
            "text/plain": [
              "device(type='cuda', index=0)"
            ]
          },
          "metadata": {},
          "execution_count": 86
        }
      ],
      "source": [
        "data_pt = data_pt.to(device)\n",
        "data_pt.device"
      ]
    },
    {
      "cell_type": "code",
      "execution_count": 87,
      "metadata": {
        "colab": {
          "base_uri": "https://localhost:8080/"
        },
        "id": "VD8xn0W81Guw",
        "outputId": "abe76c6f-2273-4ab6-8a57-b340ef066898"
      },
      "outputs": [
        {
          "output_type": "execute_result",
          "data": {
            "text/plain": [
              "(device(type='cpu'), device(type='cpu'), device(type='cpu'))"
            ]
          },
          "metadata": {},
          "execution_count": 87
        }
      ],
      "source": [
        "a = data_pt.to(torch.device(\"cpu\"))\n",
        "b = data_pt.to(\"cpu\")\n",
        "c = data_pt.cpu()\n",
        "\n",
        "a.device, b.device, c.device"
      ]
    },
    {
      "cell_type": "markdown",
      "metadata": {
        "id": "j6hc8_oP1Guw"
      },
      "source": [
        "#### Скорость вычислений"
      ]
    },
    {
      "cell_type": "markdown",
      "metadata": {
        "id": "QTBBfLMa1Guw"
      },
      "source": [
        "`8х8` @ `8x8`"
      ]
    },
    {
      "cell_type": "code",
      "execution_count": 88,
      "metadata": {
        "colab": {
          "base_uri": "https://localhost:8080/"
        },
        "id": "8zV6zfqm1Guw",
        "outputId": "44483670-91a0-49b9-c1fe-1878d4b9f92e"
      },
      "outputs": [
        {
          "output_type": "execute_result",
          "data": {
            "text/plain": [
              "device(type='cpu')"
            ]
          },
          "metadata": {},
          "execution_count": 88
        }
      ],
      "source": [
        "data_pt = torch.randn(8, 8)\n",
        "data_pt.device"
      ]
    },
    {
      "cell_type": "code",
      "execution_count": 89,
      "metadata": {
        "colab": {
          "base_uri": "https://localhost:8080/"
        },
        "id": "DInwCTuk1Guw",
        "outputId": "405ad3ce-1e76-4cbc-9a63-61848dafba78"
      },
      "outputs": [
        {
          "output_type": "stream",
          "name": "stdout",
          "text": [
            "4.31 µs ± 178 ns per loop (mean ± std. dev. of 7 runs, 100000 loops each)\n"
          ]
        }
      ],
      "source": [
        "%timeit data_pt @ data_pt"
      ]
    },
    {
      "cell_type": "code",
      "execution_count": 90,
      "metadata": {
        "colab": {
          "base_uri": "https://localhost:8080/"
        },
        "id": "nJoZFMMy1Guw",
        "outputId": "230c601e-3622-4d90-a8da-ba8796dfddb2"
      },
      "outputs": [
        {
          "output_type": "execute_result",
          "data": {
            "text/plain": [
              "device(type='cuda', index=0)"
            ]
          },
          "metadata": {},
          "execution_count": 90
        }
      ],
      "source": [
        "data_pt = data_pt.to(device)\n",
        "data_pt.device"
      ]
    },
    {
      "cell_type": "code",
      "execution_count": 91,
      "metadata": {
        "id": "yyYkHCsT1Guw"
      },
      "outputs": [],
      "source": [
        "data_pt @ data_pt;"
      ]
    },
    {
      "cell_type": "code",
      "execution_count": 92,
      "metadata": {
        "colab": {
          "base_uri": "https://localhost:8080/"
        },
        "id": "FetLlH241Guw",
        "outputId": "5f18e634-1618-42d2-a2ab-4573f227afda"
      },
      "outputs": [
        {
          "output_type": "stream",
          "name": "stdout",
          "text": [
            "10.8 µs ± 142 ns per loop (mean ± std. dev. of 7 runs, 100000 loops each)\n"
          ]
        }
      ],
      "source": [
        "%timeit data_pt @ data_pt"
      ]
    },
    {
      "cell_type": "markdown",
      "metadata": {
        "id": "PBmsGlhy1Gux"
      },
      "source": [
        "`64х64` @ `64x64`"
      ]
    },
    {
      "cell_type": "code",
      "execution_count": 93,
      "metadata": {
        "colab": {
          "base_uri": "https://localhost:8080/"
        },
        "id": "8GGLRZTk1Gux",
        "outputId": "bdeeb00f-80ca-427b-9934-1d1975aff252"
      },
      "outputs": [
        {
          "output_type": "execute_result",
          "data": {
            "text/plain": [
              "device(type='cpu')"
            ]
          },
          "metadata": {},
          "execution_count": 93
        }
      ],
      "source": [
        "data_pt = torch.randn(64, 64)\n",
        "data_pt.device"
      ]
    },
    {
      "cell_type": "code",
      "execution_count": 94,
      "metadata": {
        "colab": {
          "base_uri": "https://localhost:8080/"
        },
        "id": "V9WySh8q1Gux",
        "outputId": "0e1c70d3-b86f-46dd-d936-d4a343c7a722"
      },
      "outputs": [
        {
          "output_type": "stream",
          "name": "stdout",
          "text": [
            "9.68 µs ± 2.1 µs per loop (mean ± std. dev. of 7 runs, 100000 loops each)\n"
          ]
        }
      ],
      "source": [
        "%timeit data_pt @ data_pt"
      ]
    },
    {
      "cell_type": "code",
      "execution_count": 95,
      "metadata": {
        "colab": {
          "base_uri": "https://localhost:8080/"
        },
        "id": "BDGW21i41Gux",
        "outputId": "c0acc6dd-692a-4928-f629-be1d8c24a8ac"
      },
      "outputs": [
        {
          "output_type": "execute_result",
          "data": {
            "text/plain": [
              "device(type='cuda', index=0)"
            ]
          },
          "metadata": {},
          "execution_count": 95
        }
      ],
      "source": [
        "data_pt = data_pt.to(device)\n",
        "data_pt.device"
      ]
    },
    {
      "cell_type": "code",
      "execution_count": 96,
      "metadata": {
        "colab": {
          "base_uri": "https://localhost:8080/"
        },
        "id": "XgL6DFLX1Gux",
        "outputId": "5f13f19c-6a7b-42f4-c5a0-730a1bdc98d9"
      },
      "outputs": [
        {
          "output_type": "stream",
          "name": "stdout",
          "text": [
            "12.3 µs ± 1.6 µs per loop (mean ± std. dev. of 7 runs, 100000 loops each)\n"
          ]
        }
      ],
      "source": [
        "%timeit data_pt @ data_pt"
      ]
    },
    {
      "cell_type": "markdown",
      "metadata": {
        "id": "fwtoNp2A1Gux"
      },
      "source": [
        "`256х256` @ `256x256`"
      ]
    },
    {
      "cell_type": "code",
      "execution_count": 97,
      "metadata": {
        "colab": {
          "base_uri": "https://localhost:8080/"
        },
        "id": "XRw0Xemx1Gux",
        "outputId": "f8102aa7-06ff-4c9c-a844-8bb51c72ccb4"
      },
      "outputs": [
        {
          "output_type": "execute_result",
          "data": {
            "text/plain": [
              "device(type='cpu')"
            ]
          },
          "metadata": {},
          "execution_count": 97
        }
      ],
      "source": [
        "data_pt = torch.randn(256, 256)\n",
        "data_pt.device"
      ]
    },
    {
      "cell_type": "code",
      "execution_count": 98,
      "metadata": {
        "colab": {
          "base_uri": "https://localhost:8080/"
        },
        "id": "t85OLHcP1Gux",
        "outputId": "8c4d8d29-a458-497a-9943-f69aebe12976"
      },
      "outputs": [
        {
          "output_type": "stream",
          "name": "stdout",
          "text": [
            "283 µs ± 3.84 µs per loop (mean ± std. dev. of 7 runs, 1000 loops each)\n"
          ]
        }
      ],
      "source": [
        "%timeit data_pt @ data_pt"
      ]
    },
    {
      "cell_type": "code",
      "execution_count": 99,
      "metadata": {
        "colab": {
          "base_uri": "https://localhost:8080/"
        },
        "id": "N6uM3WSg1Gux",
        "outputId": "721f4da0-3b94-4217-9e88-7144b49f421b"
      },
      "outputs": [
        {
          "output_type": "execute_result",
          "data": {
            "text/plain": [
              "device(type='cuda', index=0)"
            ]
          },
          "metadata": {},
          "execution_count": 99
        }
      ],
      "source": [
        "data_pt = data_pt.to(device)\n",
        "data_pt.device"
      ]
    },
    {
      "cell_type": "code",
      "execution_count": 100,
      "metadata": {
        "colab": {
          "base_uri": "https://localhost:8080/"
        },
        "id": "lNUhmysF1Guy",
        "outputId": "e041e6f8-e24a-4685-9b2b-6eef13570c5d"
      },
      "outputs": [
        {
          "output_type": "stream",
          "name": "stdout",
          "text": [
            "21.5 µs ± 176 ns per loop (mean ± std. dev. of 7 runs, 10000 loops each)\n"
          ]
        }
      ],
      "source": [
        "%timeit data_pt @ data_pt"
      ]
    },
    {
      "cell_type": "markdown",
      "metadata": {
        "id": "iWzAGo7B1Guy"
      },
      "source": [
        "#### Объекты с разных девайсов"
      ]
    },
    {
      "cell_type": "code",
      "execution_count": 101,
      "metadata": {
        "colab": {
          "base_uri": "https://localhost:8080/"
        },
        "id": "oJOIXJbc1Guy",
        "outputId": "2951ca9b-e539-4117-e94e-1f21f2cbfd2a"
      },
      "outputs": [
        {
          "output_type": "execute_result",
          "data": {
            "text/plain": [
              "device(type='cuda', index=0)"
            ]
          },
          "metadata": {},
          "execution_count": 101
        }
      ],
      "source": [
        "data_pt = torch.randn(3, 3)\n",
        "data_pt = data_pt.to(device)\n",
        "data_pt.device"
      ]
    },
    {
      "cell_type": "code",
      "execution_count": 102,
      "metadata": {
        "colab": {
          "base_uri": "https://localhost:8080/",
          "height": 141
        },
        "id": "27eCdlY31Guy",
        "outputId": "890c9bd5-8115-41ce-bf25-deadb29aab7a"
      },
      "outputs": [
        {
          "output_type": "error",
          "ename": "TypeError",
          "evalue": "can't convert cuda:0 device type tensor to numpy. Use Tensor.cpu() to copy the tensor to host memory first.",
          "traceback": [
            "\u001b[0;31m---------------------------------------------------------------------------\u001b[0m",
            "\u001b[0;31mTypeError\u001b[0m                                 Traceback (most recent call last)",
            "\u001b[0;32m<ipython-input-102-ec33e03c7cf1>\u001b[0m in \u001b[0;36m<cell line: 1>\u001b[0;34m()\u001b[0m\n\u001b[0;32m----> 1\u001b[0;31m \u001b[0mdata_pt\u001b[0m\u001b[0;34m.\u001b[0m\u001b[0mnumpy\u001b[0m\u001b[0;34m(\u001b[0m\u001b[0;34m)\u001b[0m\u001b[0;34m\u001b[0m\u001b[0;34m\u001b[0m\u001b[0m\n\u001b[0m",
            "\u001b[0;31mTypeError\u001b[0m: can't convert cuda:0 device type tensor to numpy. Use Tensor.cpu() to copy the tensor to host memory first."
          ]
        }
      ],
      "source": [
        "data_pt.numpy()"
      ]
    },
    {
      "cell_type": "code",
      "execution_count": 103,
      "metadata": {
        "colab": {
          "base_uri": "https://localhost:8080/"
        },
        "id": "wgGV8dKB1Guy",
        "outputId": "b254c1c4-627e-4955-c79e-832577058711"
      },
      "outputs": [
        {
          "output_type": "execute_result",
          "data": {
            "text/plain": [
              "array([[ 0.21043788, -0.04170926, -0.82539815],\n",
              "       [-0.55118895, -0.18860868,  0.11793879],\n",
              "       [ 0.34439114, -0.17255268,  0.41678038]], dtype=float32)"
            ]
          },
          "metadata": {},
          "execution_count": 103
        }
      ],
      "source": [
        "data_pt.to(torch.device(\"cpu\")).numpy()"
      ]
    },
    {
      "cell_type": "markdown",
      "metadata": {
        "id": "95G-eneR1Guy"
      },
      "source": [
        "Взаимодействовать друг с другом могут только объекты, лежащие на одном девайсе"
      ]
    },
    {
      "cell_type": "code",
      "execution_count": 104,
      "metadata": {
        "colab": {
          "base_uri": "https://localhost:8080/"
        },
        "id": "K-zFl4E91Guy",
        "outputId": "46fd5b61-7901-4b32-95e7-775b84c5e986"
      },
      "outputs": [
        {
          "output_type": "execute_result",
          "data": {
            "text/plain": [
              "device(type='cuda', index=0)"
            ]
          },
          "metadata": {},
          "execution_count": 104
        }
      ],
      "source": [
        "data_pt_1 = torch.randn(3, 3)\n",
        "data_pt_1 = data_pt_1.to(device)\n",
        "data_pt_1.device"
      ]
    },
    {
      "cell_type": "code",
      "execution_count": 105,
      "metadata": {
        "colab": {
          "base_uri": "https://localhost:8080/"
        },
        "id": "S4PPtTeV1Guy",
        "outputId": "03acf239-7d98-4e76-a5b0-82a2dc05939d"
      },
      "outputs": [
        {
          "output_type": "execute_result",
          "data": {
            "text/plain": [
              "device(type='cpu')"
            ]
          },
          "metadata": {},
          "execution_count": 105
        }
      ],
      "source": [
        "data_pt_2 = torch.randn(3, 3)\n",
        "data_pt_2 = data_pt_2#.to(\"cpu\")\n",
        "data_pt_2.device"
      ]
    },
    {
      "cell_type": "code",
      "execution_count": 106,
      "metadata": {
        "colab": {
          "base_uri": "https://localhost:8080/",
          "height": 141
        },
        "id": "TEvMw6pP1Guy",
        "outputId": "889cb4fe-368e-48de-d690-fc2543ffdba8"
      },
      "outputs": [
        {
          "output_type": "error",
          "ename": "RuntimeError",
          "evalue": "Expected all tensors to be on the same device, but found at least two devices, cuda:0 and cpu!",
          "traceback": [
            "\u001b[0;31m---------------------------------------------------------------------------\u001b[0m",
            "\u001b[0;31mRuntimeError\u001b[0m                              Traceback (most recent call last)",
            "\u001b[0;32m<ipython-input-106-a8ac3ddb637c>\u001b[0m in \u001b[0;36m<cell line: 1>\u001b[0;34m()\u001b[0m\n\u001b[0;32m----> 1\u001b[0;31m \u001b[0mdata_pt_1\u001b[0m \u001b[0;34m+\u001b[0m \u001b[0mdata_pt_2\u001b[0m\u001b[0;34m\u001b[0m\u001b[0;34m\u001b[0m\u001b[0m\n\u001b[0m",
            "\u001b[0;31mRuntimeError\u001b[0m: Expected all tensors to be on the same device, but found at least two devices, cuda:0 and cpu!"
          ]
        }
      ],
      "source": [
        "data_pt_1 + data_pt_2"
      ]
    },
    {
      "cell_type": "code",
      "execution_count": 107,
      "metadata": {
        "colab": {
          "base_uri": "https://localhost:8080/"
        },
        "id": "PxIaltCa1Guz",
        "outputId": "aee0d66f-9d39-4ed8-d6c9-06ae28f370de"
      },
      "outputs": [
        {
          "output_type": "execute_result",
          "data": {
            "text/plain": [
              "tensor([[-1.9146,  1.1559,  1.0944],\n",
              "        [-1.4360,  0.5579, -1.2503],\n",
              "        [-0.4797, -0.1407,  1.1251]], device='cuda:0')"
            ]
          },
          "metadata": {},
          "execution_count": 107
        }
      ],
      "source": [
        "data_pt_1 + data_pt_2.to(data_pt_1.device)"
      ]
    },
    {
      "cell_type": "code",
      "execution_count": 108,
      "metadata": {
        "colab": {
          "base_uri": "https://localhost:8080/"
        },
        "id": "RWiyMR7e1Guz",
        "outputId": "5ffa1a89-b4ed-44c1-ee5d-96edb1f7e90c"
      },
      "outputs": [
        {
          "output_type": "execute_result",
          "data": {
            "text/plain": [
              "device(type='cpu')"
            ]
          },
          "metadata": {},
          "execution_count": 108
        }
      ],
      "source": [
        "data_pt_2.device"
      ]
    },
    {
      "cell_type": "markdown",
      "metadata": {
        "id": "krBATgVM1Guz"
      },
      "source": [
        "#### Поддержка \"особенных\" типов на GPU"
      ]
    },
    {
      "cell_type": "markdown",
      "metadata": {
        "id": "vIGb14La1Guz"
      },
      "source": [
        "https://docs.nvidia.com/deeplearning/tensorrt/support-matrix/index.html#hardware-precision-matrix"
      ]
    },
    {
      "cell_type": "code",
      "execution_count": 109,
      "metadata": {
        "id": "xEVvqj6-1Guz"
      },
      "outputs": [],
      "source": [
        "data_pt = torch.randn(3, 3).type(torch.float16).to(device)"
      ]
    },
    {
      "cell_type": "code",
      "execution_count": 110,
      "metadata": {
        "colab": {
          "base_uri": "https://localhost:8080/"
        },
        "id": "_7UeFWal1Guz",
        "outputId": "6ca950cc-7794-4d6b-9ba1-68eaf3911012"
      },
      "outputs": [
        {
          "output_type": "execute_result",
          "data": {
            "text/plain": [
              "tensor([[1.7373, 1.0791, 1.0215],\n",
              "        [1.1260, 3.5508, 2.5234],\n",
              "        [2.7559, 0.6465, 1.6465]], device='cuda:0', dtype=torch.float16)"
            ]
          },
          "metadata": {},
          "execution_count": 110
        }
      ],
      "source": [
        "data_pt + 1"
      ]
    },
    {
      "cell_type": "code",
      "execution_count": 111,
      "metadata": {
        "id": "z5iQCW5y1Guz"
      },
      "outputs": [],
      "source": [
        "data_pt = torch.randn(3, 3).type(torch.int8).to(device)"
      ]
    },
    {
      "cell_type": "code",
      "execution_count": 112,
      "metadata": {
        "colab": {
          "base_uri": "https://localhost:8080/"
        },
        "id": "eLvx54Zj1Guz",
        "outputId": "77c5437f-0268-4fb8-a7dd-fed634309bfa"
      },
      "outputs": [
        {
          "output_type": "execute_result",
          "data": {
            "text/plain": [
              "tensor([[2, 1, 2],\n",
              "        [0, 0, 1],\n",
              "        [1, 1, 2]], device='cuda:0', dtype=torch.int8)"
            ]
          },
          "metadata": {},
          "execution_count": 112
        }
      ],
      "source": [
        "data_pt + 1"
      ]
    },
    {
      "cell_type": "markdown",
      "metadata": {
        "id": "wnLzz1Ku1Guz"
      },
      "source": [
        "Прекрасно, что `pytorch` умеет делать все то же, что и `numpy`.\n",
        "Но зачем он нужен, если *уже есть* `numpy`?"
      ]
    },
    {
      "cell_type": "markdown",
      "metadata": {
        "tags": [],
        "id": "CfS9htDK1Guz"
      },
      "source": [
        "## 2. Автоматическое дифференцирование"
      ]
    },
    {
      "cell_type": "markdown",
      "metadata": {
        "id": "j-DsBngs1Gu0"
      },
      "source": [
        "Вспомним, что алгебраические выражения можно интерпретировать как вычислительные графы:\n",
        "\n",
        "* $f(x) = w1 \\times x + w2 \\times y + w3 \\rightarrow $\n",
        "\n",
        "![comp_graph_03](https://i.ibb.co/f8yv1Kc/aim-seminar01-compgraphs-11-1.png)\n",
        "\n",
        "На прошлом семинаре мы считали градиенты руками, а теперь у нас есть `torch`:"
      ]
    },
    {
      "cell_type": "markdown",
      "metadata": {
        "id": "V3IR0Ysr1Gu0"
      },
      "source": [
        "#### `.backward()`"
      ]
    },
    {
      "cell_type": "code",
      "execution_count": 113,
      "metadata": {
        "id": "JVa6-I6E1Gu0"
      },
      "outputs": [],
      "source": [
        "def f(x, y, w1, w2, w3):\n",
        "    return w1 * x + w2 * y + w3"
      ]
    },
    {
      "cell_type": "code",
      "execution_count": 114,
      "metadata": {
        "colab": {
          "base_uri": "https://localhost:8080/"
        },
        "id": "qi6XG5F91Gu0",
        "outputId": "57d2d423-e07f-4eab-e2a6-f39357b7d204"
      },
      "outputs": [
        {
          "output_type": "execute_result",
          "data": {
            "text/plain": [
              "False"
            ]
          },
          "metadata": {},
          "execution_count": 114
        }
      ],
      "source": [
        "x = torch.tensor([1.])\n",
        "x.requires_grad"
      ]
    },
    {
      "cell_type": "code",
      "execution_count": 115,
      "metadata": {
        "colab": {
          "base_uri": "https://localhost:8080/"
        },
        "id": "T9Ic7G7p1Gu0",
        "outputId": "72660651-99ee-44ed-d7f1-1f109b21b228"
      },
      "outputs": [
        {
          "output_type": "execute_result",
          "data": {
            "text/plain": [
              "False"
            ]
          },
          "metadata": {},
          "execution_count": 115
        }
      ],
      "source": [
        "y = torch.tensor([2.])\n",
        "y.requires_grad"
      ]
    },
    {
      "cell_type": "markdown",
      "metadata": {
        "id": "U8g-hcuS1Gu0"
      },
      "source": [
        "Для \"включения\" градиентов у переменной, нужно об этом прямо заявить:"
      ]
    },
    {
      "cell_type": "code",
      "execution_count": 116,
      "metadata": {
        "colab": {
          "base_uri": "https://localhost:8080/"
        },
        "id": "ICxKfM4i1Gu0",
        "outputId": "f15b5843-5ced-4923-9074-e252ef567402"
      },
      "outputs": [
        {
          "output_type": "execute_result",
          "data": {
            "text/plain": [
              "True"
            ]
          },
          "metadata": {},
          "execution_count": 116
        }
      ],
      "source": [
        "w1 = torch.tensor([0.33])\n",
        "w1.requires_grad_(True)\n",
        "w1.requires_grad"
      ]
    },
    {
      "cell_type": "code",
      "execution_count": 117,
      "metadata": {
        "colab": {
          "base_uri": "https://localhost:8080/"
        },
        "id": "lCnXzyAQ1Gu0",
        "outputId": "45eb616e-31a5-4b9d-8b4f-62e8dbef1c6f"
      },
      "outputs": [
        {
          "output_type": "execute_result",
          "data": {
            "text/plain": [
              "True"
            ]
          },
          "metadata": {},
          "execution_count": 117
        }
      ],
      "source": [
        "w2 = torch.tensor([-1.5]).requires_grad_(True)\n",
        "w2.requires_grad"
      ]
    },
    {
      "cell_type": "code",
      "execution_count": 118,
      "metadata": {
        "colab": {
          "base_uri": "https://localhost:8080/"
        },
        "id": "MJTUsSvb1Gu1",
        "outputId": "08a28389-8f8e-4bb9-9a51-ae2bdc370b13"
      },
      "outputs": [
        {
          "output_type": "execute_result",
          "data": {
            "text/plain": [
              "True"
            ]
          },
          "metadata": {},
          "execution_count": 118
        }
      ],
      "source": [
        "w3 = torch.tensor([0.01], requires_grad=True)\n",
        "w3.requires_grad"
      ]
    },
    {
      "cell_type": "code",
      "execution_count": 119,
      "metadata": {
        "id": "WJjE9z7U1Gu1"
      },
      "outputs": [],
      "source": [
        "variables = [x, y, w1, w2, w3]\n",
        "names = [\"x\", \"y\", \"w1\", \"w2\", \"w3\"]"
      ]
    },
    {
      "cell_type": "code",
      "execution_count": 120,
      "metadata": {
        "colab": {
          "base_uri": "https://localhost:8080/"
        },
        "id": "S-kWhDaa1Gu1",
        "outputId": "cff54092-59b0-4a18-bb4a-adfac100edcd"
      },
      "outputs": [
        {
          "output_type": "stream",
          "name": "stdout",
          "text": [
            "name\tval\tgrad\n",
            "x\t1.000\tNone\n",
            "y\t2.000\tNone\n",
            "w1\t0.330\tNone\n",
            "w2\t-1.500\tNone\n",
            "w3\t0.010\tNone\n"
          ]
        }
      ],
      "source": [
        "print(\"name\\tval\\tgrad\")\n",
        "for n, v in zip(names, variables):\n",
        "    print(f\"{n}\\t{v.item():2.3f}\\t{v.grad}\")"
      ]
    },
    {
      "cell_type": "markdown",
      "metadata": {
        "id": "j8lkqpQr1Gu1"
      },
      "source": [
        "Еще раз насладимся магией автоматического дифференцирования:"
      ]
    },
    {
      "cell_type": "code",
      "execution_count": 121,
      "metadata": {
        "colab": {
          "base_uri": "https://localhost:8080/"
        },
        "id": "xghPAVoI1Gu1",
        "outputId": "2edee3ad-7ed9-4a9f-cdec-d7ad812fa052"
      },
      "outputs": [
        {
          "output_type": "execute_result",
          "data": {
            "text/plain": [
              "tensor([-2.6600], grad_fn=<AddBackward0>)"
            ]
          },
          "metadata": {},
          "execution_count": 121
        }
      ],
      "source": [
        "output = f(x, y, w1, w2, w3)\n",
        "output"
      ]
    },
    {
      "cell_type": "code",
      "execution_count": 122,
      "metadata": {
        "colab": {
          "base_uri": "https://localhost:8080/"
        },
        "id": "XiQuacy-1Gu1",
        "outputId": "5a4552a1-ccc5-4bc1-dfec-f08dc83e394c"
      },
      "outputs": [
        {
          "output_type": "stream",
          "name": "stdout",
          "text": [
            "name\tval\tgrad\n",
            "x\t1.000\tNone\n",
            "y\t2.000\tNone\n",
            "w1\t0.330\tNone\n",
            "w2\t-1.500\tNone\n",
            "w3\t0.010\tNone\n"
          ]
        }
      ],
      "source": [
        "print(\"name\\tval\\tgrad\")\n",
        "for n, v in zip(names, variables):\n",
        "    print(f\"{n}\\t{v.item():2.3f}\\t{v.grad}\")"
      ]
    },
    {
      "cell_type": "code",
      "execution_count": 123,
      "metadata": {
        "id": "lM2kkT3h1Gu1"
      },
      "outputs": [],
      "source": [
        "output.backward()"
      ]
    },
    {
      "cell_type": "code",
      "execution_count": 124,
      "metadata": {
        "colab": {
          "base_uri": "https://localhost:8080/"
        },
        "id": "kbQgSZzK1Gu1",
        "outputId": "01e75422-4a60-4a87-bd0c-834c354897ff"
      },
      "outputs": [
        {
          "output_type": "stream",
          "name": "stdout",
          "text": [
            "name\tval\tgrad\n",
            "x\t1.000\tNone\n",
            "y\t2.000\tNone\n",
            "w1\t0.330\ttensor([1.])\n",
            "w2\t-1.500\ttensor([2.])\n",
            "w3\t0.010\ttensor([1.])\n"
          ]
        }
      ],
      "source": [
        "print(\"name\\tval\\tgrad\")\n",
        "for n, v in zip(names, variables):\n",
        "    print(f\"{n}\\t{v.item():2.3f}\\t{v.grad}\")"
      ]
    },
    {
      "cell_type": "markdown",
      "metadata": {
        "id": "Ium9tmnx1Gu2"
      },
      "source": [
        "Попробуем вызвать `backward()` еще раз:"
      ]
    },
    {
      "cell_type": "code",
      "execution_count": 125,
      "metadata": {
        "colab": {
          "base_uri": "https://localhost:8080/",
          "height": 321
        },
        "id": "aWcdhbp61Gu2",
        "outputId": "4c9ad161-96ca-4481-9fe7-e1db517f34ed"
      },
      "outputs": [
        {
          "output_type": "error",
          "ename": "RuntimeError",
          "evalue": "Trying to backward through the graph a second time (or directly access saved tensors after they have already been freed). Saved intermediate values of the graph are freed when you call .backward() or autograd.grad(). Specify retain_graph=True if you need to backward through the graph a second time or if you need to access saved tensors after calling backward.",
          "traceback": [
            "\u001b[0;31m---------------------------------------------------------------------------\u001b[0m",
            "\u001b[0;31mRuntimeError\u001b[0m                              Traceback (most recent call last)",
            "\u001b[0;32m<ipython-input-125-fd597dbf8335>\u001b[0m in \u001b[0;36m<cell line: 1>\u001b[0;34m()\u001b[0m\n\u001b[0;32m----> 1\u001b[0;31m \u001b[0moutput\u001b[0m\u001b[0;34m.\u001b[0m\u001b[0mbackward\u001b[0m\u001b[0;34m(\u001b[0m\u001b[0;34m)\u001b[0m\u001b[0;34m\u001b[0m\u001b[0;34m\u001b[0m\u001b[0m\n\u001b[0m",
            "\u001b[0;32m/usr/local/lib/python3.10/dist-packages/torch/_tensor.py\u001b[0m in \u001b[0;36mbackward\u001b[0;34m(self, gradient, retain_graph, create_graph, inputs)\u001b[0m\n\u001b[1;32m    519\u001b[0m                 \u001b[0minputs\u001b[0m\u001b[0;34m=\u001b[0m\u001b[0minputs\u001b[0m\u001b[0;34m,\u001b[0m\u001b[0;34m\u001b[0m\u001b[0;34m\u001b[0m\u001b[0m\n\u001b[1;32m    520\u001b[0m             )\n\u001b[0;32m--> 521\u001b[0;31m         torch.autograd.backward(\n\u001b[0m\u001b[1;32m    522\u001b[0m             \u001b[0mself\u001b[0m\u001b[0;34m,\u001b[0m \u001b[0mgradient\u001b[0m\u001b[0;34m,\u001b[0m \u001b[0mretain_graph\u001b[0m\u001b[0;34m,\u001b[0m \u001b[0mcreate_graph\u001b[0m\u001b[0;34m,\u001b[0m \u001b[0minputs\u001b[0m\u001b[0;34m=\u001b[0m\u001b[0minputs\u001b[0m\u001b[0;34m\u001b[0m\u001b[0;34m\u001b[0m\u001b[0m\n\u001b[1;32m    523\u001b[0m         )\n",
            "\u001b[0;32m/usr/local/lib/python3.10/dist-packages/torch/autograd/__init__.py\u001b[0m in \u001b[0;36mbackward\u001b[0;34m(tensors, grad_tensors, retain_graph, create_graph, grad_variables, inputs)\u001b[0m\n\u001b[1;32m    287\u001b[0m     \u001b[0;31m# some Python versions print out the first line of a multi-line function\u001b[0m\u001b[0;34m\u001b[0m\u001b[0;34m\u001b[0m\u001b[0m\n\u001b[1;32m    288\u001b[0m     \u001b[0;31m# calls in the traceback and some print out the last line\u001b[0m\u001b[0;34m\u001b[0m\u001b[0;34m\u001b[0m\u001b[0m\n\u001b[0;32m--> 289\u001b[0;31m     _engine_run_backward(\n\u001b[0m\u001b[1;32m    290\u001b[0m         \u001b[0mtensors\u001b[0m\u001b[0;34m,\u001b[0m\u001b[0;34m\u001b[0m\u001b[0;34m\u001b[0m\u001b[0m\n\u001b[1;32m    291\u001b[0m         \u001b[0mgrad_tensors_\u001b[0m\u001b[0;34m,\u001b[0m\u001b[0;34m\u001b[0m\u001b[0;34m\u001b[0m\u001b[0m\n",
            "\u001b[0;32m/usr/local/lib/python3.10/dist-packages/torch/autograd/graph.py\u001b[0m in \u001b[0;36m_engine_run_backward\u001b[0;34m(t_outputs, *args, **kwargs)\u001b[0m\n\u001b[1;32m    767\u001b[0m         \u001b[0munregister_hooks\u001b[0m \u001b[0;34m=\u001b[0m \u001b[0m_register_logging_hooks_on_whole_graph\u001b[0m\u001b[0;34m(\u001b[0m\u001b[0mt_outputs\u001b[0m\u001b[0;34m)\u001b[0m\u001b[0;34m\u001b[0m\u001b[0;34m\u001b[0m\u001b[0m\n\u001b[1;32m    768\u001b[0m     \u001b[0;32mtry\u001b[0m\u001b[0;34m:\u001b[0m\u001b[0;34m\u001b[0m\u001b[0;34m\u001b[0m\u001b[0m\n\u001b[0;32m--> 769\u001b[0;31m         return Variable._execution_engine.run_backward(  # Calls into the C++ engine to run the backward pass\n\u001b[0m\u001b[1;32m    770\u001b[0m             \u001b[0mt_outputs\u001b[0m\u001b[0;34m,\u001b[0m \u001b[0;34m*\u001b[0m\u001b[0margs\u001b[0m\u001b[0;34m,\u001b[0m \u001b[0;34m**\u001b[0m\u001b[0mkwargs\u001b[0m\u001b[0;34m\u001b[0m\u001b[0;34m\u001b[0m\u001b[0m\n\u001b[1;32m    771\u001b[0m         )  # Calls into the C++ engine to run the backward pass\n",
            "\u001b[0;31mRuntimeError\u001b[0m: Trying to backward through the graph a second time (or directly access saved tensors after they have already been freed). Saved intermediate values of the graph are freed when you call .backward() or autograd.grad(). Specify retain_graph=True if you need to backward through the graph a second time or if you need to access saved tensors after calling backward."
          ]
        }
      ],
      "source": [
        "output.backward()"
      ]
    },
    {
      "cell_type": "markdown",
      "metadata": {
        "id": "RlIKJDnn1Gu2"
      },
      "source": [
        "**Вопрос:** зачем может быть нужно делать `backward()` больше одного раза?"
      ]
    },
    {
      "cell_type": "code",
      "execution_count": 126,
      "metadata": {
        "id": "CB6PRn481Gu2"
      },
      "outputs": [],
      "source": [
        "del output\n",
        "for var in variables:\n",
        "    var.grad = None"
      ]
    },
    {
      "cell_type": "code",
      "execution_count": 127,
      "metadata": {
        "colab": {
          "base_uri": "https://localhost:8080/"
        },
        "id": "i80Xd_l91Gu2",
        "outputId": "dec8aeaa-0646-411d-ff79-3208bb99c526"
      },
      "outputs": [
        {
          "output_type": "stream",
          "name": "stdout",
          "text": [
            "name\tval\tgrad\n",
            "x\t1.000\tNone\n",
            "y\t2.000\tNone\n",
            "w1\t0.330\tNone\n",
            "w2\t-1.500\tNone\n",
            "w3\t0.010\tNone\n"
          ]
        }
      ],
      "source": [
        "print(\"name\\tval\\tgrad\")\n",
        "for n, v in zip(names, variables):\n",
        "    print(f\"{n}\\t{v.item():2.3f}\\t{v.grad}\")"
      ]
    },
    {
      "cell_type": "code",
      "execution_count": 128,
      "metadata": {
        "colab": {
          "base_uri": "https://localhost:8080/"
        },
        "id": "of0x-n4a1Gu2",
        "outputId": "b144ed2c-d95b-44a2-e9ab-b1327dd3c961"
      },
      "outputs": [
        {
          "output_type": "execute_result",
          "data": {
            "text/plain": [
              "tensor([-2.6600], grad_fn=<AddBackward0>)"
            ]
          },
          "metadata": {},
          "execution_count": 128
        }
      ],
      "source": [
        "output = f(x, y, w1, w2, w3)\n",
        "output"
      ]
    },
    {
      "cell_type": "code",
      "execution_count": 129,
      "metadata": {
        "id": "bnJplqns1Gu2"
      },
      "outputs": [],
      "source": [
        "output.backward(retain_graph=True)"
      ]
    },
    {
      "cell_type": "code",
      "execution_count": 130,
      "metadata": {
        "colab": {
          "base_uri": "https://localhost:8080/"
        },
        "id": "rOD2qYCv1Gu2",
        "outputId": "39c0b68e-3fc7-4c89-f4e5-ba9286d576ab"
      },
      "outputs": [
        {
          "output_type": "stream",
          "name": "stdout",
          "text": [
            "name\tval\tgrad\n",
            "x\t1.000\tNone\n",
            "y\t2.000\tNone\n",
            "w1\t0.330\ttensor([1.])\n",
            "w2\t-1.500\ttensor([2.])\n",
            "w3\t0.010\ttensor([1.])\n"
          ]
        }
      ],
      "source": [
        "print(\"name\\tval\\tgrad\")\n",
        "for n, v in zip(names, variables):\n",
        "    print(f\"{n}\\t{v.item():2.3f}\\t{v.grad}\")"
      ]
    },
    {
      "cell_type": "code",
      "execution_count": 131,
      "metadata": {
        "id": "2NYjWEsI1Gu5"
      },
      "outputs": [],
      "source": [
        "output.backward()"
      ]
    },
    {
      "cell_type": "code",
      "execution_count": 132,
      "metadata": {
        "colab": {
          "base_uri": "https://localhost:8080/"
        },
        "id": "61JuBxxn1Gu5",
        "outputId": "63a93869-2485-42e4-ebd8-ef6c9d501f6c"
      },
      "outputs": [
        {
          "output_type": "stream",
          "name": "stdout",
          "text": [
            "name\tval\tgrad\n",
            "x\t1.000\tNone\n",
            "y\t2.000\tNone\n",
            "w1\t0.330\ttensor([2.])\n",
            "w2\t-1.500\ttensor([4.])\n",
            "w3\t0.010\ttensor([2.])\n"
          ]
        }
      ],
      "source": [
        "print(\"name\\tval\\tgrad\")\n",
        "for n, v in zip(names, variables):\n",
        "    print(f\"{n}\\t{v.item():2.3f}\\t{v.grad}\")"
      ]
    },
    {
      "cell_type": "code",
      "execution_count": 133,
      "metadata": {
        "colab": {
          "base_uri": "https://localhost:8080/",
          "height": 321
        },
        "id": "a3Sm-Fqi1Gu5",
        "outputId": "ca4c57b4-87ec-4dae-dab6-c0255bec9fb6"
      },
      "outputs": [
        {
          "output_type": "error",
          "ename": "RuntimeError",
          "evalue": "Trying to backward through the graph a second time (or directly access saved tensors after they have already been freed). Saved intermediate values of the graph are freed when you call .backward() or autograd.grad(). Specify retain_graph=True if you need to backward through the graph a second time or if you need to access saved tensors after calling backward.",
          "traceback": [
            "\u001b[0;31m---------------------------------------------------------------------------\u001b[0m",
            "\u001b[0;31mRuntimeError\u001b[0m                              Traceback (most recent call last)",
            "\u001b[0;32m<ipython-input-133-fd597dbf8335>\u001b[0m in \u001b[0;36m<cell line: 1>\u001b[0;34m()\u001b[0m\n\u001b[0;32m----> 1\u001b[0;31m \u001b[0moutput\u001b[0m\u001b[0;34m.\u001b[0m\u001b[0mbackward\u001b[0m\u001b[0;34m(\u001b[0m\u001b[0;34m)\u001b[0m\u001b[0;34m\u001b[0m\u001b[0;34m\u001b[0m\u001b[0m\n\u001b[0m",
            "\u001b[0;32m/usr/local/lib/python3.10/dist-packages/torch/_tensor.py\u001b[0m in \u001b[0;36mbackward\u001b[0;34m(self, gradient, retain_graph, create_graph, inputs)\u001b[0m\n\u001b[1;32m    519\u001b[0m                 \u001b[0minputs\u001b[0m\u001b[0;34m=\u001b[0m\u001b[0minputs\u001b[0m\u001b[0;34m,\u001b[0m\u001b[0;34m\u001b[0m\u001b[0;34m\u001b[0m\u001b[0m\n\u001b[1;32m    520\u001b[0m             )\n\u001b[0;32m--> 521\u001b[0;31m         torch.autograd.backward(\n\u001b[0m\u001b[1;32m    522\u001b[0m             \u001b[0mself\u001b[0m\u001b[0;34m,\u001b[0m \u001b[0mgradient\u001b[0m\u001b[0;34m,\u001b[0m \u001b[0mretain_graph\u001b[0m\u001b[0;34m,\u001b[0m \u001b[0mcreate_graph\u001b[0m\u001b[0;34m,\u001b[0m \u001b[0minputs\u001b[0m\u001b[0;34m=\u001b[0m\u001b[0minputs\u001b[0m\u001b[0;34m\u001b[0m\u001b[0;34m\u001b[0m\u001b[0m\n\u001b[1;32m    523\u001b[0m         )\n",
            "\u001b[0;32m/usr/local/lib/python3.10/dist-packages/torch/autograd/__init__.py\u001b[0m in \u001b[0;36mbackward\u001b[0;34m(tensors, grad_tensors, retain_graph, create_graph, grad_variables, inputs)\u001b[0m\n\u001b[1;32m    287\u001b[0m     \u001b[0;31m# some Python versions print out the first line of a multi-line function\u001b[0m\u001b[0;34m\u001b[0m\u001b[0;34m\u001b[0m\u001b[0m\n\u001b[1;32m    288\u001b[0m     \u001b[0;31m# calls in the traceback and some print out the last line\u001b[0m\u001b[0;34m\u001b[0m\u001b[0;34m\u001b[0m\u001b[0m\n\u001b[0;32m--> 289\u001b[0;31m     _engine_run_backward(\n\u001b[0m\u001b[1;32m    290\u001b[0m         \u001b[0mtensors\u001b[0m\u001b[0;34m,\u001b[0m\u001b[0;34m\u001b[0m\u001b[0;34m\u001b[0m\u001b[0m\n\u001b[1;32m    291\u001b[0m         \u001b[0mgrad_tensors_\u001b[0m\u001b[0;34m,\u001b[0m\u001b[0;34m\u001b[0m\u001b[0;34m\u001b[0m\u001b[0m\n",
            "\u001b[0;32m/usr/local/lib/python3.10/dist-packages/torch/autograd/graph.py\u001b[0m in \u001b[0;36m_engine_run_backward\u001b[0;34m(t_outputs, *args, **kwargs)\u001b[0m\n\u001b[1;32m    767\u001b[0m         \u001b[0munregister_hooks\u001b[0m \u001b[0;34m=\u001b[0m \u001b[0m_register_logging_hooks_on_whole_graph\u001b[0m\u001b[0;34m(\u001b[0m\u001b[0mt_outputs\u001b[0m\u001b[0;34m)\u001b[0m\u001b[0;34m\u001b[0m\u001b[0;34m\u001b[0m\u001b[0m\n\u001b[1;32m    768\u001b[0m     \u001b[0;32mtry\u001b[0m\u001b[0;34m:\u001b[0m\u001b[0;34m\u001b[0m\u001b[0;34m\u001b[0m\u001b[0m\n\u001b[0;32m--> 769\u001b[0;31m         return Variable._execution_engine.run_backward(  # Calls into the C++ engine to run the backward pass\n\u001b[0m\u001b[1;32m    770\u001b[0m             \u001b[0mt_outputs\u001b[0m\u001b[0;34m,\u001b[0m \u001b[0;34m*\u001b[0m\u001b[0margs\u001b[0m\u001b[0;34m,\u001b[0m \u001b[0;34m**\u001b[0m\u001b[0mkwargs\u001b[0m\u001b[0;34m\u001b[0m\u001b[0;34m\u001b[0m\u001b[0m\n\u001b[1;32m    771\u001b[0m         )  # Calls into the C++ engine to run the backward pass\n",
            "\u001b[0;31mRuntimeError\u001b[0m: Trying to backward through the graph a second time (or directly access saved tensors after they have already been freed). Saved intermediate values of the graph are freed when you call .backward() or autograd.grad(). Specify retain_graph=True if you need to backward through the graph a second time or if you need to access saved tensors after calling backward."
          ]
        }
      ],
      "source": [
        "output.backward()"
      ]
    },
    {
      "cell_type": "markdown",
      "metadata": {
        "id": "gq8EUTkU1Gu5"
      },
      "source": [
        "#### `torch.no_grad()`"
      ]
    },
    {
      "cell_type": "markdown",
      "metadata": {
        "id": "SitaD6xD1Gu6"
      },
      "source": [
        "Данный контекст гарантирует, что во всех вычислениях внутри него будут отключены градиенты."
      ]
    },
    {
      "cell_type": "code",
      "execution_count": 134,
      "metadata": {
        "id": "AoVT4Hxh1Gu6"
      },
      "outputs": [],
      "source": [
        "x = torch.randn(64, 512, 16, 16)\n",
        "x.requires_grad_(True);"
      ]
    },
    {
      "cell_type": "code",
      "execution_count": 135,
      "metadata": {
        "id": "Oqjl4ZMS1Gu6"
      },
      "outputs": [],
      "source": [
        "y = (10 * x).sum()"
      ]
    },
    {
      "cell_type": "code",
      "execution_count": 136,
      "metadata": {
        "colab": {
          "base_uri": "https://localhost:8080/"
        },
        "id": "OWxeoGxh1Gu6",
        "outputId": "5badd07f-16a9-4703-d721-0b991d65d85c"
      },
      "outputs": [
        {
          "output_type": "execute_result",
          "data": {
            "text/plain": [
              "True"
            ]
          },
          "metadata": {},
          "execution_count": 136
        }
      ],
      "source": [
        "y.requires_grad"
      ]
    },
    {
      "cell_type": "code",
      "execution_count": 137,
      "metadata": {
        "id": "m_n2FYqy1Gu6"
      },
      "outputs": [],
      "source": [
        "with torch.no_grad():\n",
        "    z = (100 * x).sum()"
      ]
    },
    {
      "cell_type": "code",
      "execution_count": 138,
      "metadata": {
        "colab": {
          "base_uri": "https://localhost:8080/"
        },
        "id": "xkndik4y1Gu6",
        "outputId": "e04159ae-166b-4e23-a989-442f43f01869"
      },
      "outputs": [
        {
          "output_type": "execute_result",
          "data": {
            "text/plain": [
              "False"
            ]
          },
          "metadata": {},
          "execution_count": 138
        }
      ],
      "source": [
        "z.requires_grad"
      ]
    },
    {
      "cell_type": "code",
      "execution_count": 139,
      "metadata": {
        "colab": {
          "base_uri": "https://localhost:8080/"
        },
        "id": "dXwhVCib1Gu6",
        "outputId": "437aa514-02b4-4055-fde4-457268caa27d"
      },
      "outputs": [
        {
          "output_type": "execute_result",
          "data": {
            "text/plain": [
              "True"
            ]
          },
          "metadata": {},
          "execution_count": 139
        }
      ],
      "source": [
        "x.requires_grad"
      ]
    },
    {
      "cell_type": "markdown",
      "metadata": {
        "id": "eEhnw3V41Gu6"
      },
      "source": [
        "Зачем это может быть нужно?\n",
        "\n",
        "Посмотрим на потребление памяти при использовании функции активации сигмоида:"
      ]
    },
    {
      "cell_type": "code",
      "execution_count": 140,
      "metadata": {
        "id": "6Ea4jJ6N1Gu7"
      },
      "outputs": [],
      "source": [
        "import torch\n",
        "\n",
        "device = torch.device(\"cuda:0\")\n",
        "\n",
        "from torch.nn import Sigmoid"
      ]
    },
    {
      "cell_type": "code",
      "execution_count": 141,
      "metadata": {
        "id": "pyTZPldz1Gu7"
      },
      "outputs": [],
      "source": [
        "bytes_in_kilobyte = 1024\n",
        "\n",
        "def get_allocated_memory():\n",
        "    mem_MB = torch.cuda.memory_allocated(device=device) / bytes_in_kilobyte\n",
        "    return round(mem_MB, 3)\n",
        "\n",
        "def get_tensor_memory(t):\n",
        "    mem_MB = t.nelement() * t.element_size() / bytes_in_kilobyte\n",
        "    return round(mem_MB, 3)"
      ]
    },
    {
      "cell_type": "code",
      "execution_count": 143,
      "metadata": {
        "colab": {
          "base_uri": "https://localhost:8080/"
        },
        "id": "D76xMuQE1Gu7",
        "outputId": "d3166d80-87d2-4cb0-bb43-72ad200a1417"
      },
      "outputs": [
        {
          "output_type": "execute_result",
          "data": {
            "text/plain": [
              "8322.5"
            ]
          },
          "metadata": {},
          "execution_count": 143
        }
      ],
      "source": [
        "torch.cuda.empty_cache()\n",
        "get_allocated_memory()"
      ]
    },
    {
      "cell_type": "code",
      "execution_count": 144,
      "metadata": {
        "colab": {
          "base_uri": "https://localhost:8080/"
        },
        "id": "YLTr4b_i1Gu7",
        "outputId": "67419308-e3e5-4531-9077-a838d9af81f3"
      },
      "outputs": [
        {
          "output_type": "execute_result",
          "data": {
            "text/plain": [
              "8322.5"
            ]
          },
          "metadata": {},
          "execution_count": 144
        }
      ],
      "source": [
        "s = Sigmoid().to(device)\n",
        "get_allocated_memory()"
      ]
    },
    {
      "cell_type": "code",
      "execution_count": 145,
      "metadata": {
        "colab": {
          "base_uri": "https://localhost:8080/"
        },
        "id": "5-_CJKKU1Gu7",
        "outputId": "2d5959cb-6fdc-411f-f1a9-892128c5fbc5"
      },
      "outputs": [
        {
          "output_type": "execute_result",
          "data": {
            "text/plain": [
              "32768.0"
            ]
          },
          "metadata": {},
          "execution_count": 145
        }
      ],
      "source": [
        "x = torch.randn(64, 512, 16, 16).to(device)\n",
        "x.requires_grad_(True);\n",
        "get_tensor_memory(x)"
      ]
    },
    {
      "cell_type": "code",
      "execution_count": 146,
      "metadata": {
        "colab": {
          "base_uri": "https://localhost:8080/"
        },
        "id": "G1D_OT761Gu8",
        "outputId": "745c54a1-45f9-4b49-e492-2afea969684b"
      },
      "outputs": [
        {
          "output_type": "execute_result",
          "data": {
            "text/plain": [
              "32768.0"
            ]
          },
          "metadata": {},
          "execution_count": 146
        }
      ],
      "source": [
        "64 * 512 * 16 * 16 * 4 / 1024"
      ]
    },
    {
      "cell_type": "code",
      "execution_count": 147,
      "metadata": {
        "colab": {
          "base_uri": "https://localhost:8080/"
        },
        "id": "ctEdQ8S31Gu8",
        "outputId": "5e7acdf4-1a6f-4f5f-f02a-1f9d0ce075de"
      },
      "outputs": [
        {
          "output_type": "execute_result",
          "data": {
            "text/plain": [
              "41090.5"
            ]
          },
          "metadata": {},
          "execution_count": 147
        }
      ],
      "source": [
        "get_allocated_memory()"
      ]
    },
    {
      "cell_type": "code",
      "execution_count": 148,
      "metadata": {
        "colab": {
          "base_uri": "https://localhost:8080/"
        },
        "id": "CjyaLYGf1Gu8",
        "outputId": "b46524ca-a6f2-4842-c5ca-39138118366f"
      },
      "outputs": [
        {
          "output_type": "execute_result",
          "data": {
            "text/plain": [
              "0.004"
            ]
          },
          "metadata": {},
          "execution_count": 148
        }
      ],
      "source": [
        "y = s(x).mean()\n",
        "get_tensor_memory(y)"
      ]
    },
    {
      "cell_type": "code",
      "execution_count": 149,
      "metadata": {
        "colab": {
          "base_uri": "https://localhost:8080/"
        },
        "id": "hXbvgpeX1Gu8",
        "outputId": "8b981ffb-9cca-4281-9bd4-f593bb7b8fa5"
      },
      "outputs": [
        {
          "output_type": "execute_result",
          "data": {
            "text/plain": [
              "73859.0"
            ]
          },
          "metadata": {},
          "execution_count": 149
        }
      ],
      "source": [
        "get_allocated_memory()"
      ]
    },
    {
      "cell_type": "code",
      "execution_count": 150,
      "metadata": {
        "colab": {
          "base_uri": "https://localhost:8080/"
        },
        "id": "g498ZH-A1Gu8",
        "outputId": "d41c04f6-c96e-4267-adab-48f3ea4e287c"
      },
      "outputs": [
        {
          "output_type": "execute_result",
          "data": {
            "text/plain": [
              "73859.0"
            ]
          },
          "metadata": {},
          "execution_count": 150
        }
      ],
      "source": [
        "y.backward()\n",
        "get_allocated_memory()"
      ]
    },
    {
      "cell_type": "markdown",
      "metadata": {
        "id": "iMz00wrm1Gu8"
      },
      "source": [
        "Сделаем то же самое, но с `torch.no_grad()`:"
      ]
    },
    {
      "cell_type": "code",
      "execution_count": 151,
      "metadata": {
        "colab": {
          "base_uri": "https://localhost:8080/"
        },
        "id": "e6eibxHR1Gu8",
        "outputId": "bc114646-156e-4e11-e483-89464acc45f6"
      },
      "outputs": [
        {
          "output_type": "execute_result",
          "data": {
            "text/plain": [
              "73859.0"
            ]
          },
          "metadata": {},
          "execution_count": 151
        }
      ],
      "source": [
        "# torch.cuda.empty_cache()\n",
        "get_allocated_memory()"
      ]
    },
    {
      "cell_type": "code",
      "execution_count": 152,
      "metadata": {
        "colab": {
          "base_uri": "https://localhost:8080/"
        },
        "id": "cqXTKOcf1Gu9",
        "outputId": "0411e100-64af-44bc-cce1-584353c869b9"
      },
      "outputs": [
        {
          "output_type": "execute_result",
          "data": {
            "text/plain": [
              "73859.0"
            ]
          },
          "metadata": {},
          "execution_count": 152
        }
      ],
      "source": [
        "s = Sigmoid().to(device)\n",
        "get_allocated_memory()"
      ]
    },
    {
      "cell_type": "code",
      "execution_count": 153,
      "metadata": {
        "colab": {
          "base_uri": "https://localhost:8080/"
        },
        "id": "nSEHoZY71Gu9",
        "outputId": "aee08bf2-4b06-49b5-c000-34cd2013761e"
      },
      "outputs": [
        {
          "output_type": "execute_result",
          "data": {
            "text/plain": [
              "32768.0"
            ]
          },
          "metadata": {},
          "execution_count": 153
        }
      ],
      "source": [
        "x = torch.randn(64, 512, 16, 16).to(device)\n",
        "x.requires_grad_(True);\n",
        "get_tensor_memory(x)"
      ]
    },
    {
      "cell_type": "code",
      "execution_count": 154,
      "metadata": {
        "colab": {
          "base_uri": "https://localhost:8080/"
        },
        "id": "Knw8Yhez1Gu9",
        "outputId": "6ae8d214-63c4-4095-c582-a6863af9ebba"
      },
      "outputs": [
        {
          "output_type": "execute_result",
          "data": {
            "text/plain": [
              "106627.0"
            ]
          },
          "metadata": {},
          "execution_count": 154
        }
      ],
      "source": [
        "get_allocated_memory()"
      ]
    },
    {
      "cell_type": "code",
      "execution_count": 155,
      "metadata": {
        "colab": {
          "base_uri": "https://localhost:8080/"
        },
        "id": "gu-CDGaK1Gu9",
        "outputId": "cd3d6369-2678-41e0-beb5-b64349b7004f"
      },
      "outputs": [
        {
          "output_type": "execute_result",
          "data": {
            "text/plain": [
              "0.004"
            ]
          },
          "metadata": {},
          "execution_count": 155
        }
      ],
      "source": [
        "with torch.no_grad():\n",
        "    y = s(x).mean()\n",
        "get_tensor_memory(y)"
      ]
    },
    {
      "cell_type": "code",
      "execution_count": 156,
      "metadata": {
        "colab": {
          "base_uri": "https://localhost:8080/"
        },
        "id": "IDPv8Ul71Gu9",
        "outputId": "6290718f-696c-47de-c236-95b65a0b76aa"
      },
      "outputs": [
        {
          "output_type": "execute_result",
          "data": {
            "text/plain": [
              "41091.0"
            ]
          },
          "metadata": {},
          "execution_count": 156
        }
      ],
      "source": [
        "get_allocated_memory()"
      ]
    },
    {
      "cell_type": "markdown",
      "metadata": {
        "id": "-x19upo71Gu9"
      },
      "source": [
        "Почему потребление памяти уменьшилось?\n",
        "Подробнее [тут](https://medium.com/deep-learning-for-protein-design/a-comprehensive-guide-to-memory-usage-in-pytorch-b9b7c78031d3) или [тут](https://pytorch.org/tutorials/recipes/recipes/tuning_guide.html)."
      ]
    },
    {
      "cell_type": "markdown",
      "metadata": {
        "id": "05ja4fR31Gu9"
      },
      "source": [
        "## 3. Пример задачи регрессии"
      ]
    },
    {
      "cell_type": "code",
      "execution_count": 157,
      "metadata": {
        "id": "TNAs_Cih1Gu9"
      },
      "outputs": [],
      "source": [
        "import numpy as np\n",
        "import matplotlib.pyplot as plt\n",
        "import tqdm\n",
        "import torch"
      ]
    },
    {
      "cell_type": "code",
      "execution_count": 158,
      "metadata": {
        "colab": {
          "base_uri": "https://localhost:8080/",
          "height": 465
        },
        "id": "x-MJTkgW1Gu9",
        "outputId": "47c0ddf0-9d43-42fc-b67d-726ba1ae161b"
      },
      "outputs": [
        {
          "output_type": "display_data",
          "data": {
            "text/plain": [
              "<Figure size 1200x500 with 1 Axes>"
            ],
            "image/png": "[encoded data removed]"
          },
          "metadata": {}
        }
      ],
      "source": [
        "np.random.seed(1234)\n",
        "_a = np.random.uniform(1, 5)\n",
        "_b = np.random.uniform(-3, 3)\n",
        "_c = np.random.uniform(-3, 3)\n",
        "\n",
        "num_samples = 100\n",
        "\n",
        "xs = np.random.uniform(-3, 3, size=num_samples)\n",
        "ys_clean = _a * xs ** 2 + _b * xs + _c\n",
        "ys_noise = np.random.normal(0, 1, size=len(ys_clean))\n",
        "ys = ys_clean + ys_noise\n",
        "\n",
        "plt.figure(figsize=(12, 5))\n",
        "plt.scatter(xs, ys, label=\"gt\", s=5)\n",
        "plt.xlabel(\"x\")\n",
        "plt.ylabel(\"y\")\n",
        "plt.legend()\n",
        "plt.grid(True)"
      ]
    },
    {
      "cell_type": "code",
      "execution_count": 159,
      "metadata": {
        "id": "uOwE5-Ur1Gu-"
      },
      "outputs": [],
      "source": [
        "def model(x, a, b, c):\n",
        "    return a * x ** 2 + b * x + c"
      ]
    },
    {
      "cell_type": "code",
      "execution_count": 160,
      "metadata": {
        "id": "kebLCXNq1Gu-"
      },
      "outputs": [],
      "source": [
        "# device = torch.device(\"cuda:0\")\n",
        "device = torch.device(\"cpu\")"
      ]
    },
    {
      "cell_type": "markdown",
      "metadata": {
        "id": "937HxxqL1Gu-"
      },
      "source": [
        "Создадим переменные `xs_device` и `ys_device`, которые будут содержать обучающие данные сразу на нужном девайсе в виде тензоров.\n",
        "\n",
        "**Вопрос:** `requires_grad=True` или `requires_grad=False`?"
      ]
    },
    {
      "cell_type": "code",
      "execution_count": 161,
      "metadata": {
        "id": "4dAouREa1Gu-"
      },
      "outputs": [],
      "source": [
        "# YOUR CODE HERE\n",
        "xs_device = torch.tensor(xs, device=device, requires_grad=False)\n",
        "ys_device = torch.tensor(ys, device=device, requires_grad=False)\n",
        "# END OF YOUR CODE"
      ]
    },
    {
      "cell_type": "markdown",
      "metadata": {
        "id": "V2eTTlAF1Gu-"
      },
      "source": [
        "Теперь инициализируем веса `a`, `b` и `c` нормальным распределением:"
      ]
    },
    {
      "cell_type": "code",
      "execution_count": 162,
      "metadata": {
        "id": "hGypAXVW1Gu-"
      },
      "outputs": [],
      "source": [
        "# YOUR CODE HERE\n",
        "a = torch.randn(1, device=device, requires_grad=True)\n",
        "b = torch.randn(1, device=device, requires_grad=True)\n",
        "c = torch.randn(1, device=device, requires_grad=True)\n",
        "# END OF YOUR CODE"
      ]
    },
    {
      "cell_type": "markdown",
      "metadata": {
        "id": "VkfWib5M1Gu-"
      },
      "source": [
        "Допишем рутину обучения, чтобы получить значения весов модели."
      ]
    },
    {
      "cell_type": "code",
      "execution_count": 163,
      "metadata": {
        "colab": {
          "base_uri": "https://localhost:8080/"
        },
        "id": "Tzml75Ks1Gu-",
        "outputId": "8f38a3a0-1ab6-480b-d2c4-c04a00821ea4"
      },
      "outputs": [
        {
          "output_type": "stream",
          "name": "stderr",
          "text": [
            "100%|██████████| 300/300 [00:07<00:00, 41.49it/s]\n"
          ]
        }
      ],
      "source": [
        "num_epochs = 300\n",
        "lr = 1e-4\n",
        "indices = np.arange(len(xs))\n",
        "\n",
        "loss_list, a_list, b_list, c_list = [], [], [], []\n",
        "\n",
        "for epoch in tqdm.trange(num_epochs):\n",
        "    np.random.shuffle(indices)\n",
        "\n",
        "    loss_epoch = []\n",
        "    for i in indices:\n",
        "        # YOUR CODE HERE\n",
        "        x      = xs_device[i]\n",
        "        y_true = ys_device[i]\n",
        "        y_pred = model(x,a,b,c)\n",
        "        loss = (y_true - y_pred)**2\n",
        "        loss.backward()\n",
        "        # END OF YOUR CODE\n",
        "\n",
        "        with torch.no_grad():\n",
        "            #a.data -= lr * a.grad.data\n",
        "            #b.data -= lr * b.grad.data\n",
        "            #c.data -= lr * c.grad.data\n",
        "            a -= lr * a.grad\n",
        "            b -= lr * b.grad\n",
        "            c -= lr * c.grad\n",
        "            a.grad.zero_()\n",
        "            b.grad.zero_()\n",
        "            c.grad.zero_()\n",
        "\n",
        "        loss_epoch.append(loss.item())\n",
        "\n",
        "    loss_list.append(np.mean(loss_epoch))\n",
        "    a_list.append(a.item())\n",
        "    b_list.append(b.item())\n",
        "    c_list.append(c.item())"
      ]
    },
    {
      "cell_type": "markdown",
      "metadata": {
        "id": "dY3fljl91Gu-"
      },
      "source": [
        "А теперь посмотрим на результаты:"
      ]
    },
    {
      "cell_type": "code",
      "execution_count": 164,
      "metadata": {
        "id": "VCqVRQiR1Gu_"
      },
      "outputs": [],
      "source": [
        "xs_sorted = np.sort(xs)\n",
        "\n",
        "ys_pred_per_epoch = []\n",
        "for epoch in range(num_epochs):\n",
        "    a_epoch = a_list[epoch]\n",
        "    b_epoch = b_list[epoch]\n",
        "    c_epoch = c_list[epoch]\n",
        "    with torch.no_grad():\n",
        "        ys_pred_epoch = model(xs_sorted, a_epoch, b_epoch, c_epoch)\n",
        "    ys_pred_per_epoch.append(ys_pred_epoch)"
      ]
    },
    {
      "cell_type": "code",
      "execution_count": 165,
      "metadata": {
        "colab": {
          "base_uri": "https://localhost:8080/",
          "height": 465
        },
        "id": "MhZ8q2ee1Gu_",
        "outputId": "61e8daa4-1ef8-4a73-d10b-53aa832f5361"
      },
      "outputs": [
        {
          "output_type": "display_data",
          "data": {
            "text/plain": [
              "<Figure size 1200x500 with 1 Axes>"
            ],
            "image/png": "[encoded data removed]"
          },
          "metadata": {}
        }
      ],
      "source": [
        "plt.figure(figsize=(12, 5))\n",
        "plt.scatter(xs, ys, label=\"gt\", s=5, c=\"r\")\n",
        "plt.plot(xs_sorted, ys_pred_per_epoch[-1], label=\"pred\", c=\"g\")\n",
        "plt.xlabel(\"x\")\n",
        "plt.ylabel(\"y\")\n",
        "plt.legend()\n",
        "plt.grid(True)\n",
        "plt.show()"
      ]
    },
    {
      "cell_type": "markdown",
      "metadata": {
        "id": "v0546x5J1Gu_"
      },
      "source": [
        "Если есть нужные зависимости у `jupyterlab` (**осторожно, может все сломать**), можно сделать интерактивно:"
      ]
    },
    {
      "cell_type": "code",
      "execution_count": null,
      "metadata": {
        "id": "5372C_F_1Gu_"
      },
      "outputs": [],
      "source": [
        "#!pip install ipympl"
      ]
    },
    {
      "cell_type": "code",
      "execution_count": null,
      "metadata": {
        "id": "3br4k6Iw1Gu_"
      },
      "outputs": [],
      "source": [
        "%matplotlib ipympl\n",
        "from ipywidgets import *\n",
        "import numpy as np\n",
        "import matplotlib.pyplot as plt\n",
        "\n",
        "x = xs_sorted\n",
        "\n",
        "def f(x, i):\n",
        "    return model(x, a_list[i], b_list[i], c_list[i])\n",
        "\n",
        "fig = plt.figure(figsize=(12, 5))\n",
        "ax = fig.add_subplot(1, 1, 1)\n",
        "ax.set_xlabel(\"x\")\n",
        "ax.set_ylabel(\"y\")\n",
        "\n",
        "ax.scatter(xs, ys, label=\"gt\", s=5, c=\"r\")\n",
        "line, = ax.plot(x, f(x, i), label=\"pred\", c=\"g\")\n",
        "\n",
        "ax.legend()\n",
        "ax.grid(True)\n",
        "\n",
        "\n",
        "def update(i=0):\n",
        "    line.set_ydata(f(x, i))\n",
        "    fig.canvas.draw_idle()\n",
        "\n",
        "interact(update, i=(0,num_epochs-1,1));"
      ]
    },
    {
      "cell_type": "code",
      "execution_count": null,
      "metadata": {
        "id": "aKwoIAwr1Gu_"
      },
      "outputs": [],
      "source": [
        "plt.figure(figsize=(12, 5))\n",
        "\n",
        "plt.subplot(1, 2, 1)\n",
        "plt.plot(loss_list)\n",
        "plt.xlabel(\"epoch\")\n",
        "plt.ylabel(\"loss\")\n",
        "plt.grid(True)\n",
        "plt.yscale(\"log\")\n",
        "\n",
        "plt.subplot(1, 2, 2)\n",
        "for p_name, p_gt, p_list, color in zip((\"a\", \"b\", \"c\"), (_a, _b, _c), (a_list, b_list, c_list), (\"r\", \"g\", \"b\")):\n",
        "    plt.hlines(y=p_gt, xmin=0, xmax=num_epochs, linestyles=\"dashed\", colors=color)\n",
        "    plt.scatter(range(len(p_list)), p_list, label=p_name, s=1, c=color)\n",
        "plt.xlabel(\"epoch\")\n",
        "plt.ylabel(\"param value\")\n",
        "plt.legend()\n",
        "plt.grid(True)\n",
        "\n",
        "plt.show()"
      ]
    },
    {
      "cell_type": "markdown",
      "metadata": {
        "id": "08p49dSL1Gu_"
      },
      "source": [
        "**Вопрос:** если бы это была \"настоящая\" задача, что следовало бы изменить в данном пайплайне?"
      ]
    },
    {
      "cell_type": "markdown",
      "metadata": {
        "id": "nR3JGDu41Gu_"
      },
      "source": [
        "## 4. Переопределение `backward`"
      ]
    },
    {
      "cell_type": "markdown",
      "metadata": {
        "id": "g616ocbHv78t"
      },
      "source": [
        "Что, если нам хочется релизовать кстомный градиент для произвольной функции.\n",
        "\n",
        "Зачем?\n",
        "\n",
        " - Мы можем знать лучший способ посчитать градиент, чем делать бэкпроп для суперпозиции элементарных функций\n",
        " - Можем реализовать численно более устойчивый метод\n",
        " - Можем использовать функции из внешних библиотек\n",
        " - Использовать недифференцируемые функции?.."
      ]
    },
    {
      "cell_type": "markdown",
      "metadata": {
        "id": "nkYTgy6ZO_Ru"
      },
      "source": [
        "Рассмотрим сигмоиду:\n",
        "\n",
        "$$\n",
        "  \\sigma(x) = \\frac{1}{1+e^{-x}}\n",
        "$$\n",
        "\n",
        "Если честно распишем суперпозицию функций, то получим:\n",
        "\n",
        "$$\n",
        "  \\sigma(x) = f_1 \\odot f_2  \\odot f_3 \\odot f_4(x), where\n",
        "$$\n",
        "\n",
        "$$\n",
        "f_1 = \\frac{1}{u}, f_2 = 1 + u, f_3 = \\exp(u), f_4 = -u\n",
        "$$\n",
        "\n",
        "Тогда:\n",
        "\n",
        "$$\n",
        "\\frac{\\partial \\sigma}{\\partial x} = \\frac{\\partial \\sigma}{\\partial f_2}\\frac{\\partial f_2}{\\partial f_3}\n",
        "\\frac{\\partial f_3}{\\partial f_4}\n",
        "\\frac{\\partial f_4}{\\partial x}\n",
        "$$\n",
        "\n",
        "Но зная как устроена производная можно упростить:\n",
        "\n",
        "$$\n",
        "\\frac{\\partial \\sigma}{\\partial x} = \\sigma(x)(1 - \\sigma(x))\n",
        "$$"
      ]
    },
    {
      "cell_type": "markdown",
      "metadata": {
        "id": "DRpFQBmuR-V_"
      },
      "source": [
        "Вручную задать градиени функции в библиотеке PyTorch можно создав дочерний класс от [`torch.autograd.Function`](https://pytorch.org/docs/stable/notes/extending.html#extending-torch-autograd).\n",
        "\n",
        "**NB**: Для того, чтобы сделать `backward()`, требуется знать результат `forward()`. Для этого у переменной контекста есть метод [`save_for_backward()`](https://pytorch.org/docs/stable/generated/torch.autograd.function.FunctionCtx.save_for_backward.html)."
      ]
    },
    {
      "cell_type": "code",
      "execution_count": 168,
      "metadata": {
        "id": "okxelJTDO9_L"
      },
      "outputs": [],
      "source": [
        "class MySigmoid(torch.autograd.Function):\n",
        "    @staticmethod\n",
        "    def forward(ctx, x):\n",
        "        # YOUR CODE HERE\n",
        "\n",
        "        ctx.save_for_backward(x)\n",
        "        val = 1. / (1. + torch.exp(-x))\n",
        "\n",
        "        # END OF YOUR CODE\n",
        "        return val\n",
        "\n",
        "    @staticmethod\n",
        "    def backward(ctx, grad_output):\n",
        "        # YOUR CODE HERE\n",
        "\n",
        "        x, = ctx.saved_tensors\n",
        "        # Compute the sigmoid output again\n",
        "        sigmoid_x = 1 / (1 + torch.exp(-x))\n",
        "        # Compute the gradient of the sigmoid function\n",
        "        grad = grad_output * sigmoid_x * (1 - sigmoid_x)\n",
        "\n",
        "        # END OF YOUR CODE\n",
        "        return grad"
      ]
    },
    {
      "cell_type": "code",
      "execution_count": 169,
      "metadata": {
        "id": "n89TIozkVt27"
      },
      "outputs": [],
      "source": [
        "from torch.autograd import gradcheck"
      ]
    },
    {
      "cell_type": "code",
      "execution_count": 170,
      "metadata": {
        "colab": {
          "base_uri": "https://localhost:8080/"
        },
        "id": "42MVi8npWlAR",
        "outputId": "2a25ef92-1639-4b94-be1d-9cbfc3f2e0f7"
      },
      "outputs": [
        {
          "output_type": "stream",
          "name": "stderr",
          "text": [
            "/usr/local/lib/python3.10/dist-packages/torch/autograd/gradcheck.py:920: UserWarning: Input #0 requires gradient and is not a double precision floating point or complex. This check will likely fail if all the inputs are not of double precision floating point or complex. \n",
            "  warnings.warn(\n"
          ]
        },
        {
          "output_type": "stream",
          "name": "stdout",
          "text": [
            "True\n",
            "True\n"
          ]
        }
      ],
      "source": [
        "sigmoid = MySigmoid.apply\n",
        "x = torch.rand(2, requires_grad=True)\n",
        "print(gradcheck(sigmoid, x, eps=1e-4, atol=1e-3))\n",
        "\n",
        "# be sure to use double for better approximation\n",
        "x = torch.rand(2, requires_grad=True).double()\n",
        "print(gradcheck(sigmoid, x, eps=1e-6, atol=1e-4))"
      ]
    },
    {
      "cell_type": "markdown",
      "metadata": {
        "id": "aXYgzHcz7E_1"
      },
      "source": [
        "PyTorch умеет считать матрицу Якоби или матрицу Гессе для заданной функции."
      ]
    },
    {
      "cell_type": "code",
      "execution_count": 171,
      "metadata": {
        "id": "a65TCapsZBlf"
      },
      "outputs": [],
      "source": [
        "from torch.autograd.functional import hessian, jacobian"
      ]
    },
    {
      "cell_type": "code",
      "execution_count": 172,
      "metadata": {
        "colab": {
          "base_uri": "https://localhost:8080/"
        },
        "id": "nS-DSoplZ6E_",
        "outputId": "83d6e50f-30ae-4dc1-cb5c-ccab09335d1f"
      },
      "outputs": [
        {
          "output_type": "execute_result",
          "data": {
            "text/plain": [
              "tensor([[0.2134, 0.0000],\n",
              "        [0.0000, 0.2216]], dtype=torch.float64)"
            ]
          },
          "metadata": {},
          "execution_count": 172
        }
      ],
      "source": [
        "jacobian(sigmoid, x)"
      ]
    },
    {
      "cell_type": "code",
      "execution_count": 173,
      "metadata": {
        "id": "z_nXiJsFXoDR"
      },
      "outputs": [],
      "source": [
        "def sum_sigmoid(x):\n",
        "    return torch.sum(sigmoid(x))"
      ]
    },
    {
      "cell_type": "code",
      "execution_count": 174,
      "metadata": {
        "colab": {
          "base_uri": "https://localhost:8080/"
        },
        "id": "446XtJM61GvB",
        "outputId": "98e587d6-eadb-4a79-c72c-f2668521874f"
      },
      "outputs": [
        {
          "output_type": "execute_result",
          "data": {
            "text/plain": [
              "tensor([[-0.0816,  0.0000],\n",
              "        [ 0.0000, -0.0747]], dtype=torch.float64)"
            ]
          },
          "metadata": {},
          "execution_count": 174
        }
      ],
      "source": [
        "hessian(sum_sigmoid, x)"
      ]
    },
    {
      "cell_type": "markdown",
      "metadata": {
        "id": "vLPPlL6Sj39B"
      },
      "source": [
        "## Итоги\n",
        "\n",
        "* Узнали, что такое `pytorch` и как в нем работать с тензорами\n",
        "* Немного погрели GPU, запустив вычисления на нем\n",
        "* Решили пример задачи, используя только библиотеку `pytorch`\n",
        "* Написали собственную реализацию сигмоидальной нелинейности"
      ]
    },
    {
      "cell_type": "markdown",
      "metadata": {
        "id": "phKrXBSE1GvB"
      },
      "source": [
        "Что еще почитать:\n",
        "* [A gentle introduction to `torch.autograd`](https://pytorch.org/tutorials/beginner/blitz/autograd_tutorial.html)\n",
        "* [Extending pytorch](https://pytorch.org/docs/stable/notes/extending.html#extending-torch-autograd)"
      ]
    },
    {
      "cell_type": "markdown",
      "metadata": {
        "id": "bXsBe76X1GvB"
      },
      "source": [
        "В следующий раз:\n",
        "* (наконец-то) нейросети на pytorch"
      ]
    },
    {
      "cell_type": "code",
      "execution_count": null,
      "metadata": {
        "id": "gdWPt6O31GvB"
      },
      "outputs": [],
      "source": [
        "import torch\n",
        "import torch.nn as nn\n",
        "\n",
        "class CustomSigmoidFunction(torch.autograd.Function):\n",
        "    @staticmethod\n",
        "    def forward(ctx, x):\n",
        "        # Save the input for the backward pass\n",
        "        ctx.save_for_backward(x)\n",
        "        # Compute the sigmoid output\n",
        "        output = 1 / (1 + torch.exp(-x))\n",
        "        return output\n",
        "\n",
        "    @staticmethod\n",
        "    def backward(ctx, grad_output):\n",
        "        # Retrieve the input saved in the forward pass\n",
        "        x, = ctx.saved_tensors\n",
        "        # Compute the sigmoid output again\n",
        "        sigmoid_x = 1 / (1 + torch.exp(-x))\n",
        "        # Compute the gradient of the sigmoid function\n",
        "        grad_input = grad_output * sigmoid_x * (1 - sigmoid_x)\n",
        "        return grad_input\n",
        "\n",
        "class CustomSigmoid(nn.Module):\n",
        "    def __init__(self):\n",
        "        super(CustomSigmoid, self).__init__()\n",
        "\n",
        "    def forward(self, x):\n",
        "        return CustomSigmoidFunction.apply(x)\n",
        "\n",
        "# Example usage\n",
        "if __name__ == \"__main__\":\n",
        "    model = CustomSigmoid()\n",
        "    input_tensor = torch.tensor([0.0, 2.0, -2.0], requires_grad=True)\n",
        "    output_tensor = model(input_tensor)\n",
        "    print(f\"Output: {output_tensor}\")\n",
        "\n",
        "    # Perform a backward pass\n",
        "    output_tensor.sum().backward()\n",
        "    print(f\"Gradients: {input_tensor.grad}\")"
      ]
    }
  ],
  "metadata": {
    "accelerator": "GPU",
    "colab": {
      "provenance": []
    },
    "kernelspec": {
      "display_name": "Python 3 (ipykernel)",
      "language": "python",
      "name": "python3"
    },
    "language_info": {
      "codemirror_mode": {
        "name": "ipython",
        "version": 3
      },
      "file_extension": ".py",
      "mimetype": "text/x-python",
      "name": "python",
      "nbconvert_exporter": "python",
      "pygments_lexer": "ipython3",
      "version": "3.10.13"
    }
  },
  "nbformat": 4,
  "nbformat_minor": 0
}